{
 "cells": [
  {
   "cell_type": "code",
   "execution_count": 1,
   "source": [
    "from query import Filter, MatchType\r\n",
    "from family import Family\r\n",
    "from attributes import Parameter, Property"
   ],
   "outputs": [],
   "metadata": {}
  },
  {
   "cell_type": "code",
   "execution_count": 8,
   "source": [
    "param = Parameter('filter_parameter', \"\")\r\n",
    "prop = Property('Specific property', \"\")\r\n",
    "key = 'DOC-CSISpec'"
   ],
   "outputs": [],
   "metadata": {}
  },
  {
   "cell_type": "code",
   "execution_count": 9,
   "source": [
    "filt1 = Filter(ParameterName=param.Name, ParameterValue=param.Value, ParameterValueMatchType=MatchType.CONTAINS.value)\r\n",
    "filt2 = Filter(PropertyName=prop.Name, PropertyValue=prop.Value, PropertyValueMatchType=MatchType.CONTAINS.value)\r\n",
    "filt3 = Filter(FileKey=key)"
   ],
   "outputs": [],
   "metadata": {}
  },
  {
   "cell_type": "code",
   "execution_count": 10,
   "source": [
    "# fams = filt1.get_ids()\r\n",
    "# fams = filt2.get_ids()\r\n",
    "fams = filt3.get_ids()\r\n",
    "# print(len(fams2))\r\n",
    "print(fams)\r\n"
   ],
   "outputs": [
    {
     "output_type": "stream",
     "name": "stdout",
     "text": [
      "['8394a0be-bc94-4b8a-9aea-58769124c528', '4912f614-7fe7-4c78-855e-5f43fb819774', '40de3ca4-112b-46e9-8478-c21861c6c8b2', '9801f6f1-4fcd-4501-85bd-f6460a9412d3']\n"
     ]
    }
   ],
   "metadata": {}
  }
 ],
 "metadata": {
  "orig_nbformat": 4,
  "language_info": {
   "name": "python",
   "version": "3.8.5",
   "mimetype": "text/x-python",
   "codemirror_mode": {
    "name": "ipython",
    "version": 3
   },
   "pygments_lexer": "ipython3",
   "nbconvert_exporter": "python",
   "file_extension": ".py"
  },
  "kernelspec": {
   "name": "python3",
   "display_name": "Python 3.8.5 64-bit ('venv': venv)"
  },
  "interpreter": {
   "hash": "e51067d2f6be7bdc69cc790600142f68999599c9c8fe7e42393a2fecc546810f"
  }
 },
 "nbformat": 4,
 "nbformat_minor": 2
}