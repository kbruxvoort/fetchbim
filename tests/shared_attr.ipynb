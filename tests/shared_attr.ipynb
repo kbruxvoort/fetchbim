{
 "cells": [
  {
   "cell_type": "code",
   "execution_count": 1,
   "source": [
    "from query import SharedFile, SharedAttribute"
   ],
   "outputs": [],
   "metadata": {}
  },
  {
   "cell_type": "code",
   "execution_count": 2,
   "source": [
    "at = SharedAttribute('Shared Property', 'Shared Value')"
   ],
   "outputs": [],
   "metadata": {}
  },
  {
   "cell_type": "code",
   "execution_count": 3,
   "source": [
    "# sf = SharedFile.from_json(2)\r\n",
    "sf = SharedFile('Class test', PropertyName='Detail', PropertyValue='', ParameterValueMatchType=3, Attributes=[at])"
   ],
   "outputs": [],
   "metadata": {}
  },
  {
   "cell_type": "code",
   "execution_count": 4,
   "source": [
    "sf.post()"
   ],
   "outputs": [
    {
     "output_type": "stream",
     "name": "stdout",
     "text": [
      "{\"StatusCode\":500,\"Message\":\"Something went horribly, horribly wrong while servicing your request.\",\"Details\":\"Nancy.RequestExecutionException: Oh noes! ---\\u003e System.Data.SqlClient.SqlException: The parameterized query \\u0027(@CategoryName nvarchar(4000),@FamilyObjectType nvarchar(4000),@\\u0027 expects the parameter \\u0027@ParameterName\\u0027, which was not supplied.\\r\\n   at System.Data.SqlClient.SqlConnection.OnError(SqlException exception, Boolean breakConnection, Action`1 wrapCloseInAction)\\r\\n   at System.Data.SqlClient.TdsParser.ThrowExceptionAndWarning(TdsParserStateObject stateObj, Boolean callerHasConnectionLock, Boolean asyncClose)\\r\\n   at System.Data.SqlClient.TdsParser.TryRun(RunBehavior runBehavior, SqlCommand cmdHandler, SqlDataReader dataStream, BulkCopySimpleResultSet bulkCopyHandler, TdsParserStateObject stateObj, Boolean& dataReady)\\r\\n   at System.Data.SqlClient.SqlDataReader.TryConsumeMetaData()\\r\\n   at System.Data.SqlClient.SqlDataReader.get_MetaData()\\r\\n   at System.Data.SqlClient.SqlCommand.FinishExecuteReader(SqlDataReader ds, RunBehavior runBehavior, String resetOptionsString, Boolean isInternal, Boolean forDescribeParameterEncryption, Boolean shouldCacheForAlwaysEncrypted)\\r\\n   at System.Data.SqlClient.SqlCommand.RunExecuteReaderTds(CommandBehavior cmdBehavior, RunBehavior runBehavior, Boolean returnStream, Boolean async, Int32 timeout, Task& task, Boolean asyncWrite, Boolean inRetry, SqlDataReader ds, Boolean describeParameterEncryptionRequest)\\r\\n   at System.Data.SqlClient.SqlCommand.RunExecuteReader(CommandBehavior cmdBehavior, RunBehavior runBehavior, Boolean returnStream, String method, TaskCompletionSource`1 completion, Int32 timeout, Task& task, Boolean& usedCache, Boolean asyncWrite, Boolean inRetry)\\r\\n   at System.Data.SqlClient.SqlCommand.RunExecuteReader(CommandBehavior cmdBehavior, RunBehavior runBehavior, Boolean returnStream, String method)\\r\\n   at System.Data.SqlClient.SqlCommand.ExecuteScalar()\\r\\n   at SSG.Planning.Revit.Website.DBHelper.ExecuteScalar(String query, SqlParameter[] parameters) in C:\\\\Users\\\\ebridges\\\\Documents\\\\Working Folder\\\\Planning\\\\SSG.Planning.Revit\\\\branches\\\\CR4\\\\SSG.Planning.Revit.Website\\\\DBHelper.cs:line 177\\r\\n   at SSG.Planning.Revit.Website.MainModule.\\u003c.ctor\\u003eb__0_21(Object parameters) in C:\\\\Users\\\\ebridges\\\\Documents\\\\Working Folder\\\\Planning\\\\SSG.Planning.Revit\\\\branches\\\\CR4\\\\SSG.Planning.Revit.Website\\\\MainModule.cs:line 849\\r\\n   at Nancy.Routing.Route.\\u003c\\u003ec__DisplayClass4.\\u003cWrap\\u003eb__3(Object parameters, CancellationToken context)\\r\\n   --- End of inner exception stack trace ---\\r\\n   at Nancy.NancyEngine.InvokeOnErrorHook(NancyContext context, ErrorPipeline pipeline, Exception ex)\"}\n"
     ]
    }
   ],
   "metadata": {}
  },
  {
   "cell_type": "code",
   "execution_count": 11,
   "source": [
    "sf.Description = 'Updated class test'\r\n",
    "sf.ParameterName = 'Manufacturer'\r\n",
    "sf.ParameterValue = 'HAM'\r\n",
    "sf.ParameterValueMatchType = 2\r\n",
    "sf.post()"
   ],
   "outputs": [],
   "metadata": {}
  },
  {
   "cell_type": "code",
   "execution_count": 13,
   "source": [
    "sf.Deleted = True\r\n",
    "sf.post()"
   ],
   "outputs": [],
   "metadata": {}
  },
  {
   "cell_type": "code",
   "execution_count": 14,
   "source": [
    "sf.Deleted = False\r\n",
    "sf.post()"
   ],
   "outputs": [],
   "metadata": {}
  },
  {
   "cell_type": "code",
   "execution_count": 15,
   "source": [
    "at2 = SharedAttribute('New Attribute', 'Not much', DataType='Text', ParameterType='Type', AttributeType=1)"
   ],
   "outputs": [],
   "metadata": {}
  },
  {
   "cell_type": "code",
   "execution_count": 16,
   "source": [
    "sf.Attributes.append(at2)\r\n",
    "sf.post()"
   ],
   "outputs": [],
   "metadata": {}
  },
  {
   "cell_type": "code",
   "execution_count": 17,
   "source": [
    "sf = SharedFile.get_json(9)\r\n",
    "sf"
   ],
   "outputs": [
    {
     "output_type": "execute_result",
     "data": {
      "text/plain": [
       "{'SharedFileId': 9,\n",
       " 'Description': 'Updated class test',\n",
       " 'Files': [],\n",
       " 'Attributes': [{'Name': 'Shared Property',\n",
       "   'Value': 'Shared Value',\n",
       "   'Deleted': False,\n",
       "   'DataType': None,\n",
       "   'ParameterType': None,\n",
       "   'Sort': 0,\n",
       "   'Hidden': False,\n",
       "   'AttributeType': 0,\n",
       "   'SharedAttributeId': 6,\n",
       "   'SharedFileId': 9},\n",
       "  {'Name': 'New Attribute',\n",
       "   'Value': 'Not much',\n",
       "   'Deleted': False,\n",
       "   'DataType': 'Text',\n",
       "   'ParameterType': 'Type',\n",
       "   'Sort': 0,\n",
       "   'Hidden': False,\n",
       "   'AttributeType': 1,\n",
       "   'SharedAttributeId': 7,\n",
       "   'SharedFileId': 9}],\n",
       " 'FamilyObjectType': None,\n",
       " 'CategoryName': None,\n",
       " 'ParameterName': 'Manufacturer',\n",
       " 'ParameterValue': 'HAM',\n",
       " 'ParameterValueMatchType': 2,\n",
       " 'UserId': 2,\n",
       " 'CreateDate': '2021-08-18T15:00:25.4830000-05:00',\n",
       " 'SharedFamilyCount': 86,\n",
       " 'SharedFileCount': 0,\n",
       " 'Families': [],\n",
       " 'Deleted': False}"
      ]
     },
     "metadata": {},
     "execution_count": 17
    }
   ],
   "metadata": {}
  }
 ],
 "metadata": {
  "orig_nbformat": 4,
  "language_info": {
   "name": "python",
   "version": "3.8.5",
   "mimetype": "text/x-python",
   "codemirror_mode": {
    "name": "ipython",
    "version": 3
   },
   "pygments_lexer": "ipython3",
   "nbconvert_exporter": "python",
   "file_extension": ".py"
  },
  "kernelspec": {
   "name": "python3",
   "display_name": "Python 3.8.5 64-bit ('venv': venv)"
  },
  "interpreter": {
   "hash": "e51067d2f6be7bdc69cc790600142f68999599c9c8fe7e42393a2fecc546810f"
  }
 },
 "nbformat": 4,
 "nbformat_minor": 2
}