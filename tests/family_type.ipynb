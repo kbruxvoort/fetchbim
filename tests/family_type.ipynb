{
 "cells": [
  {
   "cell_type": "code",
   "execution_count": 4,
   "source": [
    "from family import Family, FamilyType\r\n",
    "from attributes import Parameter"
   ],
   "outputs": [],
   "metadata": {}
  },
  {
   "cell_type": "code",
   "execution_count": 5,
   "source": [
    "fam = Family('912')\r\n",
    "p2 = {\r\n",
    "    \"Name\": \"Type Parameter\",\r\n",
    "    \"Value\": \"asdfdsf\",\r\n",
    "    \"Sort\": 0,\r\n",
    "    \"DataType\": \"Text\",\r\n",
    "    \"ParameterType\": \"Type\",\r\n",
    "    \"Hidden\": False,\r\n",
    "    \"ParameterId\": 0,\r\n",
    "    \"Deleted\": False,\r\n",
    "}"
   ],
   "outputs": [],
   "metadata": {}
  },
  {
   "cell_type": "code",
   "execution_count": 6,
   "source": [
    "fam.FamilyTypes"
   ],
   "outputs": [
    {
     "output_type": "execute_result",
     "data": {
      "text/plain": [
       "[]"
      ]
     },
     "metadata": {},
     "execution_count": 6
    }
   ],
   "metadata": {}
  },
  {
   "cell_type": "code",
   "execution_count": 7,
   "source": [
    "p = Parameter('Type Parameter', 'asdfdsf')\r\n",
    "ft = FamilyType('Newer Type API', Parameters=[p], IsDefault=True, FamilyId=fam.Id)\r\n",
    "# fam.FamilyTypes = []\r\n",
    "fam.add_type(ft)"
   ],
   "outputs": [],
   "metadata": {}
  },
  {
   "cell_type": "code",
   "execution_count": 8,
   "source": [
    "fam.post()"
   ],
   "outputs": [
    {
     "output_type": "stream",
     "name": "stdout",
     "text": [
      "{'Id': '7b13db81-cf4e-4f1d-8cda-1382f4ff3cda', 'ReferenceId': None, 'Name': 'Newer Type API', 'FamilyName': None, 'Parameters': [{'Name': 'Type Parameter', 'Value': 'asdfdsf', 'Modified': False, 'OldValue': None, 'IsFormula': False, 'Sort': 0, 'DataType': 'Text', 'ParameterType': 'Type', 'Hidden': False, 'ParameterId': 0, 'Deleted': False, 'IsCalculated': False, 'CalculatedFormula': '', 'CalculatedValue': None}], 'Files': [], 'FamilyInstances': [], 'Sort': None, 'IsDefault': True, 'ListPrice': 0, 'Modified': False, 'OldName': None, 'InstanceCount': 0, 'FamilyId': '8cdeb613-2c90-4738-b197-77d1dc823bab', 'Deleted': False}\n"
     ]
    }
   ],
   "metadata": {}
  },
  {
   "cell_type": "code",
   "execution_count": 27,
   "source": [
    "fam.FamilyTypes"
   ],
   "outputs": [
    {
     "output_type": "execute_result",
     "data": {
      "text/plain": [
       "[FamilyType(New Type API, [{'Name': 'Type Parameter', 'Value': 'asdfdsf', 'Modified': False, 'OldValue': None, 'IsFormula': False, 'Sort': 0, 'DataType': 'Text', 'ParameterType': 'Type', 'Hidden': False, 'ParameterId': 0, 'Deleted': False, 'IsCalculated': False, 'CalculatedFormula': '', 'CalculatedValue': None}], [], True, False, 344fd586-7690-430f-8d08-23c910b6d664, 8f4dbd64-ee8d-4225-84df-119b74d180d2)]"
      ]
     },
     "metadata": {},
     "execution_count": 27
    }
   ],
   "metadata": {}
  }
 ],
 "metadata": {
  "orig_nbformat": 4,
  "language_info": {
   "name": "python",
   "version": "3.8.5",
   "mimetype": "text/x-python",
   "codemirror_mode": {
    "name": "ipython",
    "version": 3
   },
   "pygments_lexer": "ipython3",
   "nbconvert_exporter": "python",
   "file_extension": ".py"
  },
  "kernelspec": {
   "name": "python3",
   "display_name": "Python 3.8.5 64-bit ('venv': venv)"
  },
  "interpreter": {
   "hash": "e51067d2f6be7bdc69cc790600142f68999599c9c8fe7e42393a2fecc546810f"
  }
 },
 "nbformat": 4,
 "nbformat_minor": 2
}