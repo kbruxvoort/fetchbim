{
 "cells": [
  {
   "cell_type": "code",
   "execution_count": 2,
   "source": [
    "from fetchbim.family import Family\r\n",
    "from fetchbim.query import Filter\r\n",
    "from fetchbim.admin import get_family"
   ],
   "outputs": [],
   "metadata": {}
  },
  {
   "cell_type": "code",
   "execution_count": 13,
   "source": [
    "lab_filter = Filter(FamilyObjectType='ModelGroup', CategoryName='Model Groups/Modular Casework/Laminate/Lab')\r\n",
    "families = lab_filter.query()\r\n",
    "# print(families[-1])\r\n",
    "# print(len(families))\r\n",
    "len(families)"
   ],
   "outputs": [
    {
     "output_type": "execute_result",
     "data": {
      "text/plain": [
       "35"
      ]
     },
     "metadata": {},
     "execution_count": 13
    }
   ],
   "metadata": {}
  },
  {
   "cell_type": "markdown",
   "source": [
    "### This important section\r\n",
    "> Bullet point\r\n",
    "what is this"
   ],
   "metadata": {}
  },
  {
   "cell_type": "code",
   "execution_count": 12,
   "source": [
    "for fam_dict in families:\r\n",
    "    fam = Family.from_json(fam_dict)\r\n",
    "    full_fam = Family.from_json(get_family(fam.Id))\r\n",
    "    if full_fam.Name.startswith('SSG'):\r\n",
    "        full_fam.delete()\r\n",
    "    else:\r\n",
    "        full_fam.Name = \"SSG_\" + full_fam.Name\r\n",
    "        print(f'Posting {full_fam.Name} {full_fam.Id}')\r\n",
    "        full_fam.post()\r\n",
    "\r\n"
   ],
   "outputs": [
    {
     "output_type": "stream",
     "name": "stdout",
     "text": [
      "Posting SSG_Casework_Lab_LAM_05_01 060c5a44-8f1e-45e1-a8f9-06c48f4aab16\n",
      "Procedure or function 'InsertFamilyFile' expects parameter '@FileData', which was not supplied.\n",
      "Posting SSG_Casework_Lab_LAM_08_02 3fd26bc2-2bc5-4808-9e65-0df2d4f22627\n",
      "Procedure or function 'InsertFamilyFile' expects parameter '@FileData', which was not supplied.\n",
      "Posting SSG_Casework_Lab_LAM_08_03 670cd65f-f2a8-4877-b07a-2a98377c70a4\n",
      "Procedure or function 'InsertFamilyFile' expects parameter '@FileData', which was not supplied.\n",
      "Posting SSG_Casework_Lab_LAM_07_04 40fb132a-e1da-4cc2-a334-3fa3f590daeb\n",
      "Procedure or function 'InsertFamilyFile' expects parameter '@FileData', which was not supplied.\n",
      "Posting SSG_Casework_Lab_LAM_08_05 a775a476-56c9-44a6-b975-504d32df0cbf\n",
      "Procedure or function 'InsertFamilyFile' expects parameter '@FileData', which was not supplied.\n",
      "Posting SSG_Casework_Lab_LAM_10_03 f54f7fc9-cd40-44f2-9879-537f1a2bda2a\n",
      "Procedure or function 'InsertFamilyFile' expects parameter '@FileData', which was not supplied.\n",
      "Posting SSG_Casework_Lab_LAM_06_01 fb887610-d6f7-48a8-9708-58e6464c257c\n",
      "Procedure or function 'InsertFamilyFile' expects parameter '@FileData', which was not supplied.\n",
      "Posting SSG_Casework_Lab_LAM_05_06 566ce6e7-ff98-4875-8c73-5951bfef752f\n",
      "Procedure or function 'InsertFamilyFile' expects parameter '@FileData', which was not supplied.\n",
      "Posting SSG_Casework_Lab_LAM_09_01 52be9db1-3705-4813-ab36-606a30e8efd7\n",
      "Procedure or function 'InsertFamilyFile' expects parameter '@FileData', which was not supplied.\n",
      "Posting SSG_Casework_Lab_LAM_10_01 323b836b-771b-4a2a-9177-631a661e5edc\n",
      "Procedure or function 'InsertFamilyFile' expects parameter '@FileData', which was not supplied.\n",
      "Posting SSG_Casework_Lab_LAM_08_04 9bc9f7af-c3cc-4a5f-ae7a-693f3989116d\n",
      "Procedure or function 'InsertFamilyFile' expects parameter '@FileData', which was not supplied.\n",
      "Posting SSG_Casework_Lab_LAM_08_06 935f5474-99d0-495e-8ba3-6ef7b696127a\n",
      "Procedure or function 'InsertFamilyFile' expects parameter '@FileData', which was not supplied.\n",
      "Posting SSG_Casework_Lab_LAM_06_04 f3bd1573-67f0-461a-8cee-75f59879e2a6\n",
      "Procedure or function 'InsertFamilyFile' expects parameter '@FileData', which was not supplied.\n",
      "Posting SSG_Casework_Lab_LAM_10_04 95ce68d8-25cc-4751-b2f6-7faf8c5daf05\n",
      "Procedure or function 'InsertFamilyFile' expects parameter '@FileData', which was not supplied.\n",
      "Posting SSG_Casework_Lab_LAM_07_01 b99ce4da-db52-47ee-a364-846bbab75ba4\n",
      "Procedure or function 'InsertFamilyFile' expects parameter '@FileData', which was not supplied.\n",
      "Posting SSG_Casework_Lab_LAM_06_06 78388c4c-6666-4471-a969-8574395d058e\n",
      "Procedure or function 'InsertFamilyFile' expects parameter '@FileData', which was not supplied.\n",
      "Posting SSG_Casework_Lab_LAM_10_06 9b07f9d7-3860-4795-a18d-93ebe6950f42\n",
      "Procedure or function 'InsertFamilyFile' expects parameter '@FileData', which was not supplied.\n",
      "Posting SSG_Casework_Lab_LAM_09_06 a64ab1c7-4a0e-4c01-bb41-9dc9dd49b001\n",
      "Procedure or function 'InsertFamilyFile' expects parameter '@FileData', which was not supplied.\n",
      "Posting SSG_Casework_Lab_LAM_06_02 40dfe243-1d7c-46b7-b6e7-9eda3554868e\n",
      "Procedure or function 'InsertFamilyFile' expects parameter '@FileData', which was not supplied.\n",
      "Posting SSG_Casework_Lab_LAM_08_01 70de65e9-e6ca-4a18-8c07-a83929c4c6e4\n",
      "Procedure or function 'InsertFamilyFile' expects parameter '@FileData', which was not supplied.\n",
      "Posting SSG_Casework_Lab_LAM_07_03 d98d087b-ed6e-4b31-86c4-ac57f3edad01\n",
      "Procedure or function 'InsertFamilyFile' expects parameter '@FileData', which was not supplied.\n",
      "Posting SSG_Casework_Lab_LAM_09_02 cddae865-6028-4171-9751-afc5936b527d\n",
      "Procedure or function 'InsertFamilyFile' expects parameter '@FileData', which was not supplied.\n",
      "Posting SSG_Casework_Lab_LAM_07_06 0db15d33-efee-4482-aac3-b4236757f223\n",
      "Procedure or function 'InsertFamilyFile' expects parameter '@FileData', which was not supplied.\n",
      "Posting SSG_Casework_Lab_LAM_07_02 a18cd84e-a119-4dde-bd53-b42b04c514ca\n",
      "Procedure or function 'InsertFamilyFile' expects parameter '@FileData', which was not supplied.\n",
      "Posting SSG_Casework_Lab_LAM_09_04 11f311c2-004f-488c-8130-c4c9d675e68b\n",
      "Procedure or function 'InsertFamilyFile' expects parameter '@FileData', which was not supplied.\n",
      "Posting SSG_Casework_Lab_LAM_07_05 504cb48e-05b2-4c37-b37e-d115af971ce1\n",
      "Procedure or function 'InsertFamilyFile' expects parameter '@FileData', which was not supplied.\n",
      "Posting SSG_Casework_Lab_LAM_09_03 3d9d83ae-db70-4023-89ab-d180f7c0876c\n",
      "Procedure or function 'InsertFamilyFile' expects parameter '@FileData', which was not supplied.\n",
      "Posting SSG_Casework_Lab_LAM_05_03 7d401b16-0771-4acd-abfc-d2c35324f135\n",
      "Procedure or function 'InsertFamilyFile' expects parameter '@FileData', which was not supplied.\n",
      "Posting SSG_Casework_Lab_LAM_06_05 d454e41e-a1af-4018-a189-d8452e02c876\n",
      "Procedure or function 'InsertFamilyFile' expects parameter '@FileData', which was not supplied.\n",
      "Posting SSG_Casework_Lab_LAM_06_03 4f59073e-c26f-4675-9fb7-e6f2c7eb479f\n",
      "Procedure or function 'InsertFamilyFile' expects parameter '@FileData', which was not supplied.\n",
      "Posting SSG_Casework_Lab_LAM_05_04 52edd52e-65e3-454f-908c-ecdf31652c8d\n",
      "Procedure or function 'InsertFamilyFile' expects parameter '@FileData', which was not supplied.\n",
      "Posting SSG_Casework_Lab_LAM_05_05 9ecc57b2-5ae9-4e52-b89c-ed366a48b3da\n",
      "Procedure or function 'InsertFamilyFile' expects parameter '@FileData', which was not supplied.\n",
      "Posting SSG_Casework_Lab_LAM_10_05 2598c918-34d8-40cb-9783-f1f437a8cbb9\n",
      "Procedure or function 'InsertFamilyFile' expects parameter '@FileData', which was not supplied.\n",
      "Posting SSG_Casework_Lab_LAM_10_02 d022df1e-dd67-42ec-80ac-f5f0919fb4ad\n",
      "Procedure or function 'InsertFamilyFile' expects parameter '@FileData', which was not supplied.\n",
      "Posting SSG_Casework_Lab_LAM_05_02 2b24e26e-9712-4820-bcb5-f9e48aa3a9d3\n",
      "Procedure or function 'InsertFamilyFile' expects parameter '@FileData', which was not supplied.\n"
     ]
    }
   ],
   "metadata": {}
  },
  {
   "cell_type": "code",
   "execution_count": 27,
   "source": [
    "# fam = Family.from_json(admin.get_family('73da14be-e687-4465-9c8d-07483ec7e159'))\r\n",
    "for fam_dict in families:\r\n",
    "    fam = Family.from_json(fam_dict)\r\n",
    "    for param in fam.Parameters:\r\n",
    "        if param.ParameterId == -1:\r\n",
    "            print(param.Name)\r\n",
    "    for prop in fam.Properties:\r\n",
    "        if prop.Id == -1:\r\n",
    "            print(prop.Name)"
   ],
   "outputs": [],
   "metadata": {}
  }
 ],
 "metadata": {
  "orig_nbformat": 4,
  "language_info": {
   "name": "python",
   "version": "3.8.5",
   "mimetype": "text/x-python",
   "codemirror_mode": {
    "name": "ipython",
    "version": 3
   },
   "pygments_lexer": "ipython3",
   "nbconvert_exporter": "python",
   "file_extension": ".py"
  },
  "kernelspec": {
   "name": "python3",
   "display_name": "Python 3.8.5 64-bit ('venv': venv)"
  },
  "interpreter": {
   "hash": "8a517bb6487a6d0afee10a2839dbc59124d20f7320cb08b34273c7e0d80d8489"
  }
 },
 "nbformat": 4,
 "nbformat_minor": 2
}