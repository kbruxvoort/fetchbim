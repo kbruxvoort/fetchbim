{
 "cells": [
  {
   "cell_type": "code",
   "execution_count": 1,
   "metadata": {},
   "outputs": [],
   "source": [
    "from fetchbim.family import Family\n",
    "from fetchbim.query import Filter\n",
    "from fetchbim.admin import get_family\n",
    "\n",
    "from re import sub\n",
    "from decimal import Decimal\n",
    "from csv import DictWriter"
   ]
  },
  {
   "cell_type": "code",
   "execution_count": 2,
   "metadata": {},
   "outputs": [
    {
     "data": {
      "text/plain": [
       "523"
      ]
     },
     "execution_count": 2,
     "metadata": {},
     "output_type": "execute_result"
    }
   ],
   "source": [
    "mg_filter = Filter(FamilyObjectType='ModelGroup')\n",
    "groups = mg_filter.query()\n",
    "len(groups)\n",
    "# print(families)"
   ]
  },
  {
   "cell_type": "code",
   "execution_count": 9,
   "metadata": {},
   "outputs": [],
   "source": [
    "with open('group_prices.csv', 'w', newline='') as new_file:\n",
    "    fieldnames = ['id', 'group_name', 'original_price', 'new_price']\n",
    "    csv_writer = DictWriter(new_file, fieldnames=fieldnames)\n",
    "    \n",
    "    csv_writer.writeheader()\n",
    "\n",
    "    for group_dict in groups:\n",
    "        group = Family.from_json(get_family(group_dict.get('Id')))\n",
    "        for prop in group.Properties:\n",
    "            if prop.Name == \"Budget Price\":\n",
    "                original_price = prop.Value\n",
    "                money_convert = float(sub(r'[^\\d.]', '', original_price))\n",
    "                new_price = \"{:,.2f}\".format(money_convert * 1.3)\n",
    "                # prop.Value = currency\n",
    "            if not original_price:\n",
    "                original_price = \"0\"\n",
    "                new_price = \"0\"\n",
    "                \n",
    "        line = {'id': group.Id, 'group_name': group.Name, 'original_price': original_price, 'new_price': new_price}\n",
    "        csv_writer.writerow(line)\n"
   ]
  },
  {
   "cell_type": "code",
   "execution_count": 14,
   "metadata": {},
   "outputs": [
    {
     "name": "stdout",
     "output_type": "stream",
     "text": [
      "[{'Name': 'Detail', 'Value': 'Dimenions: 9\\'w x 2\\'d x 7\\' 7\"h<ul><li>Plug-and-Play casework kit</li><li>Three 36\" wide base cabinets with an upper drawer and two hinged doors each</li><li>One 9\\' wide stainless steel countertop with 4\" backsplash</li><li>Three 36\" wide upper cabinet with glass inset doors</li><li>Flexible components for adaptable storage</li><li>Includes sloped tops, locks, and additional countertop options</li></ul>', 'Deleted': False, 'Id': 362302}, {'Name': 'TitleHeader', 'Value': \"09' Wide - Door\", 'Deleted': False, 'Id': 362303}, {'Name': 'TitleSubheader', 'Value': 'General - Stainless', 'Deleted': False, 'Id': 362304}, {'Name': 'Number of Columns', 'Value': '1', 'Deleted': False, 'Id': 362305}, {'Name': 'Budget Price', 'Value': '14,950.54', 'Deleted': False, 'Id': 362306}, {'Name': 'Width', 'Value': \"9'\", 'Deleted': False, 'Id': 362307}, {'Name': 'Depth', 'Value': \"2'\", 'Deleted': False, 'Id': 362308}, {'Name': 'Height', 'Value': '7\\' 7\"', 'Deleted': False, 'Id': 362309}, {'Name': 'Web Category', 'Value': 'Modular Casework', 'Deleted': False, 'Id': 362310}, {'Name': 'Includes Pricing', 'Value': 'Yes', 'Deleted': False, 'Id': -1}, {'Name': 'ADA Compliant', 'Value': 'No', 'Deleted': False, 'Id': -1}, {'Name': 'Has MEP Connectors', 'Value': 'No', 'Deleted': False, 'Id': -1}, {'Name': 'Tags', 'Value': 'Modular, Millwork', 'Deleted': False, 'Id': -1}, {'Name': 'Primary Material', 'Value': 'Laminate', 'Deleted': False, 'Id': -1}, {'Name': 'BIMobject Category', 'Value': 'Furniture: Shelving & Storage', 'Deleted': False, 'Id': -1}, {'Name': 'Omniclass', 'Value': '23-21 19 11', 'Deleted': False, 'Id': -1}, {'Name': 'Technical Data', 'Value': '<h2>Sustainability</h2> <ul> <li>Particleboard and MDF fabricated from recycled wood waste material</li> <li>Cardboard packaging made from recycled materials</li> <li>Unusable pallets are recycled</li> <li>All aluminum scrap is recycled</li> <li>All adhesives used are water-based</li> <li>Products meet low VOC standards</li> <li>Powder coat paint is used on all metal surfaces</li> </ul> <h2>Construction</h2> <ul> <li>Cabinets are constructed of &frac34;&rdquo; thick industrial grade 40-50lb substrate, double-faced melamine</li> <li>All exposed edges are covered with 2mm PVC edge banding</li> <li>All panels are connected with hafele mini-fix cam hidden fastener system</li> <li>All cabinets are rail mounted for ease of install</li> <li>Work surfaces are constructed of 1 1/16&rdquo; thick high-pressure laminate</li> </ul>', 'Deleted': False, 'Id': -1}, {'Name': 'IFC', 'Value': 'Furniture', 'Deleted': False, 'Id': -1}]\n"
     ]
    }
   ],
   "source": [
    "for group_dict in groups[:1]:\n",
    "    print(get_family(group_dict.get('Id'))['Properties'])\n",
    "    group = Family.from_json(get_family(group_dict.get('Id')))\n",
    "    group.Files = []\n",
    "    # group.Parameters = []\n",
    "    for prop in group.Properties:\n",
    "        if prop.Name == \"Budget Price\":\n",
    "            original_price = prop.Value\n",
    "            money_convert = float(sub(r'[^\\d.]', '', original_price))\n",
    "            prop.Value = \"{:,.2f}\".format(money_convert * 1.3)\n",
    "    # print(repr(group))"
   ]
  }
 ],
 "metadata": {
  "interpreter": {
   "hash": "8a517bb6487a6d0afee10a2839dbc59124d20f7320cb08b34273c7e0d80d8489"
  },
  "kernelspec": {
   "display_name": "Python 3.8.5 64-bit ('venv': venv)",
   "name": "python3"
  },
  "language_info": {
   "codemirror_mode": {
    "name": "ipython",
    "version": 3
   },
   "file_extension": ".py",
   "mimetype": "text/x-python",
   "name": "python",
   "nbconvert_exporter": "python",
   "pygments_lexer": "ipython3",
   "version": "3.8.5"
  },
  "orig_nbformat": 4
 },
 "nbformat": 4,
 "nbformat_minor": 2
}
