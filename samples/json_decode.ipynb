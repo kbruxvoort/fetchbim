{
  "cells": [
    {
      "cell_type": "code",
      "execution_count": 1,
      "metadata": {},
      "outputs": [],
      "source": [
        "from fetchbim import Family, File, SharedFile, FamilyType, client\n",
        "from fetchbim.settings import DEV_HEADERS\n",
        "from csv import DictWriter"
      ]
    },
    {
      "cell_type": "code",
      "execution_count": 2,
      "metadata": {},
      "outputs": [],
      "source": [
        "_file = File.pick_file()"
      ]
    },
    {
      "cell_type": "code",
      "execution_count": 2,
      "metadata": {},
      "outputs": [],
      "source": [
        "import requests\n",
        "import json\n",
        "\n",
        "from fetchbim import DEV_HEADERS"
      ]
    },
    {
      "cell_type": "code",
      "execution_count": 13,
      "metadata": {},
      "outputs": [
        {
          "data": {
            "text/plain": [
              "[{'ErrorMessage': None,\n",
              "  'FamilyFileId': 15329,\n",
              "  'FamilyId': 'bbda77a5-7ea8-4439-aa6a-bf7f347e277b',\n",
              "  'FileId': 15507}]"
            ]
          },
          "execution_count": 13,
          "metadata": {},
          "output_type": "execute_result"
        }
      ],
      "source": [
        "data = [{\"FamilyId\": \"bbda77a5-7ea8-4439-aa6a-bf7f347e277b\", \"FileId\": 15507}]\n",
        "response = requests.post(\"https://fetch.devssg.com/api/FamilyFiles\", data=json.dumps(data), headers=DEV_HEADERS)\n",
        "response.json()"
      ]
    },
    {
      "cell_type": "code",
      "execution_count": 3,
      "metadata": {},
      "outputs": [
        {
          "name": "stdout",
          "output_type": "stream",
          "text": [
            "No file found with FileId: 9001\n"
          ]
        }
      ],
      "source": [
        "_file = File.from_id(\"9001\")\n",
        "\n",
        "# _file.attach_to_family(FamilyIds=\"bbda77a5-7ea8-4439-aa6a-bf7f347e277b\")"
      ]
    },
    {
      "cell_type": "code",
      "execution_count": 7,
      "metadata": {},
      "outputs": [
        {
          "data": {
            "text/plain": [
              "File(FileId=15501, FilePath=None, FileName=Patched Fetch Logo, FileKey=FamilyImageSmall, Deleted=False, FileData=None, FileLength=16485, Version=2022.3.8.1)"
            ]
          },
          "execution_count": 7,
          "metadata": {},
          "output_type": "execute_result"
        }
      ],
      "source": [
        "_file.FileId = \"15501\"\n",
        "_file"
      ]
    },
    {
      "cell_type": "code",
      "execution_count": 4,
      "metadata": {},
      "outputs": [
        {
          "data": {
            "text/plain": [
              "SharedFile(SharedFileId=134, Description=MPD Medical Systems - Medical Carts, CategoryName=None, FamilyObjectType=None, ParameterName=zM, ParameterValue=43872.1, ParameterValueMatchType=0, PropertyName=None, PropertyValue=None, PropertyValueMatchType=None, FileKey=None, Deleted=False, Files=[], Attributes=[SharedAttribute(SharedAttributeId=9190, AttributeType=1, Name=Has MEP Connectors, Value=No, DataType=None, ParameterType=None, Sort=0, Hidden=False, ParameterId=None, Deleted=False, SharedAttribute(SharedAttributeId=9191, AttributeType=1, Name=ADA Compliant, Value=No, DataType=None, ParameterType=None, Sort=0, Hidden=False, ParameterId=None, Deleted=False, SharedAttribute(SharedAttributeId=9192, AttributeType=1, Name=Includes Pricing, Value=Yes, DataType=None, ParameterType=None, Sort=0, Hidden=False, ParameterId=None, Deleted=False, SharedAttribute(SharedAttributeId=9193, AttributeType=0, Name=INFO_Lead Time, Value=Ships in 15-20 business days, DataType=Text, ParameterType=Type, Sort=0, Hidden=False, ParameterId=None, Deleted=False, SharedAttribute(SharedAttributeId=9194, AttributeType=1, Name=Technical Data, Value=<h3>Construction</h3><ul><li>Double-walled construction</li><li>Premium 5\" casters (2 locking, 1 directional)</li><li>Ball bearing, full extension drawer slides</li><li>Durable powder coat paint</li><li>Locking options: keyed, push-button, breakaway, electronic, RFID proxy reader</li></ul><h3>Accessories</h3><ul><li>Twin poly push handles</li><li>Outrigger stablizing frame</li><li>Extra thick plastic top protects frame and provides a convenient work surface</li><li>Compatible with a wide variety of specialized accessories, available from the Fetch team upon request</li></ul>, DataType=None, ParameterType=None, Sort=0, Hidden=False, ParameterId=None, Deleted=False, SharedAttribute(SharedAttributeId=9195, AttributeType=1, Name=Family Design, Value=<p>These highly flexible medical carts are used in hospitals and patient care facilities all over the world as crash carts, procedure and catheter carts, as well as mobile medication dispensing carts. The family includes basic accessories including the durable plastic top, push handles, bumper, and several locking options including keyed, breakaway, electronic, and RFID proxy. To use this family, simply place into your project and select the type with the desired drawer configuration. Additional accessories are available on request from the Fetch team.</p>, DataType=None, ParameterType=None, Sort=0, Hidden=False, ParameterId=None, Deleted=False, SharedAttribute(SharedAttributeId=9196, AttributeType=1, Name=Omniclass, Value=23.25.00.00, DataType=None, ParameterType=None, Sort=0, Hidden=False, ParameterId=None, Deleted=False, SharedAttribute(SharedAttributeId=9197, AttributeType=0, Name=Keynote, Value=41 63 16, DataType=Text, ParameterType=Type, Sort=0, Hidden=False, ParameterId=None, Deleted=False, SharedAttribute(SharedAttributeId=9258, AttributeType=1, Name=Has MEP Connectors, Value=No, DataType=None, ParameterType=None, Sort=0, Hidden=False, ParameterId=None, Deleted=False, SharedAttribute(SharedAttributeId=9259, AttributeType=1, Name=ADA Compliant, Value=No, DataType=None, ParameterType=None, Sort=0, Hidden=False, ParameterId=None, Deleted=False, SharedAttribute(SharedAttributeId=9260, AttributeType=1, Name=Includes Pricing, Value=Yes, DataType=None, ParameterType=None, Sort=0, Hidden=False, ParameterId=None, Deleted=False, SharedAttribute(SharedAttributeId=9261, AttributeType=0, Name=INFO_Lead Time, Value=Ships in 15-20 business days, DataType=Text, ParameterType=Type, Sort=0, Hidden=False, ParameterId=None, Deleted=False, SharedAttribute(SharedAttributeId=9262, AttributeType=1, Name=Technical Data, Value=<h3>Construction</h3><ul><li>Double-walled construction</li><li>Premium 5\" casters (2 locking, 1 directional)</li><li>Ball bearing, full extension drawer slides</li><li>Durable powder coat paint</li><li>Locking options: keyed, push-button, breakaway, electronic, RFID proxy reader</li></ul><h3>Accessories</h3><ul><li>Twin poly push handles</li><li>Outrigger stablizing frame</li><li>Extra thick plastic top protects frame and provides a convenient work surface</li><li>Compatible with a wide variety of specialized accessories, available from the Fetch team upon request</li></ul>, DataType=None, ParameterType=None, Sort=0, Hidden=False, ParameterId=None, Deleted=False, SharedAttribute(SharedAttributeId=9263, AttributeType=1, Name=Family Design, Value=<p>These highly flexible medical carts are used in hospitals and patient care facilities all over the world as crash carts, procedure and catheter carts, as well as mobile medication dispensing carts. The family includes basic accessories including the durable plastic top, push handles, bumper, and several locking options including keyed, breakaway, electronic, and RFID proxy. To use this family, simply place into your project and select the type with the desired drawer configuration. Additional accessories are available on request from the Fetch team.</p>, DataType=None, ParameterType=None, Sort=0, Hidden=False, ParameterId=None, Deleted=False, SharedAttribute(SharedAttributeId=9264, AttributeType=1, Name=Omniclass, Value=23.25.00.00, DataType=None, ParameterType=None, Sort=0, Hidden=False, ParameterId=None, Deleted=False, SharedAttribute(SharedAttributeId=9265, AttributeType=0, Name=Keynote, Value=41 63 16, DataType=Text, ParameterType=Type, Sort=0, Hidden=False, ParameterId=None, Deleted=False])"
            ]
          },
          "execution_count": 4,
          "metadata": {},
          "output_type": "execute_result"
        }
      ],
      "source": [
        "sf = SharedFile.from_id(134)\n",
        "sf"
      ]
    },
    {
      "cell_type": "code",
      "execution_count": 3,
      "metadata": {},
      "outputs": [
        {
          "data": {
            "text/plain": [
              "{'FamilyFileIds': [{'FamilyFileId': 15326,\n",
              "   'FamilyId': '52607912-488f-450d-b1bc-9332c03e89a5',\n",
              "   'FileId': 15500}],\n",
              " 'SharedFileIds': [],\n",
              " 'FileId': 15500,\n",
              " 'FileGuid': '852f9afb-3f9f-ec11-bf34-005056964742',\n",
              " 'FileKey': 'FamilyImageSmall',\n",
              " 'Version': '2022.3.8.1',\n",
              " 'FileName': 'Patched Fetch Logo',\n",
              " 'FileExtension': '.png',\n",
              " 'FileLength': 16485,\n",
              " 'FileData': None,\n",
              " 'CreateDate': '2022-03-08T18:29:30.4500000-06:00',\n",
              " 'UserId': 1,\n",
              " 'RevitVersion': None,\n",
              " 'FamilyId': None,\n",
              " 'ModelGroupFamilyId': None,\n",
              " 'FamilyTypeId': None,\n",
              " 'FamilyFileId': None,\n",
              " 'SharedFileMappingId': 0,\n",
              " 'IsNew': False,\n",
              " 'Deleted': False,\n",
              " 'Modified': False,\n",
              " 'Action': 3}"
            ]
          },
          "execution_count": 3,
          "metadata": {},
          "output_type": "execute_result"
        }
      ],
      "source": [
        "\n",
        "_file = File.from_id(\"15500\")\n",
        "_file._json"
      ]
    },
    {
      "cell_type": "code",
      "execution_count": 11,
      "metadata": {},
      "outputs": [
        {
          "data": {
            "text/plain": [
              "True"
            ]
          },
          "execution_count": 11,
          "metadata": {},
          "output_type": "execute_result"
        }
      ],
      "source": [
        "_file.update(Version=\"2022.3.10.1\")"
      ]
    },
    {
      "cell_type": "code",
      "execution_count": 36,
      "metadata": {},
      "outputs": [
        {
          "data": {
            "text/plain": [
              "<Response [404]>"
            ]
          },
          "execution_count": 36,
          "metadata": {},
          "output_type": "execute_result"
        }
      ],
      "source": [
        "response"
      ]
    },
    {
      "cell_type": "code",
      "execution_count": 25,
      "metadata": {},
      "outputs": [],
      "source": [
        "import requests"
      ]
    },
    {
      "cell_type": "code",
      "execution_count": 21,
      "metadata": {},
      "outputs": [],
      "source": [
        "_file = File.search(FileName=\"Fetch\")\n",
        "# _file.update(FileName='Patched Fetch Logo')"
      ]
    },
    {
      "cell_type": "code",
      "execution_count": 24,
      "metadata": {},
      "outputs": [
        {
          "data": {
            "text/plain": [
              "Family(Name=SSG_Bench_Restraint_Freestanding_PCS, CategoryName=Furniture, FamilyObjectType=Family, GroupedFamilies=[], Parameters=[Parameter(Name=MIN_Width, Value=3, Deleted=False, DataType=Length, ParameterType=Type, Sort=1, Hidden=False, ParameterId=12773), Parameter(Name=MAX_Width, Value=8, Deleted=False, DataType=Length, ParameterType=Type, Sort=2, Hidden=False, ParameterId=12774), Parameter(Name=MIN_Depth, Value=1.16666666666667, Deleted=False, DataType=Length, ParameterType=Type, Sort=4, Hidden=False, ParameterId=12775), Parameter(Name=MAX_Depth, Value=1.83333333333333, Deleted=False, DataType=Length, ParameterType=Type, Sort=5, Hidden=False, ParameterId=12776), Parameter(Name=MIN_Height, Value=1.47916666666667, Deleted=False, DataType=Length, ParameterType=Type, Sort=7, Hidden=False, ParameterId=12777), Parameter(Name=MAX_Height, Value=3.08333333333333, Deleted=False, DataType=Length, ParameterType=Type, Sort=8, Hidden=False, ParameterId=12778), Parameter(Name=STD_Widths, Value=36\", 48\", 60\", 72\", 84\", 96\", Deleted=False, DataType=Text, ParameterType=Type, Sort=0, Hidden=False, ParameterId=12779), Parameter(Name=STD_Depths, Value=14\", 22\", Deleted=False, DataType=Text, ParameterType=Type, Sort=3, Hidden=False, ParameterId=12780), Parameter(Name=STD_Heights, Value=17 3/4\", 30 1/8\", 37\", Deleted=False, DataType=Text, ParameterType=Type, Sort=6, Hidden=False, ParameterId=12781), Parameter(Name=SSG_Short Description, Value=Handcuff Restraint Bench, Deleted=False, DataType=Text, ParameterType=Type, Sort=12, Hidden=False, ParameterId=12783), Parameter(Name=SSG_Long Description, Value=Easy to clean and install Restraint Bench provides security for your institution with a durable handcuff restraint., Deleted=False, DataType=MultlineText, ParameterType=Type, Sort=11, Hidden=False, ParameterId=12784), Parameter(Name=URL_Finish Options, Value=https://fetchbim.com/hosted_pdf/FINISH_OPTIONS_SSG_BLU.pdf/, Deleted=False, DataType=URL, ParameterType=Type, Sort=0, Hidden=True, ParameterId=12785), Parameter(Name=zM, Value=263042.1, Deleted=False, DataType=Number, ParameterType=Type, Sort=0, Hidden=True, ParameterId=12787), Parameter(Name=SSG_Author, Value=AWright, Deleted=False, DataType=Text, ParameterType=Type, Sort=19, Hidden=False, ParameterId=12788), Parameter(Name=SSG_Product Code, Value== \"SMS-53-PB-\" + zI00 + zPT00 + zPT01 + zPT02, Deleted=False, DataType=Text, ParameterType=Instance, Sort=0, Hidden=True, ParameterId=12789), Parameter(Name=URL_Contact Southwest Solutions Group, Value=https://fetchbim.com/contact-us, Deleted=False, DataType=URL, ParameterType=Type, Sort=0, Hidden=True, ParameterId=12790), Parameter(Name=URL_Product Page, Value=https://fetchbim.com/ssg-bench-restraint-freestanding-pcs, Deleted=False, DataType=URL, ParameterType=Type, Sort=0, Hidden=True, ParameterId=12791), Parameter(Name=URL_Specification Manual, Value=https://fetchbim.com/hosted_pdf/SPEC_SSG_Bench_Restraint_Freestanding_PCS.pdf/, Deleted=False, DataType=URL, ParameterType=Type, Sort=0, Hidden=True, ParameterId=12792), Parameter(Name=zP, Value=PB, Deleted=False, DataType=Text, ParameterType=Type, Sort=0, Hidden=True, ParameterId=12793), Parameter(Name=Model, Value=SMS-53-PB, Deleted=False, DataType=Text, ParameterType=Type, Sort=22, Hidden=False, ParameterId=12794), Parameter(Name=URL_Installation Manual, Value=https://fetchbim.com/hosted_pdf/INSTALL_SSG_Bench_Restraint_Freestanding_PCS.pdf/, Deleted=False, DataType=URL, ParameterType=Type, Sort=0, Hidden=True, ParameterId=12817)], Files=[File(FileId=15388, FilePath=None, FileName=SSG_Bench_Restraint_Freestanding_PCS_48_Standard_with_Back_Wood_Composite_Large, FileKey=FamilyImageLarge, Deleted=False, FileData=None, FileLength=233448, Version=2022.1.14.0), File(FileId=15389, FilePath=None, FileName=SSG_Bench_Restraint_Freestanding_PCS_48_Standard_with_Back_Wood_Composite_Medium, FileKey=FamilyImageMedium, Deleted=False, FileData=None, FileLength=31301, Version=2022.1.14.0), File(FileId=15390, FilePath=None, FileName=SSG_Bench_Restraint_Freestanding_PCS_48_Standard_with_Back_Wood_Composite_Small, FileKey=FamilyImageSmall, Deleted=False, FileData=None, FileLength=34071, Version=2022.1.14.0), File(FileId=15391, FilePath=None, FileName=SSG_Bench_Restraint_Freestanding_PCS_60_STD_No_Back_Solid_Steel_Large, FileKey=FamilyGalleryLarge1, Deleted=False, FileData=None, FileLength=145282, Version=2022.1.14.0), File(FileId=15392, FilePath=None, FileName=SSG_Bench_Restraint_Freestanding_PCS_72_ADA_with_Back_Stainless_Steel_Large, FileKey=FamilyGalleryLarge2, Deleted=False, FileData=None, FileLength=169005, Version=2022.1.14.0), File(FileId=15393, FilePath=None, FileName=SPEC_SSG_Bench_Restraint_Freestanding_PCS, FileKey=PDF-SpecManual, Deleted=False, FileData=None, FileLength=62535, Version=2022.1.14.0), File(FileId=15432, FilePath=None, FileName=SSG_Bench_Restraint_Freestanding_PCS, FileKey=FamilyRevitFile, Deleted=False, FileData=None, FileLength=790528, Version=2022.1.20.2), File(FileId=15433, FilePath=None, FileName=SSG_Bench_Restraint_Freestanding_PCS, FileKey=FamilyRevitFile2019, Deleted=False, FileData=None, FileLength=790528, Version=2022.1.20.2), File(FileId=15434, FilePath=None, FileName=SSG_Bench_Restraint_Freestanding_PCS, FileKey=FamilyRevitFile2021, Deleted=False, FileData=None, FileLength=790528, Version=2022.1.20.2), File(FileId=15435, FilePath=None, FileName=SSG_Bench_Restraint_Freestanding_PCS, FileKey=FamilyRevitFile2020, Deleted=False, FileData=None, FileLength=790528, Version=2022.1.20.2), File(FileId=16045, FilePath=None, FileName=SSG_Bench_Restraint_Freestanding_PCS, FileKey=FamilyRevitFile2022, Deleted=False, FileData=None, FileLength=790528, Version=2022.1.20.2)], Id=25801760-2652-497b-b718-66afb52a7558, LoadMethod=0, Status=0, Deleted=False)"
            ]
          },
          "execution_count": 24,
          "metadata": {},
          "output_type": "execute_result"
        }
      ],
      "source": [
        "fam = Family.from_id(\"25801760-2652-497b-b718-66afb52a7558\")\n",
        "fam"
      ]
    },
    {
      "cell_type": "code",
      "execution_count": 22,
      "metadata": {},
      "outputs": [
        {
          "data": {
            "text/plain": [
              "{'StatusCode': 404,\n",
              " 'Message': 'The resource you have requested cannot be found.',\n",
              " 'Details': ''}"
            ]
          },
          "execution_count": 22,
          "metadata": {},
          "output_type": "execute_result"
        }
      ],
      "source": [
        "_file"
      ]
    },
    {
      "cell_type": "code",
      "execution_count": 18,
      "metadata": {},
      "outputs": [
        {
          "data": {
            "text/plain": [
              "{'StatusCode': 404,\n",
              " 'Message': 'The resource you have requested cannot be found.',\n",
              " 'Details': ''}"
            ]
          },
          "execution_count": 18,
          "metadata": {},
          "output_type": "execute_result"
        }
      ],
      "source": [
        "files = File.search(FileKey=\"DOC-CSISpec\")\n",
        "files"
      ]
    },
    {
      "cell_type": "code",
      "execution_count": 10,
      "metadata": {},
      "outputs": [],
      "source": [
        "files = File.search()"
      ]
    },
    {
      "cell_type": "code",
      "execution_count": 11,
      "metadata": {},
      "outputs": [
        {
          "name": "stdout",
          "output_type": "stream",
          "text": [
            "9139\n"
          ]
        }
      ],
      "source": [
        "print(len(files))\n",
        "sorted_files = sorted(files, key=lambda x: x['FileName'])\n",
        "\n",
        "# for sf in sorted_files:\n",
        "#     print(f\"[{sf['FileId']}] \\\"{sf['FileKey']}\\\" {sf['FileName']}{sf['FileExtension']}\")"
      ]
    },
    {
      "cell_type": "code",
      "execution_count": null,
      "metadata": {},
      "outputs": [],
      "source": [
        "sr = SharedFile.from_id(7)\n",
        "# client.headers=BIM_HEADERS\n",
        "# client.base_url=\"https://www.ssgbim.com/api/\"\n",
        "# client.post(\"SharedFiles/Families\")\n",
        "sr.get_families()\n",
        "sr._json\n",
        "\n",
        "\n",
        "# Family.search(ParameterName=sr.ParameterName, ParameterValue=sr.ParameterValue, ParameterValueMatchType=sr.ParameterValueMatchType)"
      ]
    },
    {
      "cell_type": "code",
      "execution_count": 9,
      "metadata": {},
      "outputs": [
        {
          "name": "stdout",
          "output_type": "stream",
          "text": [
            "<Response [200]>\n"
          ]
        }
      ],
      "source": [
        "import requests\n",
        "import json\n",
        "\n",
        "from fetchbim.settings import DEV_HEADERS\n",
        "\n",
        "data = {\"ParameterName\": sr.ParameterName, \"ParameterValue\": sr.ParameterValue, \"ParameterValueMatchType\": sr.ParameterValueMatchType}\n",
        "response = requests.get(\"https://fetch.devssg.com/api/Files\", data=json.dumps(data), headers=DEV_HEADERS)\n",
        "print(response)"
      ]
    },
    {
      "cell_type": "code",
      "execution_count": 12,
      "metadata": {},
      "outputs": [],
      "source": [
        "with open('all_files.csv', 'w', newline='') as new_file:\n",
        "    fieldnames = ['FileId', 'FileKey', 'FileName', 'FamilyIds', 'SharedRules', 'SharedFamilyCount', 'SharedFamilyIds', 'Deleted']\n",
        "    csv_writer = DictWriter(new_file, fieldnames=fieldnames)\n",
        "    \n",
        "    csv_writer.writeheader()\n",
        "\n",
        "    for sf in sorted_files:\n",
        "        _file = File.from_dict(sf)\n",
        "        fam_ids = \",\".join(_file.get_family_ids())\n",
        "        shared_id_list = _file.get_shared_file_ids()\n",
        "        shared_ids= \",\".join(shared_id_list)\n",
        "        shared_family_list = []\n",
        "        for _id in shared_id_list:\n",
        "            shared_rule = SharedFile.from_id(str(_id))\n",
        "            shared_fams = shared_rule.get_families()\n",
        "            for fam in shared_fams:\n",
        "                shared_family_list.append(fam['Id'])\n",
        "        shared_count = None\n",
        "        if shared_family_list:\n",
        "            shared_count = len(shared_family_list)\n",
        "            \n",
        "                \n",
        "        line = {'FileId': _file.FileId, 'FileKey': _file.FileKey, 'FileName': _file.FileName + _file.FileExtension, 'FamilyIds': fam_ids, 'SharedRules':shared_ids, 'SharedFamilyCount': shared_count, 'SharedFamilyIds': \", \".join(shared_family_list), 'Deleted': _file.Deleted}\n",
        "        csv_writer.writerow(line)\n"
      ]
    },
    {
      "cell_type": "code",
      "execution_count": 3,
      "metadata": {},
      "outputs": [
        {
          "name": "stdout",
          "output_type": "stream",
          "text": [
            "{'FileName': 'modularcasework_laminate_warranty', 'FileKey': 'PDF-Warranty', 'FileId': 11613, 'FamilyIds': [], 'SharedFileIds': [50]}\n"
          ]
        }
      ],
      "source": [
        "_file = File.from_dict(files[-1])\n",
        "data = {}\n",
        "data['FileName'] = _file.FileName\n",
        "data['FileKey'] = _file.FileKey\n",
        "data['FileId'] = _file.FileId\n",
        "data['FamilyIds'] = _file.get_family_ids()\n",
        "# fam_ids = _file.get_family_ids()\n",
        "data['SharedFileIds'] = _file.get_shared_file_ids()\n",
        "# shared_ids = _file.get_shared_file_ids()\n",
        "\n",
        "print(data)\n"
      ]
    },
    {
      "cell_type": "code",
      "execution_count": 10,
      "metadata": {},
      "outputs": [
        {
          "data": {
            "text/plain": [
              "202"
            ]
          },
          "execution_count": 10,
          "metadata": {},
          "output_type": "execute_result"
        }
      ],
      "source": [
        "sf = SharedFile.from_id(\"50\")\n",
        "fams = sf.get_families()\n",
        "sf._json['SharedFamilyCount']"
      ]
    },
    {
      "cell_type": "code",
      "execution_count": 11,
      "metadata": {},
      "outputs": [
        {
          "name": "stdout",
          "output_type": "stream",
          "text": [
            "202\n",
            "['f333ea9b-244e-4168-b295-000aae38904f', '268c3950-47a3-468f-a575-01fa409dd894', '322e2b22-2883-4894-b5bb-03eb1dc3680b', '7ea74fab-e5ba-4264-ac66-069fe24a2a0c', '060c5a44-8f1e-45e1-a8f9-06c48f4aab16', 'e9d4f31b-4aaa-41d8-a615-070e2e5fdaf7', 'da80ccc9-89dc-413b-8e46-07dc2ee75254', '5f20ec0c-97b0-442c-90f4-09995da210b8', '3f40438f-2844-4bac-bc8e-09e1059835ce', '8e84ba4d-ed2b-4a90-9436-0bfa6f1064d4', 'e21ae707-2677-4ae3-9164-0dec3bc9db95', '3fd26bc2-2bc5-4808-9e65-0df2d4f22627', 'f4a19dc9-6a9c-43af-8c8f-0e188a97ffdc', '809b2348-aae8-4277-81ee-0e79d8e004a4', 'c635cb47-564f-496f-9164-0f3b35cadef3', 'd17cfe15-9de0-4ee1-afa8-0fa3bb7b8ace', 'df11b8bd-ab20-431f-bd0d-101c2afbe434', '5919a313-ef75-4367-ad05-10c155a212c7', '3e1c26ef-086f-4a05-ada7-10c93cd5b343', '022b9684-915f-415e-80b6-11a067f06cdd', '3effd942-f06e-43a8-aabf-1200145d973b', '577a7969-f743-4dc6-bf24-1305dc5529fa', 'b6cc1bdd-c053-4e43-a39d-156adc2099e9', 'f73063d5-311d-466b-858e-175028295fa9', '7b70caa0-570a-4bb2-9f2b-176f0cae2275', 'e387ebb2-1e3c-45fe-a533-1871b3241f0d', '49684e3c-7521-487c-908d-1b3cab62de8e', '11bf6d53-2f44-4330-8750-1b8163d05f11', '4af9d8ad-fff1-45a3-aaea-1cefc7c7ab25', 'e7f513f6-610b-4675-9baf-1e22f74f824b', 'adaefe9e-56ef-4570-b538-1ec46b69897b', 'ab303cef-4e00-4a9a-83d9-1f3e80b0eb03', 'a4183e9b-6042-4ed2-8d0f-212334b66908', 'aa24052d-68a6-4ad5-824a-239fdda66ed2', '2e015977-688d-4948-b163-2941a3c08cde', '670cd65f-f2a8-4877-b07a-2a98377c70a4', '11ceb898-6dfa-4995-b567-2a9b71659f24', '230b9d9c-d117-4800-8c2f-2b509e5dfb05', '0feb5481-cf7f-4af4-8627-31e3b34ddd92', 'd9f01336-1a96-4f3b-bc9e-35c0e3cb0030', '8bfa3331-6dca-48aa-b87e-36e42b50296f', 'a650fe93-5540-40a6-988a-3bf810d2998b', 'a59b1c85-28b1-4611-a5f8-3e6ed47256a1', '40fb132a-e1da-4cc2-a334-3fa3f590daeb', '8151988e-d430-4fe6-bbd3-40a1bbb2f407', '9277f8d1-0e36-43d8-8ac4-4151ed58270b', '357deacb-2503-4727-9c27-41d3862fd816', '47795324-5508-45ba-8f53-4484fea7dcdf', '0578240a-2365-446b-96ab-45b90da46141', '85b96fb9-687a-40e5-8a98-47017d10a975', '16ea7bd5-05f0-477a-8368-4772f19b35c5', 'bbe72d5b-a3d1-4ca9-a900-4efa114d36bb', 'a775a476-56c9-44a6-b975-504d32df0cbf', '3253ed1a-aaca-443b-b525-51268886fc11', 'f3606635-34fd-4af6-b156-527cfa3b170e', 'b71d4ce6-4ed8-492b-ac7e-52db9342504d', '5e0c50ab-53ab-4b00-83cd-537a2f916db6', 'f54f7fc9-cd40-44f2-9879-537f1a2bda2a', 'fb887610-d6f7-48a8-9708-58e6464c257c', '566ce6e7-ff98-4875-8c73-5951bfef752f', 'e0811a0a-0f82-4d05-bedd-60125c3f5789', '0c1ad0c7-2de7-4066-9b0d-6062625710d7', '52be9db1-3705-4813-ab36-606a30e8efd7', '15cc4ce0-4114-4a13-85ea-620c5b288538', '6b7bd270-d4eb-4dae-a717-62690d206549', '323b836b-771b-4a2a-9177-631a661e5edc', '9e71d72a-cc6a-4839-8e5a-63d512dfd9ee', '62ef07b6-823f-4822-9c75-6481e08ceba3', 'a6955be8-05af-4e53-8a0c-650400e2d42b', 'fe6d929c-da0a-487c-a6c8-67cf5a5f97ae', '9bc9f7af-c3cc-4a5f-ae7a-693f3989116d', 'd3f65337-3c20-43df-9c05-6e0a1e91eb78', '5545e3ca-3607-4c08-8fb8-6e57a3948142', '935f5474-99d0-495e-8ba3-6ef7b696127a', 'ed31f414-d5a3-4d52-a8bf-6fed9db12659', 'c19a421e-77a9-43e7-8a30-72a3066c21be', 'c64d41b6-0ec0-4e25-aec8-7523f75f0404', 'f3bd1573-67f0-461a-8cee-75f59879e2a6', '4913ad40-18c2-48b0-aa9d-769d02725a2c', '6635896c-f688-48df-8585-776678e40157', 'c70ab1cb-968f-4792-8959-7894c35ea9fc', 'b22c4b86-85d9-4101-b368-78ab68765a21', '567cc259-faa3-4712-8493-79f0d46656c1', '0bbfafe9-42c0-446f-8287-7b53b739b4b2', 'a63e2a58-55db-42c7-a7fd-7be9aa838b0b', '1b82aa27-625c-4ef1-a855-7e03f5d594a4', '82243a58-1eb1-4e03-bcb2-7e58b3157662', '25d07f78-93d6-44c8-a1b6-7f84c77c5b1d', '95ce68d8-25cc-4751-b2f6-7faf8c5daf05', '5f2f7692-94bd-44e4-a44c-8076c4d2fa94', 'e75f53d3-8290-4ffd-ac8d-826846724a55', '8f3b9c1b-18d6-43e3-878a-82872eb803f0', 'e6132c33-ff09-4c77-9c35-838fc95b37c4', 'b99ce4da-db52-47ee-a364-846bbab75ba4', '78388c4c-6666-4471-a969-8574395d058e', '1b0bb01d-8302-4fb5-845d-858dd94f0745', '6d82f1c6-8606-41c9-8eb6-858fcc4f8428', '3d57bb0e-1f37-4c31-85b3-8708536483f7', 'b146167f-3c25-452e-94a4-872b52dab024', '113ff174-cb6d-49c1-9c03-8e26bf2cb96d', '14999be7-9c0c-428c-8696-9132c087248f', '291ba482-0607-491c-b5d8-91768dbe0056', '93768711-743c-4dbf-98b6-93868852a5a4', '9b07f9d7-3860-4795-a18d-93ebe6950f42', 'c0147fa4-37b4-4458-a019-9474a25e9fdc', '1b282b78-93c6-4882-a485-960fdd51e1f2', '3bf4e84e-38cc-4e41-8981-9a75978dfc9f', '5ff1fed9-3234-40c9-a266-9b047b273dcd', 'e1820ca7-28e8-45ab-b23f-9be007eeb3a0', 'a64ab1c7-4a0e-4c01-bb41-9dc9dd49b001', '40dfe243-1d7c-46b7-b6e7-9eda3554868e', '59c988cc-24df-48f3-a393-9f8dd85b64c1', 'b5db2d4c-8d6e-4ea3-a17a-9f8e0244d663', '6bee4e15-ce58-4333-ae63-a0db3ac70aad', '4533abba-d672-4308-a245-a0dbbf453d32', 'e5123de4-fd8b-41e9-9ddc-a12a3afe4d3e', '12bb9b6d-1652-4b80-8153-a218828e048a', '84999955-59c1-4da5-b683-a28a33169c79', 'acb56368-c483-4706-9e65-a2f05b90b4d0', 'c68eb4f3-c0a4-4360-8f9b-a3aef9d8d54d', '5f7be53d-c902-451a-8f59-a3ce286587d0', '38374c91-0c3f-4352-887d-a6881747d495', '9311c9e1-63d0-4f67-9e37-a7898f1fd464', '70de65e9-e6ca-4a18-8c07-a83929c4c6e4', '85d89656-646e-492c-a553-a8b713226948', 'eaa35f68-75ed-4021-ad61-aa182c435c1f', 'cee8f1ff-4fd2-42f5-b8fb-ab9fdeb7e309', '2dc3d3bf-145d-4c37-a1fb-ac13ed4220d5', 'd98d087b-ed6e-4b31-86c4-ac57f3edad01', 'cddae865-6028-4171-9751-afc5936b527d', 'efed6876-c90c-4fa6-9b70-b11b997f3bd7', '775022f1-65c3-4eb5-9427-b2f161a93354', 'eb26b8e1-4769-464a-9445-b30b17b79f76', '0db15d33-efee-4482-aac3-b4236757f223', 'a18cd84e-a119-4dde-bd53-b42b04c514ca', '23278bad-b68e-41c6-950f-b598f098d41d', '5968a002-24a4-40ce-9f90-b5995d6117f5', '1e4fec10-d306-49fc-b896-b71147b916ab', 'c4ebc007-7607-4c7a-bb86-b8d4891b26a1', '1ea63000-19e7-4558-865d-b9303ad25ede', 'f4a69abf-9761-488b-8ccd-b9dbd02aaac5', '1a992d6f-4ac9-4c64-93c4-bacc330b800b', 'b82878b6-7ebb-4ce0-b1e0-bb43375f64ca', '1d91de19-46b4-42a3-8c74-bb6f1ab0b21c', 'c3aeaa75-fb26-4a6f-b857-bdd16935ec19', '922ad0b7-9946-48fd-8012-c029c7743ae4', '0c1d5a5b-b790-4c37-89c8-c22481403d6b', '11f311c2-004f-488c-8130-c4c9d675e68b', '757d80aa-5c54-41e2-aa2b-c52fc534b9b3', '3be0d2cb-eb5c-4720-9753-c5b20ff1c1e2', 'f99598b4-ae7e-4196-ba70-c83a8c50bbd0', 'a4ca2516-6100-4eed-a835-c8b01b21d259', 'b3799c03-5411-4e3a-ac89-c8ccfa8b0430', '387fe3f0-73a4-41c6-9874-c9a753f759fb', '9795f45b-7c48-41fe-a880-cb8f79fc41a7', '073b9ff5-540f-4530-bcff-cc72261bc4d8', 'ccf26a22-60ea-4566-95db-cdafbef3352b', '04899a5a-9964-4162-8d76-cf77c6ff6ea8', 'ece389fb-306f-4cc2-af02-d0c32b92ff4e', '504cb48e-05b2-4c37-b37e-d115af971ce1', '3d9d83ae-db70-4023-89ab-d180f7c0876c', '7d401b16-0771-4acd-abfc-d2c35324f135', '5a9e1e5a-fd3b-4faf-876a-d4de11b9d26e', '2c9287d6-e392-4b0d-868c-d70d099f4891', '9cae13c9-ae43-489c-ac98-d7367857344d', '3ff43d84-d4da-4bf0-9a6e-d77536f250a6', '280fa1b1-f30e-42ad-97e1-d7e089e0225a', 'd454e41e-a1af-4018-a189-d8452e02c876', '1ab8a36d-c691-4185-813b-da2976356397', '8c41c7b6-f1af-4848-9ee3-dada30034421', 'c56fd834-e595-4f48-8666-db9992f38365', '33151799-1f26-49dc-8c8b-dd693fd478d8', 'bc256b1e-0bd7-47a5-98b7-dd6c6ff44152', '701e9241-f01b-437a-bda1-df681c468945', '15b62850-669e-43da-8345-e001f29c6feb', '014a14a6-d90b-45f8-b9be-e16e72cf00c5', '411fd369-2830-4467-8dd6-e328dde0fdf1', 'ba65bbf6-0295-4d2d-b44b-e3cae8375625', 'b79f3d23-76c5-4301-b9cc-e4098d0f767a', '2895afa6-8fff-4f26-8ac5-e4fb96f12302', '630b242b-1a3a-4f5b-84be-e524e5d06800', '8e9ec88c-7184-4b1b-9721-e672a13fc7ba', '4f59073e-c26f-4675-9fb7-e6f2c7eb479f', 'd4cb8879-b6c2-40d0-9296-eb63092acdde', '52edd52e-65e3-454f-908c-ecdf31652c8d', '9ecc57b2-5ae9-4e52-b89c-ed366a48b3da', '8d6a4fbc-bf3e-4397-9c3e-ee820ed10144', '4fdaefb3-0101-4a03-bc67-f1335f96bb73', '3cd60d54-c754-4cb1-b50f-f1c6f0917c2b', '2598c918-34d8-40cb-9783-f1f437a8cbb9', '2e07b159-4f59-425a-b080-f2254dbfd316', 'a5e76f96-767c-4ca7-b053-f4d28540e792', '2ee53d13-4ed2-40b0-ab37-f582191e0fb3', 'd022df1e-dd67-42ec-80ac-f5f0919fb4ad', '7aa8209e-6f21-40bd-b6f2-f6b0c27ea445', '360a8cc2-4a76-495f-82c6-f73e5a6b8d64', 'cc2109e0-142e-4018-8cd3-f847871448b2', 'c46317dd-2017-4b01-a5fa-f9d2ed424550', '2b24e26e-9712-4820-bcb5-f9e48aa3a9d3', '444e5f2d-a32a-4289-af15-fb8029aa7dbb', 'be6f24d4-5139-4bf5-b12d-fc5a313a0beb', '430b9c40-9036-4aa5-bc43-fec76efe98df']\n"
          ]
        }
      ],
      "source": [
        "print(len(fams))\n",
        "ids = [fam['Id'] for fam in fams]\n",
        "print(ids)"
      ]
    },
    {
      "cell_type": "code",
      "execution_count": 16,
      "metadata": {},
      "outputs": [],
      "source": [
        "fams = Family.search(FamilyObjectType='Family', ParameterName='zM', ParameterValue='28552', PropertyValueMatchType=3)\n",
        "for fam_dict in fams:\n",
        "    print(fam_dict['Name'])"
      ]
    },
    {
      "cell_type": "code",
      "execution_count": 12,
      "metadata": {},
      "outputs": [
        {
          "data": {
            "text/plain": [
              "820"
            ]
          },
          "execution_count": 12,
          "metadata": {},
          "output_type": "execute_result"
        }
      ],
      "source": [
        "from fetchbim.bimservice import get_ids\n",
        "\n",
        "ids = get_ids(all_families=True)\n",
        "len(ids)"
      ]
    },
    {
      "cell_type": "code",
      "execution_count": 7,
      "metadata": {},
      "outputs": [
        {
          "name": "stdout",
          "output_type": "stream",
          "text": [
            "{\"Attributes\": [{\"DataType\": \"Text\", \"Name\": \"Manufacturer\", \"ParameterType\": \"Type\", \"SharedAttributeId\": 8567, \"Value\": \"Southwest Solutions Group_HAM\"}, {\"DataType\": \"Text\", \"Name\": \"INFO_Lead Time\", \"ParameterType\": \"Type\", \"SharedAttributeId\": 8568, \"Value\": \"4-6 Weeks\"}, {\"DataType\": \"Text\", \"Name\": \"Keynote\", \"ParameterType\": \"Type\", \"SharedAttributeId\": 8569, \"Value\": \"12 32 16\"}, {\"DataType\": \"Text\", \"Name\": \"Assembly Code\", \"ParameterType\": \"Type\", \"SharedAttributeId\": 8570, \"Value\": \"E2020\"}, {\"DataType\": \"Text\", \"Name\": \"Construction Type\", \"ParameterType\": \"Type\", \"SharedAttributeId\": 8571, \"Value\": \"Frameless cabinet construction w/ flush overlay fronts\"}, {\"AttributeType\": 1, \"Name\": \"Includes Pricing\", \"SharedAttributeId\": 8572, \"Value\": \"Yes\"}, {\"AttributeType\": 1, \"Name\": \"ADA Compliant\", \"SharedAttributeId\": 8573, \"Value\": \"Yes\"}, {\"AttributeType\": 1, \"Name\": \"Has MEP Connectors\", \"SharedAttributeId\": 8574, \"Value\": \"No\"}, {\"AttributeType\": 1, \"Name\": \"Primary Material\", \"SharedAttributeId\": 8575, \"Value\": \"Laminate\"}, {\"AttributeType\": 1, \"Name\": \"BIMobject Category\", \"SharedAttributeId\": 8576, \"Value\": \"Furniture: Shelving & Storage\"}, {\"AttributeType\": 1, \"Name\": \"IFC\", \"SharedAttributeId\": 8577, \"Value\": \"Furniture\"}, {\"DataType\": \"URL\", \"Hidden\": true, \"Name\": \"URL_Finish Options\", \"ParameterType\": \"Type\", \"SharedAttributeId\": 8578, \"Value\": \"https://fetchbim.com/hosted_pdf/FINISH_OPTIONS_SSG_HAM.pdf\"}, {\"AttributeType\": 1, \"Name\": \"Technical Data\", \"SharedAttributeId\": 8579, \"Value\": \"<h2>Sustainability</h2> <ul> <li>Particleboard and MDF fabricated from recycled wood waste material</li> <li>Cardboard packaging made from recycled materials</li> <li>Unusable pallets are recycled</li> <li>All aluminum scrap is recycled</li> <li>All adhesives used are water-based</li> <li>Products meet low VOC standards</li> <li>Powder coat paint is used on all metal surfaces</li> </ul> <h2>Construction</h2> <ul> <li>Cabinets are constructed of &frac34;&rdquo; thick industrial grade 40-50lb substrate, double-faced melamine</li> <li>All exposed edges are covered with 2mm PVC edge banding</li> <li>All panels are connected with hafele mini-fix cam hidden fastener system</li> <li>All cabinets are rail mounted for ease of install</li> <li>Work surfaces are constructed of 1 1/16&rdquo; thick high-pressure laminate</li> </ul>\"}, {\"AttributeType\": 1, \"Name\": \"Tags\", \"SharedAttributeId\": 9166, \"Value\": \"Hamilton, Hamilton Casework Solutions, Hamilton Sorter, HAM, 28552, AWI, Architectural Woodwork Institute, Millwork, Laminate, LAM, HCS\"}], \"Description\": \"Hamilton Casework Solutions\", \"Files\": [{\"FileExtension\": \".zip\", \"FileId\": 11351, \"FileKey\": \"MaterialLibrary\", \"FileLength\": 4450262, \"FileName\": \"SSG_HAM_Laminates\", \"Version\": \"2021.7.21.0\"}, {\"FileExtension\": \".pdf\", \"FileId\": 11596, \"FileKey\": \"PDF-FinishOptions\", \"FileLength\": 579182, \"FileName\": \"FINISH_OPTIONS_SSG_HAM\", \"Version\": \"2021.7.23.0\"}], \"ParameterName\": \"zM\", \"ParameterValue\": \"28552\", \"ParameterValueMatchType\": 3, \"SharedFileId\": 1}\n"
          ]
        }
      ],
      "source": [
        "sf = SharedFile.from_id(\"1\")\n",
        "for f in sf.Files:\n",
        "    f.FileData = None\n",
        "print(sf)"
      ]
    },
    {
      "cell_type": "code",
      "execution_count": 2,
      "metadata": {},
      "outputs": [],
      "source": [
        "shared_files = SharedFile.get_shared_rules()"
      ]
    },
    {
      "cell_type": "code",
      "execution_count": 4,
      "metadata": {},
      "outputs": [
        {
          "data": {
            "text/plain": [
              "{'SharedFileId': 137,\n",
              " 'Description': 'Wisconsin Bench Manufacturing - Locker Benches',\n",
              " 'Files': None,\n",
              " 'Attributes': None,\n",
              " 'FamilyObjectType': None,\n",
              " 'CategoryName': None,\n",
              " 'ParameterName': 'zM',\n",
              " 'ParameterValue': '52774.3',\n",
              " 'ParameterValueMatchType': 0,\n",
              " 'UserId': 5398,\n",
              " 'CreateDate': '2022-02-07T15:24:51.4270000-06:00',\n",
              " 'SharedFamilyCount': 3,\n",
              " 'SharedFileCount': 0,\n",
              " 'Families': [],\n",
              " 'Deleted': False}"
            ]
          },
          "execution_count": 4,
          "metadata": {},
          "output_type": "execute_result"
        }
      ],
      "source": [
        "sf = shared_files[-1]\n",
        "sf"
      ]
    },
    {
      "cell_type": "code",
      "execution_count": 2,
      "metadata": {},
      "outputs": [
        {
          "data": {
            "text/plain": [
              "{'FamilyFileIds': [{'FamilyFileId': 15326,\n",
              "   'FamilyId': '52607912-488f-450d-b1bc-9332c03e89a5',\n",
              "   'FileId': 15500}],\n",
              " 'SharedFileIds': [],\n",
              " 'FileId': 15500,\n",
              " 'FileGuid': '852f9afb-3f9f-ec11-bf34-005056964742',\n",
              " 'FileKey': 'FamilyImageLarge',\n",
              " 'Version': '2022.3.8.1',\n",
              " 'FileName': 'Updated Fetch Logo',\n",
              " 'FileExtension': '.png',\n",
              " 'FileLength': 16485,\n",
              " 'FileData': None,\n",
              " 'CreateDate': '2022-03-08T18:29:30.4500000-06:00',\n",
              " 'UserId': 1,\n",
              " 'RevitVersion': None,\n",
              " 'FamilyId': None,\n",
              " 'ModelGroupFamilyId': None,\n",
              " 'FamilyTypeId': None,\n",
              " 'FamilyFileId': None,\n",
              " 'SharedFileMappingId': 0,\n",
              " 'IsNew': False,\n",
              " 'Deleted': False,\n",
              " 'Modified': False,\n",
              " 'Action': 3}"
            ]
          },
          "execution_count": 2,
          "metadata": {},
          "output_type": "execute_result"
        }
      ],
      "source": [
        "_file = File.from_id(\"15500\")\n",
        "_file._json"
      ]
    },
    {
      "cell_type": "code",
      "execution_count": 4,
      "metadata": {},
      "outputs": [],
      "source": [
        "_file.FilePath = r\"C:\\Users\\kbruxvoort\\Documents\\fetch_logo.png\"\n",
        "_file.get_data()"
      ]
    },
    {
      "cell_type": "code",
      "execution_count": 5,
      "metadata": {},
      "outputs": [
        {
          "ename": "AttributeError",
          "evalue": "'dict' object has no attribute 'json'",
          "output_type": "error",
          "traceback": [
            "\u001b[1;31m---------------------------------------------------------------------------\u001b[0m",
            "\u001b[1;31mAttributeError\u001b[0m                            Traceback (most recent call last)",
            "\u001b[1;32mC:\\Users\\KBRUXV~1\\AppData\\Local\\Temp/ipykernel_8276/759453895.py\u001b[0m in \u001b[0;36m<module>\u001b[1;34m\u001b[0m\n\u001b[0;32m      1\u001b[0m \u001b[0mresponse\u001b[0m \u001b[1;33m=\u001b[0m \u001b[0m_file\u001b[0m\u001b[1;33m.\u001b[0m\u001b[0mupdate\u001b[0m\u001b[1;33m(\u001b[0m\u001b[0mFileName\u001b[0m\u001b[1;33m=\u001b[0m\u001b[1;34m'Updated Fetch Logo'\u001b[0m\u001b[1;33m,\u001b[0m \u001b[0mFileKey\u001b[0m\u001b[1;33m=\u001b[0m\u001b[1;34m'FamilyImageLarge'\u001b[0m\u001b[1;33m)\u001b[0m\u001b[1;33m\u001b[0m\u001b[1;33m\u001b[0m\u001b[0m\n\u001b[1;32m----> 2\u001b[1;33m \u001b[0mprint\u001b[0m\u001b[1;33m(\u001b[0m\u001b[0mresponse\u001b[0m\u001b[1;33m.\u001b[0m\u001b[0mjson\u001b[0m\u001b[1;33m(\u001b[0m\u001b[1;33m)\u001b[0m\u001b[1;33m)\u001b[0m\u001b[1;33m\u001b[0m\u001b[1;33m\u001b[0m\u001b[0m\n\u001b[0m",
            "\u001b[1;31mAttributeError\u001b[0m: 'dict' object has no attribute 'json'"
          ]
        }
      ],
      "source": [
        "response = _file.update(FileName='Updated Fetch Logo', FileKey='FamilyImageLarge')\n",
        "print(response.json())"
      ]
    },
    {
      "cell_type": "code",
      "execution_count": 7,
      "metadata": {},
      "outputs": [],
      "source": [
        "_file = File.from_dict(response)"
      ]
    },
    {
      "cell_type": "code",
      "execution_count": 3,
      "metadata": {},
      "outputs": [],
      "source": [
        "files = File.search()"
      ]
    },
    {
      "cell_type": "code",
      "execution_count": 4,
      "metadata": {},
      "outputs": [],
      "source": [
        "_file = File.from_dict(files[-1])"
      ]
    },
    {
      "cell_type": "code",
      "execution_count": 13,
      "metadata": {},
      "outputs": [
        {
          "data": {
            "text/plain": [
              "[50]"
            ]
          },
          "execution_count": 13,
          "metadata": {},
          "output_type": "execute_result"
        }
      ],
      "source": [
        "sf_ids = [sf['SharedFileId'] for sf in _file.SharedFileIds]\n",
        "list(set(sf_ids))"
      ]
    },
    {
      "cell_type": "code",
      "execution_count": 3,
      "metadata": {},
      "outputs": [
        {
          "data": {
            "text/plain": [
              "[GroupedFamily(ChildFamilyName=SSG_Group_Bounding_Box, Parameters=[Parameter(Name=Width, Value=5, Deleted=False, DataType=Length, ParameterType=Type, Sort=0, Hidden=False, ParameterId=3401), Parameter(Name=Depth, Value=2.08333333333333, Deleted=False, DataType=Length, ParameterType=Type, Sort=0, Hidden=False, ParameterId=3402), Parameter(Name=Height, Value=7, Deleted=False, DataType=Length, ParameterType=Type, Sort=0, Hidden=False, ParameterId=3403), Parameter(Name=Group Name, Value=SSG-EX05-1-L, Deleted=False, DataType=Text, ParameterType=Type, Sort=0, Hidden=False, ParameterId=3404), Parameter(Name=ENTER_Shape Number, Value=1, Deleted=False, DataType=Integer, ParameterType=Type, Sort=0, Hidden=False, ParameterId=3405)], ChildFamilyId=8c7feebe-76c9-4374-a997-8c53bc1d13ef, FamilyTypeId=124b350f-f719-4ef3-81ab-da3423dca1eb, InstanceCount=1, Sort=0, Width=None, Depth=None, Rotation=None, ChildModelGroups=[], Deleted=False),\n",
              " GroupedFamily(ChildFamilyName=SSG_Cabinet_Base_Sink_2_Door_LAM, Parameters=[Parameter(Name=Width, Value=2.5, Deleted=False, DataType=Length, ParameterType=Instance, Sort=0, Hidden=False, ParameterId=3407), Parameter(Name=Depth, Value=2, Deleted=False, DataType=Length, ParameterType=Instance, Sort=0, Hidden=False, ParameterId=3408), Parameter(Name=Height, Value=2.91666666666667, Deleted=False, DataType=Length, ParameterType=Instance, Sort=0, Hidden=False, ParameterId=3409)], ChildFamilyId=2756b243-0946-4b13-a666-6862f338d71b, FamilyTypeId=892672e0-fd25-49c2-8204-a33b922846c8, InstanceCount=1, Sort=1, Width=1.25, Depth=None, Rotation=None, ChildModelGroups=[], Deleted=False),\n",
              " GroupedFamily(ChildFamilyName=SSG_Cabinet_Base_2_Door_1_Drawer_LAM, Parameters=[Parameter(Name=Width, Value=2.5, Deleted=False, DataType=Length, ParameterType=Instance, Sort=0, Hidden=False, ParameterId=3410), Parameter(Name=Depth, Value=2, Deleted=False, DataType=Length, ParameterType=Instance, Sort=0, Hidden=False, ParameterId=3411), Parameter(Name=Height, Value=2.91666666666667, Deleted=False, DataType=Length, ParameterType=Instance, Sort=0, Hidden=False, ParameterId=3412)], ChildFamilyId=277a43cc-2293-4c20-94d7-8f1fbcd64a12, FamilyTypeId=7e4d5bd6-07bb-444e-ada2-18581a5eb99f, InstanceCount=1, Sort=2, Width=3.75, Depth=None, Rotation=None, ChildModelGroups=[], Deleted=False),\n",
              " GroupedFamily(ChildFamilyName=SSG_Countertop_LAM, Parameters=[Parameter(Name=OFFSET_Top of Counter, Value=3, Deleted=False, DataType=Length, ParameterType=Instance, Sort=0, Hidden=False, ParameterId=3413), Parameter(Name=Width, Value=5, Deleted=False, DataType=Length, ParameterType=Instance, Sort=0, Hidden=False, ParameterId=3414), Parameter(Name=Depth, Value=2.08333333333333, Deleted=False, DataType=Length, ParameterType=Instance, Sort=0, Hidden=False, ParameterId=3415)], ChildFamilyId=fdf28555-9332-40e0-851f-7aff58c035a6, FamilyTypeId=aa53b7b8-363f-40c2-93de-5d941bcd875f, InstanceCount=1, Sort=3, Width=None, Depth=None, Rotation=None, ChildModelGroups=[GroupedFamily(ChildFamilyName=SSG_Sink_Single_Bowl_Ledge_SST, Parameters=[Parameter(Name=ENTER_Sink Depth Number, Value=1, Deleted=False, DataType=Integer, ParameterType=Instance, Sort=0, Hidden=False, ParameterId=3406)], ChildFamilyId=a2119351-a561-4506-af55-9bb0276bce50, FamilyTypeId=45a02428-5b23-4d21-a977-7014a3802e4c, InstanceCount=1, Sort=0, Width=1.25, Depth=-1.08333333333333, Rotation=None, ChildModelGroups=[GroupedFamily(ChildFamilyName=SSG_Faucet_Lab_Deck_Mounted_CPB, Parameters=[], ChildFamilyId=dde6f30c-ff93-4db1-b785-6eb47340518b, FamilyTypeId=138f6284-c427-45f9-bb0c-aedfdc83def9, InstanceCount=1, Sort=0, Width=1.25, Depth=-0.29166, Rotation=None, ChildModelGroups=[], Deleted=False)], Deleted=False)], Deleted=False),\n",
              " GroupedFamily(ChildFamilyName=SSG_Cabinet_Wall_2_Door_LAM, Parameters=[Parameter(Name=Width, Value=2.5, Deleted=False, DataType=Length, ParameterType=Instance, Sort=0, Hidden=False, ParameterId=3418), Parameter(Name=Depth, Value=1.16666666666667, Deleted=False, DataType=Length, ParameterType=Instance, Sort=0, Hidden=False, ParameterId=3419), Parameter(Name=Height, Value=2, Deleted=False, DataType=Length, ParameterType=Instance, Sort=0, Hidden=False, ParameterId=3420)], ChildFamilyId=71efda75-c704-4efe-abae-e30be41e65a8, FamilyTypeId=e609d9a5-b37d-437f-a5c4-1e701e51e262, InstanceCount=1, Sort=4, Width=1.25, Depth=None, Rotation=None, ChildModelGroups=[], Deleted=False),\n",
              " GroupedFamily(ChildFamilyName=SSG_Cabinet_Wall_2_Door_LAM, Parameters=[Parameter(Name=Width, Value=2.5, Deleted=False, DataType=Length, ParameterType=Instance, Sort=0, Hidden=False, ParameterId=3422), Parameter(Name=Depth, Value=1.16666666666667, Deleted=False, DataType=Length, ParameterType=Instance, Sort=0, Hidden=False, ParameterId=3423), Parameter(Name=Height, Value=2.5, Deleted=False, DataType=Length, ParameterType=Instance, Sort=0, Hidden=False, ParameterId=3424)], ChildFamilyId=71efda75-c704-4efe-abae-e30be41e65a8, FamilyTypeId=e609d9a5-b37d-437f-a5c4-1e701e51e262, InstanceCount=1, Sort=5, Width=3.75, Depth=None, Rotation=None, ChildModelGroups=[], Deleted=False)]"
            ]
          },
          "execution_count": 3,
          "metadata": {},
          "output_type": "execute_result"
        }
      ],
      "source": [
        "# fam = Family.from_id('167cb9be-24e7-4031-b563-7a5c0e220c5b')\n",
        "fam = Family.from_id('5545e3ca-3607-4c08-8fb8-6e57a3948142')\n",
        "fam.GroupedFamilies"
      ]
    },
    {
      "cell_type": "code",
      "execution_count": 6,
      "metadata": {},
      "outputs": [
        {
          "name": "stdout",
          "output_type": "stream",
          "text": [
            "{'Id': '167cb9be-24e7-4031-b563-7a5c0e220c5b', 'Name': 'SGG_Flammable_Liquid_Storage_Legs_PCS', 'CategoryName': 'Furniture', 'FamilyObjectType': 'Family', 'GroupedFamilies': [], 'Files': [{'FileKey': 'FamilyImageMedium', 'FileName': 'SSG_Flammable_Liquid_Storage_PCS_12-Gallons_Medium', 'FileExtension': '.jpg', 'FileLength': 22909, 'Version': '2022.2.7.0'}, {'FileKey': 'FamilyImageLarge', 'FileName': 'SSG_Flammable_Liquid_Storage_PCS_12-Gallons_Large', 'FileExtension': '.jpg', 'FileLength': 184547, 'Version': '2022.2.7.0'}, {'FileKey': 'FamilyImageSmall', 'FileName': 'SSG_Flammable_Liquid_Storage_PCS_12-Gallons_Small', 'FileExtension': '.jpg', 'FileLength': 20845, 'Version': '2022.2.7.0'}, {'FileKey': 'PDF-SpecManual', 'FileName': 'SPEC_SGG_Flammable_Liquid_Storage_PCS', 'FileExtension': '.pdf', 'FileLength': 57925, 'Version': '2022.2.7.0'}, {'FileKey': 'FamilyRevitFile', 'FileName': 'SGG_Flammable_Liquid_Storage_Legs_PCS', 'FileExtension': '.rfa', 'FileLength': 901120, 'Version': '2022.2.8.0'}, {'FileKey': 'FamilyRevitFile2018', 'FileName': 'SGG_Flammable_Liquid_Storage_Legs_PCS', 'FileExtension': '.rfa', 'FileLength': 901120, 'Version': '2022.2.8.0'}, {'FileKey': 'FamilyRevitFile2019', 'FileName': 'SGG_Flammable_Liquid_Storage_Legs_PCS', 'FileExtension': '.rfa', 'FileLength': 901120, 'Version': '2022.2.8.0'}, {'FileKey': 'FamilyRevitFile2020', 'FileName': 'SGG_Flammable_Liquid_Storage_Legs_PCS', 'FileExtension': '.rfa', 'FileLength': 901120, 'Version': '2022.2.8.0'}, {'FileKey': 'FamilyRevitFile2021', 'FileName': 'SGG_Flammable_Liquid_Storage_Legs_PCS', 'FileExtension': '.rfa', 'FileLength': 901120, 'Version': '2022.2.8.0'}, {'FileKey': 'FamilyRevitFile2022', 'FileName': 'SGG_Flammable_Liquid_Storage_Legs_PCS', 'FileExtension': '.rfa', 'FileLength': 901120, 'Version': '2022.2.8.0'}], 'FamilyTypes': [{'Name': '30 Gallon - 43\" x 18\" x 50\"', 'Parameters': [{'Name': 'zO', 'Value': '3', 'ParameterId': 3570, 'DataType': 'Integer', 'ParameterType': 'Type'}], 'Files': [], 'Id': '9f1f7425-cf9f-4b91-8cb3-585171a45b5f'}, {'Name': '90 Gallon - 43\" x 34\" x 71\"', 'Parameters': [{'Name': 'zO', 'Value': '6', 'ParameterId': 3573, 'DataType': 'Integer', 'ParameterType': 'Type'}], 'Files': [], 'Id': '5bb9d810-713d-4949-866e-6edfbe4d8f88'}, {'Name': '45 Gallon - 43\" x 18\" x 71\"', 'Parameters': [{'Name': 'zO', 'Value': '4', 'ParameterId': 3571, 'DataType': 'Integer', 'ParameterType': 'Type'}], 'Files': [], 'Id': '76980e3b-365d-437e-a172-a624388e34ba'}, {'Name': '60 Gallon - 34\" x 34\" x 71\"', 'Parameters': [{'Name': 'zO', 'Value': '5', 'ParameterId': 3572, 'DataType': 'Integer', 'ParameterType': 'Type'}], 'Files': [], 'Id': '9c2bc93c-a5d8-410a-be3f-a90bffec238b'}, {'Name': '16 Gallon - 23\" x 18\" x 50\"', 'Parameters': [{'Name': 'zO', 'Value': '2', 'ParameterId': 3569, 'DataType': 'Integer', 'ParameterType': 'Type'}], 'Files': [], 'Id': '231f7211-8242-481b-8b3f-add80ecc3498'}, {'Name': '12 Gallon - 23\" x 18\" x 41\"', 'Parameters': [{'Name': 'zO', 'Value': '1', 'ParameterId': 3568, 'DataType': 'Integer', 'ParameterType': 'Instance'}], 'Files': [], 'Id': 'b54c08b5-60a0-406d-8574-b5f7ac24438b'}, {'Name': '120 Gallon - 59 1/16\" x 34\" x 65\"', 'Parameters': [{'Name': 'zO', 'Value': '7', 'ParameterId': 3574, 'DataType': 'Integer', 'ParameterType': 'Type'}], 'Files': [], 'Id': '3aa718c9-4da9-44d8-aeee-debb5ab9f4be'}], 'Properties': [{'Name': 'Detail', 'Value': '<ul><li>Designed for storing hazardous chemicals, paints and other flammable materials</li> <li>Come with 6\" box style legs for easy cleaning under the cabinet, moving with a forklift</li> <li>These ventilated cabinets that are available in a variety of sizes and come in two door styles, manual and self closing</li> <li>These flammable cabinets meet the NFPA, OSHA, and FM safety standards</li></ul>', 'Id': 363321}, {'Name': 'TitleHeader', 'Value': 'Legs', 'Id': 363322}, {'Name': 'TitleSubheader', 'Value': 'Flammable Safety Storage', 'Id': 363323}, {'Name': 'product_id', 'Value': '3334', 'Id': 363344}, {'Name': 'Tags', 'Value': 'Safety, Fire, paint', 'Id': 363430}], 'Parameters': [{'Name': 'MIN_Width', 'Value': '1.91666666666667', 'ParameterId': 12903, 'DataType': 'Length', 'ParameterType': 'Type', 'Sort': 1}, {'Name': 'MAX_Width', 'Value': '4.921875', 'ParameterId': 12904, 'DataType': 'Length', 'ParameterType': 'Type', 'Sort': 2}, {'Name': 'MIN_Depth', 'Value': '1.5', 'ParameterId': 12905, 'DataType': 'Length', 'ParameterType': 'Type', 'Sort': 4}, {'Name': 'MAX_Depth', 'Value': '2.83333333333333', 'ParameterId': 12906, 'DataType': 'Length', 'ParameterType': 'Type', 'Sort': 5}, {'Name': 'MIN_Height', 'Value': '3.41666666666667', 'ParameterId': 12907, 'DataType': 'Length', 'ParameterType': 'Type', 'Sort': 7}, {'Name': 'MAX_Height', 'Value': '5.91666666666667', 'ParameterId': 12908, 'DataType': 'Length', 'ParameterType': 'Type', 'Sort': 8}, {'Name': 'STD_Widths', 'Value': '23\", 34\", 43\", 59 1/6\"', 'ParameterId': 12909, 'DataType': 'Text', 'ParameterType': 'Type'}, {'Name': 'STD_Depths', 'Value': '18\", 34\"', 'ParameterId': 12910, 'DataType': 'Text', 'ParameterType': 'Type', 'Sort': 3}, {'Name': 'STD_Heights', 'Value': '41\", 50\", 71\", 65\"', 'ParameterId': 12911, 'DataType': 'Text', 'ParameterType': 'Type', 'Sort': 6}, {'Name': 'SSG_Short Description', 'Value': 'Flammable Storage Cabinet', 'ParameterId': 12913, 'DataType': 'Text', 'ParameterType': 'Type', 'Sort': 12}, {'Name': 'SSG_Long Description', 'Value': 'These ventilated chemical storage cabinets are ideal for storing hazardous chemical and other combustible materials They are available in a variety of sizes and come two door styles manual and self closing  Come with 6\" box style legs for easy cleaning under the cabinet and moving with a forklift The ventilated chemical storage cabinets are all-welded double-wall cabinets meeting NFPA, OSHA, and FM safety standards', 'ParameterId': 12914, 'DataType': 'MultlineText', 'ParameterType': 'Type', 'Sort': 11}, {'Name': 'zM', 'Value': '315764.1', 'ParameterId': 12917, 'DataType': 'Number', 'ParameterType': 'Type', 'Hidden': True}, {'Name': 'SSG_Author', 'Value': 'TBenavides', 'ParameterId': 12918, 'DataType': 'Text', 'ParameterType': 'Type', 'Sort': 19}, {'Name': 'SSG_Product Code', 'Value': '=\"SMS-43-1\" + zPT00 + zPT01 + \"-50\"', 'ParameterId': 12919, 'DataType': 'Text', 'ParameterType': 'Instance', 'Hidden': True}, {'Name': 'URL_Contact Southwest Solutions Group', 'Value': 'https://fetchbim.com/contact-us', 'ParameterId': 12920, 'DataType': 'URL', 'ParameterType': 'Type', 'Hidden': True}, {'Name': 'URL_Product Page', 'Value': 'https://fetchbim.com/sgg-flammable-liquid-storage-legs-pcs', 'ParameterId': 12921, 'DataType': 'URL', 'ParameterType': 'Type', 'Hidden': True}, {'Name': 'URL_Specification Manual', 'Value': 'https://fetchbim.com/hosted_pdf/SPEC_SSG_Flammable_Liquid_Legs_PCS.pdf', 'ParameterId': 12922, 'DataType': 'URL', 'ParameterType': 'Type', 'Hidden': True}, {'Name': 'zP', 'Value': 'SMS-43', 'ParameterId': 12923, 'DataType': 'Text', 'ParameterType': 'Type', 'Hidden': True}, {'Name': 'Model', 'Value': 'SMS-43', 'ParameterId': 12924, 'DataType': 'Text', 'ParameterType': 'Type', 'Sort': 22}]}\n"
          ]
        }
      ],
      "source": [
        "print(fam.to_dict())"
      ]
    },
    {
      "cell_type": "code",
      "execution_count": 30,
      "metadata": {},
      "outputs": [
        {
          "name": "stdout",
          "output_type": "stream",
          "text": [
            "Id 167cb9be-24e7-4031-b563-7a5c0e220c5b\n",
            "Name SGG_Flammable_Liquid_Storage_Legs_PCS\n",
            "CategoryName Furniture\n",
            "FamilyObjectType Family\n"
          ]
        },
        {
          "ename": "KeyError",
          "evalue": "'GroupedFamilies'",
          "output_type": "error",
          "traceback": [
            "\u001b[1;31m---------------------------------------------------------------------------\u001b[0m",
            "\u001b[1;31mKeyError\u001b[0m                                  Traceback (most recent call last)",
            "\u001b[1;32mC:\\Users\\KBRUXV~1\\AppData\\Local\\Temp/ipykernel_40640/1414494992.py\u001b[0m in \u001b[0;36m<module>\u001b[1;34m\u001b[0m\n\u001b[0;32m     21\u001b[0m \u001b[1;33m\u001b[0m\u001b[0m\n\u001b[0;32m     22\u001b[0m \u001b[1;33m\u001b[0m\u001b[0m\n\u001b[1;32m---> 23\u001b[1;33m \u001b[0mpprint\u001b[0m\u001b[1;33m(\u001b[0m\u001b[0mjson_decode\u001b[0m\u001b[1;33m(\u001b[0m\u001b[0mj_dict\u001b[0m\u001b[1;33m)\u001b[0m\u001b[1;33m)\u001b[0m\u001b[1;33m\u001b[0m\u001b[1;33m\u001b[0m\u001b[0m\n\u001b[0m",
            "\u001b[1;32mC:\\Users\\KBRUXV~1\\AppData\\Local\\Temp/ipykernel_40640/1414494992.py\u001b[0m in \u001b[0;36mjson_decode\u001b[1;34m(obj)\u001b[0m\n\u001b[0;32m     16\u001b[0m         \u001b[1;31m#     ret[key] = x\u001b[0m\u001b[1;33m\u001b[0m\u001b[1;33m\u001b[0m\u001b[1;33m\u001b[0m\u001b[0m\n\u001b[0;32m     17\u001b[0m \u001b[1;33m\u001b[0m\u001b[0m\n\u001b[1;32m---> 18\u001b[1;33m     \u001b[0mdecode\u001b[0m\u001b[1;33m(\u001b[0m\u001b[0mobj\u001b[0m\u001b[1;33m)\u001b[0m\u001b[1;33m\u001b[0m\u001b[1;33m\u001b[0m\u001b[0m\n\u001b[0m\u001b[0;32m     19\u001b[0m     \u001b[1;32mreturn\u001b[0m \u001b[0mret\u001b[0m\u001b[1;33m\u001b[0m\u001b[1;33m\u001b[0m\u001b[0m\n\u001b[0;32m     20\u001b[0m \u001b[1;33m\u001b[0m\u001b[0m\n",
            "\u001b[1;32mC:\\Users\\KBRUXV~1\\AppData\\Local\\Temp/ipykernel_40640/1414494992.py\u001b[0m in \u001b[0;36mdecode\u001b[1;34m(obj, level)\u001b[0m\n\u001b[0;32m      6\u001b[0m             \u001b[1;32mfor\u001b[0m \u001b[0mk\u001b[0m\u001b[1;33m,\u001b[0m \u001b[0mv\u001b[0m \u001b[1;32min\u001b[0m \u001b[0mobj\u001b[0m\u001b[1;33m.\u001b[0m\u001b[0mitems\u001b[0m\u001b[1;33m(\u001b[0m\u001b[1;33m)\u001b[0m\u001b[1;33m:\u001b[0m\u001b[1;33m\u001b[0m\u001b[1;33m\u001b[0m\u001b[0m\n\u001b[0;32m      7\u001b[0m                 \u001b[1;32mif\u001b[0m \u001b[0misinstance\u001b[0m\u001b[1;33m(\u001b[0m\u001b[0mv\u001b[0m\u001b[1;33m,\u001b[0m \u001b[1;33m(\u001b[0m\u001b[0mdict\u001b[0m\u001b[1;33m,\u001b[0m \u001b[0mlist\u001b[0m\u001b[1;33m)\u001b[0m\u001b[1;33m)\u001b[0m\u001b[1;33m:\u001b[0m\u001b[1;33m\u001b[0m\u001b[1;33m\u001b[0m\u001b[0m\n\u001b[1;32m----> 8\u001b[1;33m                     \u001b[0mdecode\u001b[0m\u001b[1;33m(\u001b[0m\u001b[0mv\u001b[0m\u001b[1;33m,\u001b[0m \u001b[0mlevel\u001b[0m\u001b[1;33m=\u001b[0m\u001b[0mret\u001b[0m\u001b[1;33m[\u001b[0m\u001b[0mk\u001b[0m\u001b[1;33m]\u001b[0m\u001b[1;33m)\u001b[0m\u001b[1;33m\u001b[0m\u001b[1;33m\u001b[0m\u001b[0m\n\u001b[0m\u001b[0;32m      9\u001b[0m                 \u001b[1;32melse\u001b[0m\u001b[1;33m:\u001b[0m\u001b[1;33m\u001b[0m\u001b[1;33m\u001b[0m\u001b[0m\n\u001b[0;32m     10\u001b[0m                     \u001b[0mprint\u001b[0m\u001b[1;33m(\u001b[0m\u001b[0mk\u001b[0m\u001b[1;33m,\u001b[0m \u001b[0mv\u001b[0m\u001b[1;33m)\u001b[0m\u001b[1;33m\u001b[0m\u001b[1;33m\u001b[0m\u001b[0m\n",
            "\u001b[1;31mKeyError\u001b[0m: 'GroupedFamilies'"
          ]
        }
      ],
      "source": [
        "def json_decode(obj):\n",
        "    ret = {}\n",
        "    \n",
        "    def decode(obj, level=None):\n",
        "        if isinstance(obj, dict):\n",
        "            for k, v in obj.items():\n",
        "                if isinstance(v, (dict, list)):\n",
        "                    decode(v, level=k)\n",
        "                else:\n",
        "                    ret[k] = v\n",
        "        # elif isinstance(x, list):\n",
        "        #     for elem in x:\n",
        "        #         flatten(elem)\n",
        "        # else:\n",
        "        #     # x == string, integer, etc\n",
        "        #     ret[key] = x\n",
        "    \n",
        "    decode(obj)\n",
        "    return ret\n",
        "\n",
        "\n",
        "\n",
        "pprint(json_decode(j_dict))"
      ]
    }
  ],
  "metadata": {
    "interpreter": {
      "hash": "8a517bb6487a6d0afee10a2839dbc59124d20f7320cb08b34273c7e0d80d8489"
    },
    "kernelspec": {
      "display_name": "Python 3.8.5 ('venv': venv)",
      "language": "python",
      "name": "python3"
    },
    "language_info": {
      "codemirror_mode": {
        "name": "ipython",
        "version": 3
      },
      "file_extension": ".py",
      "mimetype": "text/x-python",
      "name": "python",
      "nbconvert_exporter": "python",
      "pygments_lexer": "ipython3",
      "version": "3.8.5"
    },
    "orig_nbformat": 4
  },
  "nbformat": 4,
  "nbformat_minor": 2
}
