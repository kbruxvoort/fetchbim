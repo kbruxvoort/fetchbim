{
 "cells": [
  {
   "cell_type": "code",
   "execution_count": 3,
   "source": [
    "import aiohttp\r\n",
    "import asyncio\r\n",
    "import json\r\n",
    "import os\r\n",
    "\r\n",
    "from requests.exceptions import HTTPError\r\n",
    "from fetchbim import settings\r\n",
    "from fetchbim.bimservice import get_ids\r\n",
    "from aiohttp import ClientSession"
   ],
   "outputs": [
    {
     "output_type": "error",
     "ename": "ModuleNotFoundError",
     "evalue": "No module named 'fetchbim'",
     "traceback": [
      "\u001b[1;31m---------------------------------------------------------------------------\u001b[0m",
      "\u001b[1;31mModuleNotFoundError\u001b[0m                       Traceback (most recent call last)",
      "\u001b[1;32mC:\\Users\\KBRUXV~1\\AppData\\Local\\Temp/ipykernel_28956/3028863585.py\u001b[0m in \u001b[0;36m<module>\u001b[1;34m\u001b[0m\n\u001b[0;32m      5\u001b[0m \u001b[1;33m\u001b[0m\u001b[0m\n\u001b[0;32m      6\u001b[0m \u001b[1;32mfrom\u001b[0m \u001b[0mrequests\u001b[0m\u001b[1;33m.\u001b[0m\u001b[0mexceptions\u001b[0m \u001b[1;32mimport\u001b[0m \u001b[0mHTTPError\u001b[0m\u001b[1;33m\u001b[0m\u001b[1;33m\u001b[0m\u001b[0m\n\u001b[1;32m----> 7\u001b[1;33m \u001b[1;32mfrom\u001b[0m \u001b[0mfetchbim\u001b[0m \u001b[1;32mimport\u001b[0m \u001b[0msettings\u001b[0m\u001b[1;33m\u001b[0m\u001b[1;33m\u001b[0m\u001b[0m\n\u001b[0m\u001b[0;32m      8\u001b[0m \u001b[1;32mfrom\u001b[0m \u001b[0mfetchbim\u001b[0m\u001b[1;33m.\u001b[0m\u001b[0mbimservice\u001b[0m \u001b[1;32mimport\u001b[0m \u001b[0mget_ids\u001b[0m\u001b[1;33m\u001b[0m\u001b[1;33m\u001b[0m\u001b[0m\n\u001b[0;32m      9\u001b[0m \u001b[1;32mfrom\u001b[0m \u001b[0maiohttp\u001b[0m \u001b[1;32mimport\u001b[0m \u001b[0mClientSession\u001b[0m\u001b[1;33m\u001b[0m\u001b[1;33m\u001b[0m\u001b[0m\n",
      "\u001b[1;31mModuleNotFoundError\u001b[0m: No module named 'fetchbim'"
     ]
    }
   ],
   "metadata": {}
  },
  {
   "cell_type": "code",
   "execution_count": 4,
   "source": [
    "ssgbim_ids = get_ids('All')"
   ],
   "outputs": [
    {
     "output_type": "error",
     "ename": "NameError",
     "evalue": "name 'get_ids' is not defined",
     "traceback": [
      "\u001b[1;31m---------------------------------------------------------------------------\u001b[0m",
      "\u001b[1;31mNameError\u001b[0m                                 Traceback (most recent call last)",
      "\u001b[1;32mC:\\Users\\KBRUXV~1\\AppData\\Local\\Temp/ipykernel_51308/355322682.py\u001b[0m in \u001b[0;36m<module>\u001b[1;34m\u001b[0m\n\u001b[1;32m----> 1\u001b[1;33m \u001b[0mssgbim_ids\u001b[0m \u001b[1;33m=\u001b[0m \u001b[0mget_ids\u001b[0m\u001b[1;33m(\u001b[0m\u001b[1;34m'All'\u001b[0m\u001b[1;33m)\u001b[0m\u001b[1;33m\u001b[0m\u001b[1;33m\u001b[0m\u001b[0m\n\u001b[0m",
      "\u001b[1;31mNameError\u001b[0m: name 'get_ids' is not defined"
     ]
    }
   ],
   "metadata": {}
  },
  {
   "cell_type": "code",
   "execution_count": 4,
   "source": [
    "def extract_fields_from_response(response):\r\n",
    "    \"\"\"Extract family data from bimservice\"\"\"\r\n",
    "    ssgfid = response.get('familyId', '')\r\n",
    "    family_name = response.get('familyName', '')\r\n",
    "    category_name = response.get('categoryName', '').split('/')[0]\r\n",
    "    object_type = response.get('familyObjectType')\r\n",
    "    status_index = response.get('status', 2)\r\n",
    "    if status_index == 0:\r\n",
    "        status = 'Public'\r\n",
    "    elif status_index == 1:\r\n",
    "        status = 'Private'\r\n",
    "    else:\r\n",
    "        status = 'Work in Progress'\r\n",
    "\r\n",
    "    return (ssgfid, family_name, category_name, object_type, status)"
   ],
   "outputs": [
    {
     "output_type": "stream",
     "name": "stdout",
     "text": [
      "Kyle\n"
     ]
    }
   ],
   "metadata": {}
  },
  {
   "cell_type": "code",
   "execution_count": null,
   "source": [
    "async def get_family_data(family_id, session):\r\n",
    "    \"\"\"Get family data using bimservice (asynchronously\"\"\"\r\n",
    "    url = settings.BIMSERVICE_BASE_URL + \"Family/\" + family_id\r\n",
    "    try:\r\n",
    "        response = await session.request(method='GET', url=url, headers=settings.BIMSERVICE_HEADERS)\r\n",
    "        response.raise_for_status()\r\n",
    "        print(f'Response status ({url}): {response.status}')\r\n",
    "    except HTTPError as http_err:\r\n",
    "        print(f'An HTTP error occurred: {http_err}')\r\n",
    "    except Exception as err:\r\n",
    "        print(f'An error occurred: {err}')\r\n",
    "    response_json = await response.json()\r\n",
    "    return response_json"
   ],
   "outputs": [],
   "metadata": {}
  },
  {
   "cell_type": "code",
   "execution_count": null,
   "source": [
    "async def main(family_id, session):\r\n",
    "    \"\"\"Wrapper for running program in an asynchronous manner\"\"\"\r\n",
    "    try:\r\n",
    "        response = await get_family_data(family_id, session)\r\n",
    "        parsed_response = extract_fields_from_response(response)\r\n",
    "        print(f'Response: {json.dumps(parsed_response, indent=2)}')\r\n",
    "    except Exception as err:\r\n",
    "        print(f'Exception occurred: {err}')\r\n",
    "        pass"
   ],
   "outputs": [],
   "metadata": {}
  },
  {
   "cell_type": "code",
   "execution_count": null,
   "source": [
    "async with ClientSession() as session:\r\n",
    "    await asyncio.gather(*[main(family_id, session) for family_id in ssgbim_ids])"
   ],
   "outputs": [],
   "metadata": {}
  }
 ],
 "metadata": {
  "orig_nbformat": 4,
  "language_info": {
   "name": "python",
   "version": "3.8.5",
   "mimetype": "text/x-python",
   "codemirror_mode": {
    "name": "ipython",
    "version": 3
   },
   "pygments_lexer": "ipython3",
   "nbconvert_exporter": "python",
   "file_extension": ".py"
  },
  "kernelspec": {
   "name": "python3",
   "display_name": "Python 3.8.5 64-bit ('venv': venv)"
  },
  "interpreter": {
   "hash": "e51067d2f6be7bdc69cc790600142f68999599c9c8fe7e42393a2fecc546810f"
  }
 },
 "nbformat": 4,
 "nbformat_minor": 2
}