{
 "cells": [
  {
   "cell_type": "code",
   "execution_count": 8,
   "source": [
    "from fetchbim.notion import NotionFilter, NotionProperty, PropertyType, NotionPage"
   ],
   "outputs": [],
   "metadata": {}
  },
  {
   "cell_type": "code",
   "execution_count": 2,
   "source": [
    "data = {}\r\n",
    "category_filter = NotionFilter(['Casework', 'Furniture'], property_name='Category')\r\n",
    "results = category_filter.query('Revit Categories')\r\n",
    "NotionProperty.set_property(data, results, '_Revit Category', PropertyType.RELATION)\r\n",
    "print(data)"
   ],
   "outputs": [
    {
     "output_type": "stream",
     "name": "stdout",
     "text": [
      "{'properties': {'_Revit Category': {'relation': [{'id': '5fb47870-ccd0-402b-8e88-48555adef11c'}, {'id': '059c8400-c5c2-4698-a0cb-25829b91c2fb'}]}}}\n"
     ]
    }
   ],
   "metadata": {}
  },
  {
   "cell_type": "code",
   "execution_count": 10,
   "source": [
    "data = {}\r\n",
    "family_filter = NotionFilter('a856fc0a-a2dd-40ba-933b-e0518f9f8024', property_name='SSGFID')\r\n",
    "results = family_filter.query('Content Calendar')\r\n",
    "print(NotionProperty.get_property(results[0]['properties'], 'Name'))"
   ],
   "outputs": [
    {
     "output_type": "stream",
     "name": "stdout",
     "text": [
      "SSG_Valve_Gas_Deck_Mounted_CHR\n"
     ]
    }
   ],
   "metadata": {}
  }
 ],
 "metadata": {
  "orig_nbformat": 4,
  "language_info": {
   "name": "python",
   "version": "3.8.5",
   "mimetype": "text/x-python",
   "codemirror_mode": {
    "name": "ipython",
    "version": 3
   },
   "pygments_lexer": "ipython3",
   "nbconvert_exporter": "python",
   "file_extension": ".py"
  },
  "kernelspec": {
   "name": "python3",
   "display_name": "Python 3.8.5 64-bit ('venv': venv)"
  },
  "interpreter": {
   "hash": "8a517bb6487a6d0afee10a2839dbc59124d20f7320cb08b34273c7e0d80d8489"
  }
 },
 "nbformat": 4,
 "nbformat_minor": 2
}