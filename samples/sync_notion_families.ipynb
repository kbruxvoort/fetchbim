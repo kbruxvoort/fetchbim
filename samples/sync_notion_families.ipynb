{
 "cells": [
  {
   "cell_type": "code",
   "execution_count": 1,
   "source": [
    "from fetchbim.admin import get_family\r\n",
    "from fetchbim.bimservice import get_ids\r\n",
    "from fetchbim.family import Family"
   ],
   "outputs": [],
   "metadata": {}
  },
  {
   "cell_type": "code",
   "execution_count": 2,
   "source": [
    "family_ids = get_ids()"
   ],
   "outputs": [],
   "metadata": {}
  },
  {
   "cell_type": "code",
   "execution_count": null,
   "source": [
    "for family_id in family_ids:\r\n",
    "    fam_dict = get_family(family_id)\r\n",
    "    props = fam_dict.get('Properties')\r\n",
    "    fam = Family.from_json(fam_dict)\r\n",
    "    response = fam.post_notion()\r\n",
    "    print(response.json())"
   ],
   "outputs": [],
   "metadata": {}
  }
 ],
 "metadata": {
  "orig_nbformat": 4,
  "language_info": {
   "name": "python",
   "version": "3.8.5",
   "mimetype": "text/x-python",
   "codemirror_mode": {
    "name": "ipython",
    "version": 3
   },
   "pygments_lexer": "ipython3",
   "nbconvert_exporter": "python",
   "file_extension": ".py"
  },
  "kernelspec": {
   "name": "python3",
   "display_name": "Python 3.8.5 64-bit ('venv': venv)"
  },
  "interpreter": {
   "hash": "8a517bb6487a6d0afee10a2839dbc59124d20f7320cb08b34273c7e0d80d8489"
  }
 },
 "nbformat": 4,
 "nbformat_minor": 2
}