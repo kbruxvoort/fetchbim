{
 "cells": [
  {
   "cell_type": "code",
   "execution_count": 1,
   "source": [
    "from tqdm import tqdm\r\n",
    "\r\n",
    "from fetchbim.admin import get_family\r\n",
    "from fetchbim.bimservice import get_ids\r\n",
    "from fetchbim.family import Family\r\n",
    "from fetchbim.teams import sync_complete_msg"
   ],
   "outputs": [],
   "metadata": {}
  },
  {
   "cell_type": "code",
   "execution_count": 2,
   "source": [
    "family_ids = get_ids()"
   ],
   "outputs": [],
   "metadata": {}
  },
  {
   "cell_type": "code",
   "execution_count": 3,
   "source": [
    "table_dict = {}\r\n",
    "count = 0\r\n",
    "for family_id in tqdm(family_ids):\r\n",
    "    fam_dict = get_family(family_id)\r\n",
    "    fam = Family.from_json(fam_dict)\r\n",
    "    response = fam.post_notion()\r\n",
    "    # print(response.status_code)\r\n",
    "    count += 1\r\n",
    "    \r\n",
    "table_dict['Total Families'] = count\r\n",
    "sync_complete_msg(\r\n",
    "    title=\"Family Sync Complete\",\r\n",
    "    message=\"Notion database 'Content Calendar' has successfully been synced with admin database\",\r\n",
    "    button=(\"Content Calendar\", \"https://www.notion.so/fetchbim/f56ac916a3f049dda2df0f864ca63c62\"),\r\n",
    "    table_dict=table_dict\r\n",
    ")"
   ],
   "outputs": [
    {
     "output_type": "stream",
     "name": "stderr",
     "text": [
      "100%|██████████| 571/571 [45:40<00:00,  4.80s/it]\n"
     ]
    }
   ],
   "metadata": {}
  }
 ],
 "metadata": {
  "orig_nbformat": 4,
  "language_info": {
   "name": "python",
   "version": "3.8.5",
   "mimetype": "text/x-python",
   "codemirror_mode": {
    "name": "ipython",
    "version": 3
   },
   "pygments_lexer": "ipython3",
   "nbconvert_exporter": "python",
   "file_extension": ".py"
  },
  "kernelspec": {
   "name": "python3",
   "display_name": "Python 3.8.5 64-bit ('venv': venv)"
  },
  "interpreter": {
   "hash": "8a517bb6487a6d0afee10a2839dbc59124d20f7320cb08b34273c7e0d80d8489"
  }
 },
 "nbformat": 4,
 "nbformat_minor": 2
}