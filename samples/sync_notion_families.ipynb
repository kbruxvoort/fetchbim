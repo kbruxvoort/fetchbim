{
 "cells": [
  {
   "cell_type": "code",
   "execution_count": 1,
   "metadata": {},
   "outputs": [],
   "source": [
    "import os\n",
    "import datetime\n",
    "\n",
    "from time import perf_counter\n",
    "from tqdm import tqdm\n",
    "\n",
    "from fetchbim import Client, Family\n",
    "from fetchbim.utils import truncate\n",
    "from fetchbim.teams import sync_complete_msg\n",
    "from notion_client import Client as NotionClient"
   ]
  },
  {
   "cell_type": "code",
   "execution_count": 2,
   "metadata": {},
   "outputs": [],
   "source": [
    "STATUS_DICT = {\n",
    "    0: \"Public\", \n",
    "    1: \"Private\", \n",
    "    2: \"Work in Progress\",\n",
    "    3: \"Website Public / Fetch Private\"}"
   ]
  },
  {
   "cell_type": "code",
   "execution_count": 3,
   "metadata": {},
   "outputs": [],
   "source": [
    "def get_all_pages(client, database_id: str, **kwargs) -> list:\n",
    "    results = []\n",
    "    cursor = None\n",
    "    while True:\n",
    "        response = client.databases.query(\n",
    "            database_id=database_id, start_cursor=cursor\n",
    "        )\n",
    "        results.extend(response[\"results\"])\n",
    "        if response[\"has_more\"] is False:\n",
    "            break\n",
    "        else:\n",
    "            cursor = response[\"next_cursor\"]\n",
    "            \n",
    "    return results"
   ]
  },
  {
   "cell_type": "code",
   "execution_count": 4,
   "metadata": {},
   "outputs": [],
   "source": [
    "def get_item_in_list(list_, name, default=None):\n",
    "    for i in list_:\n",
    "        if i.name.lower() == name.lower():\n",
    "            try:\n",
    "                return i.value\n",
    "            except AttributeError:\n",
    "                return default\n",
    "    return default"
   ]
  },
  {
   "cell_type": "code",
   "execution_count": 5,
   "metadata": {},
   "outputs": [],
   "source": [
    "fetch = Client(auth=os.environ[\"BIM_KEY\"])\n",
    "notion = NotionClient(auth=os.environ[\"NOTION_KEY\"])"
   ]
  },
  {
   "cell_type": "code",
   "execution_count": 7,
   "metadata": {},
   "outputs": [],
   "source": [
    "notion.options.timeout_ms = 100000"
   ]
  },
  {
   "cell_type": "code",
   "execution_count": 8,
   "metadata": {},
   "outputs": [],
   "source": [
    "ifc = get_all_pages(notion, database_id=\"3288117b879f450cb58b14580fe041ab\")\n",
    "revit_cat = get_all_pages(notion, database_id=\"3fa7e9f3905f432eaa9c8645b1ce0f98\")\n",
    "bo_cat = get_all_pages(notion, database_id=\"30ee9042b5cb4ddfa41d6d82c3b7afff\")\n",
    "master = get_all_pages(notion, database_id=\"a1a8d1982a9b4dc8b8cca008b16ed986\")\n",
    "uniformat = get_all_pages(notion, database_id=\"09e15c47c13249f1b0a34f3734111151\")\n",
    "omni = get_all_pages(notion, database_id=\"0effd533b8a74310a8e816802f4b4c4b\")"
   ]
  },
  {
   "cell_type": "code",
   "execution_count": 9,
   "metadata": {},
   "outputs": [],
   "source": [
    "revit_cat_dict = {x['properties']['Category']['title'][0]['plain_text']: x['id'] for x in revit_cat}\n",
    "bo_cat_dict = {x['properties']['Combined Name']['formula']['string']: x['id'] for x in bo_cat}\n",
    "ifc_dict = {x['properties']['name']['title'][0]['plain_text']: x['id'] for x in ifc}\n",
    "master_dict = {x['properties']['code']['rich_text'][0]['plain_text']: x['id'] for x in master}\n",
    "uniformat_dict = {x['properties']['code']['rich_text'][0]['plain_text']: x['id'] for x in uniformat}\n",
    "omni_dict = {x['properties']['code']['rich_text'][0]['plain_text']: x['id'] for x in omni}"
   ]
  },
  {
   "cell_type": "code",
   "execution_count": 10,
   "metadata": {},
   "outputs": [],
   "source": [
    "family_ids = fetch.families.list()"
   ]
  },
  {
   "cell_type": "code",
   "execution_count": 11,
   "metadata": {},
   "outputs": [],
   "source": [
    "db_id = \"f56ac916a3f049dda2df0f864ca63c62\""
   ]
  },
  {
   "cell_type": "code",
   "execution_count": 12,
   "metadata": {},
   "outputs": [
    {
     "name": "stderr",
     "output_type": "stream",
     "text": [
      "100%|██████████| 707/707 [22:32<00:00,  1.91s/it]\n"
     ]
    }
   ],
   "source": [
    "t1_start = perf_counter()\n",
    "count = 0\n",
    "for family_id in tqdm(family_ids):\n",
    "    filt = {\"property\": \"SSGFID\",\n",
    "        \"rich_text\": {\"equals\": family_id}}\n",
    "    results = notion.databases.query(database_id=db_id, filter=filt)['results']\n",
    "    if results:\n",
    "        count += 1\n",
    "        # family data\n",
    "        page_id = results[0]['id']\n",
    "        fam = fetch.families.retrieve(family_id)\n",
    "        cover = {\"type\": \"external\", \"external\": {\"url\": f\"https://bimservice.ssgbim.com:443/Family/{family_id}/File/FamilyImageLarge\"}}\n",
    "        properties = dict()\n",
    "        properties['Name'] = {\"title\": [{\"type\": \"text\", \"text\": {\"content\": fam.name}}]}\n",
    "        properties['_Status'] = {\"select\": {\"name\": STATUS_DICT.get(fam.status)}}\n",
    "        documents = \"\\n\".join([f\"[{_file.id}] - {_file.key} - {_file.name+_file.extension}\" for _file in fam.files if \"Gallery\" not in _file.key])\n",
    "        properties['_Documents'] = {\"rich_text\": [{\"text\": {\"content\": truncate(documents)}}]}\n",
    "        \n",
    "        # Parameters\n",
    "        zM = get_item_in_list(fam.parameters, 'zM', default=\"\")\n",
    "        properties[\"_zM\"] = {\"rich_text\": [{\"text\": {\"content\": zM}}]}\n",
    "        \n",
    "        short_descript = get_item_in_list(fam.parameters, 'SSG_Short Description', default=\"\")\n",
    "        properties[\"_Short Description\"] = {\"rich_text\": [{\"text\": {\"content\": truncate(short_descript)}}]}\n",
    "        \n",
    "        long_descript = get_item_in_list(fam.parameters, 'SSG_Long Description', default=\"\")\n",
    "        properties[\"_Long Description\"] = {\"rich_text\": [{\"text\": {\"content\": truncate(long_descript)}}]}\n",
    "        \n",
    "        # Properties\n",
    "        tags = get_item_in_list(fam.properties, 'Tags', default=\"\")\n",
    "        if \",\" in tag_list:\n",
    "            tags = \"\\n\".join([tag.strip() for tag in tags.split(',')])\n",
    "        properties[\"_Tags\"] = {\"rich_text\": [{\"text\": {\"content\": truncate(tags)}}]}\n",
    "        \n",
    "        detail = get_item_in_list(fam.properties, 'Detail', default=\"\")\n",
    "        properties[\"_Detail\"] = {\"rich_text\": [{\"text\": {\"content\": truncate(detail)}}]}\n",
    "        \n",
    "        tech_data = get_item_in_list(fam.properties, 'Technical Data', default=\"\")\n",
    "        properties[\"_Technical Data\"] = {\"rich_text\": [{\"text\": {\"content\": truncate(tech_data)}}]}\n",
    "        \n",
    "        fam_design = get_item_in_list(fam.properties, 'Family Design', default=\"\")\n",
    "        properties[\"_Family Design\"] = {\"rich_text\": [{\"text\": {\"content\": truncate(fam_design)}}]}\n",
    "        \n",
    "        connectors = get_item_in_list(fam.properties, 'Has MEP Connectors', default=False)\n",
    "        if connectors == \"Yes\":\n",
    "            c_bool = True\n",
    "        else:\n",
    "            c_bool = False\n",
    "        properties[\"_Has MEP Connectors\"] = {\"checkbox\": c_bool}\n",
    "        \n",
    "        pricing = get_item_in_list(fam.properties, 'Includes Pricing', default=False)\n",
    "        if pricing == 'Yes':\n",
    "            p_bool = True\n",
    "        else:\n",
    "            p_bool = False\n",
    "        properties[\"_Includes Pricing\"] = {\"checkbox\": p_bool}\n",
    "        \n",
    "        ada = get_item_in_list(fam.properties, 'ADA Compliant', default=False)\n",
    "        if ada == 'Yes':\n",
    "            a_bool = True\n",
    "        else:\n",
    "            a_bool = False\n",
    "        properties[\"_ADA Compliant\"] = {\"checkbox\": a_bool}\n",
    "        \n",
    "        sms = get_item_in_list(fam.properties, 'SMS Purchase Link', default=\"\")\n",
    "        if sms:\n",
    "            properties['_SMS Purchase Link'] = {\"url\": sms}\n",
    "        \n",
    "        product_id = get_item_in_list(fam.properties, 'product_id', default=\"\")\n",
    "        if product_id:\n",
    "            properties['_Product Page'] = {\"url\": f\"https://fetchbim.com/catalog/product/view/id/{str(product_id)}\"}\n",
    "        \n",
    "        # relations\n",
    "        bo_cat_value = get_item_in_list(fam.properties, 'BIMobject Category')\n",
    "        bo_cat_id = bo_cat_dict.get(bo_cat_value)\n",
    "        if bo_cat_id:\n",
    "            properties[\"_BIMobject Category\"] = {\"relation\": [{\"id\": bo_cat_id}]}\n",
    "        \n",
    "        ifc_value = get_item_in_list(fam.properties, 'IFC')\n",
    "        ifc_id = ifc_dict.get(ifc_value)\n",
    "        if ifc_id:\n",
    "            properties[\"_IFC\"] = {\"relation\": [{\"id\": ifc_id}]}\n",
    "            \n",
    "        omni_value = get_item_in_list(fam.properties, 'Omniclass')\n",
    "        omni_id = omni_dict.get(omni_value)\n",
    "        if omni_id:\n",
    "            properties[\"_Omniclass\"] = {\"relation\": [{\"id\": omni_id}]}\n",
    "            \n",
    "        uniformat_value = get_item_in_list(fam.parameters, 'Assembly Code')\n",
    "        uniformat_id = uniformat_dict.get(uniformat_value)\n",
    "        if uniformat_id:\n",
    "            properties[\"_Uniformat\"] = {\"relation\": [{\"id\": uniformat_id}]}\n",
    "            \n",
    "        master_value = get_item_in_list(fam.parameters, 'Keynote')\n",
    "        master_id = master_dict.get(master_value)\n",
    "        if master_id:\n",
    "            properties[\"_Masterformat\"] = {\"relation\": [{\"id\": master_id}]}\n",
    "            \n",
    "        revit_cat_id = revit_cat_dict.get(fam.category_name.split('/')[0])\n",
    "        if revit_cat_id:\n",
    "            properties[\"_Revit Category\"] = {\"relation\": [{\"id\": revit_cat_id}]}\n",
    "            \n",
    "        response = notion.pages.update(page_id=page_id, properties=properties, cover=cover)\n",
    "        \n",
    "t1_stop = perf_counter()\n",
    "script_time_s = t1_stop - t1_start\n",
    "script_time = \"{:0>8}\".format(str(datetime.timedelta(seconds=script_time_s)))\n",
    "table_dict = dict()\n",
    "table_dict['Public Ids'] = len(family_ids) \n",
    "table_dict['Synced Pages'] = count \n",
    "table_dict['Elapsed Time'] = script_time      \n",
    "sync_complete_msg(\n",
    "    title=\"Family Sync Complete\",\n",
    "    message=\"Notion database 'Content Calendar' has successfully been synced with admin database\",\n",
    "    button=(\"Content Calendar\", \"https://www.notion.so/fetchbim/f56ac916a3f049dda2df0f864ca63c62\"),\n",
    "    table_dict=table_dict\n",
    ")"
   ]
  }
 ],
 "metadata": {
  "kernelspec": {
   "display_name": "Python 3.10.2 ('venv': venv)",
   "language": "python",
   "name": "python3"
  },
  "language_info": {
   "codemirror_mode": {
    "name": "ipython",
    "version": 3
   },
   "file_extension": ".py",
   "mimetype": "text/x-python",
   "name": "python",
   "nbconvert_exporter": "python",
   "pygments_lexer": "ipython3",
   "version": "3.10.2"
  },
  "orig_nbformat": 4,
  "vscode": {
   "interpreter": {
    "hash": "6d505efb51d765ea8321fddb09b311db5528d8d5e9bff0b1b7bdda455f331c73"
   }
  }
 },
 "nbformat": 4,
 "nbformat_minor": 2
}
