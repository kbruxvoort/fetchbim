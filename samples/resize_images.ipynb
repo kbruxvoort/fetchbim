{
 "cells": [
  {
   "cell_type": "code",
   "execution_count": 1,
   "source": [
    "import os\r\n",
    "\r\n",
    "from PIL import Image"
   ],
   "outputs": [],
   "metadata": {}
  },
  {
   "cell_type": "code",
   "execution_count": 2,
   "source": [
    "SIZE_LARGE = (1800, 1186)\r\n",
    "SIZE_MEDIUM = (300, 198)\r\n",
    "SIZE_SMALL = (186, 186)"
   ],
   "outputs": [],
   "metadata": {}
  },
  {
   "cell_type": "code",
   "execution_count": 3,
   "source": [
    "file_path = './files/SSG-MS07-04_Large.jpg'\r\n",
    "file_name, file_ext = os.path.splitext(file_path)\r\n",
    "\r\n",
    "im = Image.open(file_path)\r\n",
    "width, height = im.size\r\n",
    "left = int((im.width - SIZE_LARGE[0]) / 2)\r\n",
    "large = im.crop((left, 0, SIZE_LARGE[0] + left, SIZE_LARGE[1]))\r\n",
    "large.save(file_name + \"_Large\" + file_ext)\r\n",
    "\r\n",
    "medium = large.resize((SIZE_MEDIUM[0], SIZE_MEDIUM[1]))\r\n",
    "medium.save(file_name + \"_Medium\" + file_ext)\r\n",
    "\r\n",
    "ratio = int(SIZE_MEDIUM[0] / (SIZE_MEDIUM[1] / SIZE_SMALL[0]))\r\n",
    "small = medium.resize((ratio, SIZE_SMALL[0]))\r\n",
    "small_left = (ratio - SIZE_SMALL[0]) / 2\r\n",
    "small_crop = small.crop((small_left, 0, SIZE_SMALL[0] + small_left, SIZE_SMALL[0]))\r\n",
    "small_crop.save(file_name + \"_Small\" + file_ext)"
   ],
   "outputs": [],
   "metadata": {}
  }
 ],
 "metadata": {
  "orig_nbformat": 4,
  "language_info": {
   "name": "python",
   "version": "3.8.5",
   "mimetype": "text/x-python",
   "codemirror_mode": {
    "name": "ipython",
    "version": 3
   },
   "pygments_lexer": "ipython3",
   "nbconvert_exporter": "python",
   "file_extension": ".py"
  },
  "kernelspec": {
   "name": "python3",
   "display_name": "Python 3.8.5 64-bit ('venv': venv)"
  },
  "interpreter": {
   "hash": "8a517bb6487a6d0afee10a2839dbc59124d20f7320cb08b34273c7e0d80d8489"
  }
 },
 "nbformat": 4,
 "nbformat_minor": 2
}