{
 "cells": [
  {
   "cell_type": "code",
   "execution_count": 1,
   "source": [
    "from fetchbim.query import SharedFile"
   ],
   "outputs": [],
   "metadata": {}
  },
  {
   "cell_type": "code",
   "execution_count": 12,
   "source": [
    "shared_rule_id = 124"
   ],
   "outputs": [],
   "metadata": {}
  },
  {
   "cell_type": "code",
   "execution_count": 19,
   "source": [
    "shared_rule = SharedFile.from_json(shared_rule_id)\r\n",
    "attrs = shared_rule.Attributes\r\n",
    "for attr in attrs:\r\n",
    "    print(f'[{attr.SharedAttributeId}] {attr.Name}\\n\\t{attr.Value}')"
   ],
   "outputs": [
    {
     "output_type": "stream",
     "name": "stdout",
     "text": [
      "[9079] Keynote\n",
      "\t22 63 00\n",
      "[9085] Assembly Code\n",
      "\tD2060.30\n",
      "[9087] INFO_Lead Time\n",
      "\tContact SSG for more information\n",
      "[9090] Manufacturer\n",
      "\tSouthwest Solutions Group_PRI\n",
      "[9106] Has MEP Connectors\n",
      "\tYes\n",
      "[9108] BIMobject Category\n",
      "\tPlumbing: Valves\n",
      "[9109] Tags\n",
      "\tLab, Laboratory, Gas, Bunsen, Valve\n",
      "[9110] IFC\n",
      "\tValve\n",
      "[9111] ADA Compliant\n",
      "\tNo\n",
      "[9112] Family Design\n",
      "\t<p>This versatile gas valve family is able to add or subtract gas outlets based on your needs. Select a type to choose between 1 outlet, 2 outputs at 90° and 180°, 3, or even 4 outlet units. This family is face-based and can be applied directly to your desired counter top. Integral, straight, serrated hose attachment is fully modeled for render-ready projects.</p>\n",
      "[9114] Includes Pricing\n",
      "\tYes\n",
      "[9116] Primary Material\n",
      "\tChrome plated brass\n",
      "[9117] Technical Data\n",
      "\t<h2>Construction</h2><ul><li>Deck mounted turret base with laboratory ball valve(s)</li><li>Non-removable straight seven serrated hose end</li><li>Center of hose end stands 2-1/16\" off mounted surface</li><li>Forged brass, chrome plated body and lever handle</li><li>Interior of ball valve made with molded teflon seals</li><li>Convenient colored plastic index disk on handle</li></ul><h2>Connections</h2><ul><li>3/8\" IPS female gas inlet</li><li>Includes 3/8\" IPS mounting shank with locknut and washer</li></ul>\n",
      "[9119] Omniclass\n",
      "\t23.65.00.00\n"
     ]
    }
   ],
   "metadata": {}
  }
 ],
 "metadata": {
  "orig_nbformat": 4,
  "language_info": {
   "name": "python",
   "version": "3.8.5",
   "mimetype": "text/x-python",
   "codemirror_mode": {
    "name": "ipython",
    "version": 3
   },
   "pygments_lexer": "ipython3",
   "nbconvert_exporter": "python",
   "file_extension": ".py"
  },
  "kernelspec": {
   "name": "python3",
   "display_name": "Python 3.8.5 64-bit ('venv': venv)"
  },
  "interpreter": {
   "hash": "8a517bb6487a6d0afee10a2839dbc59124d20f7320cb08b34273c7e0d80d8489"
  }
 },
 "nbformat": 4,
 "nbformat_minor": 2
}