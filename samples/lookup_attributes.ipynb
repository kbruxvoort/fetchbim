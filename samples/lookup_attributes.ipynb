{
 "cells": [
  {
   "cell_type": "code",
   "execution_count": 1,
   "source": [
    "from fetchbim.query import SharedFile"
   ],
   "outputs": [],
   "metadata": {}
  },
  {
   "cell_type": "code",
   "execution_count": 2,
   "source": [
    "shared_rule_id = 123"
   ],
   "outputs": [],
   "metadata": {}
  },
  {
   "cell_type": "code",
   "execution_count": 3,
   "source": [
    "shared_rule = SharedFile.from_json(shared_rule_id)\r\n",
    "attrs = shared_rule.Attributes\r\n",
    "for attr in attrs:\r\n",
    "    print(f'[{attr.SharedAttributeId}] {attr.Name}\\n\\t{attr.Value}')"
   ],
   "outputs": [
    {
     "output_type": "stream",
     "name": "stdout",
     "text": [
      "[8827] Manufacturer\n",
      "\tSouthwest Soltuions Group_PNC\n",
      "[8828] Info_Lead Time\n",
      "\tShips in 7-8 weeks\n",
      "[8829] Keynote\n",
      "\t12 31 00\n",
      "[8830] Assembly Code\n",
      "\tE20\n",
      "[8831] Includes Pricing\n",
      "\tYes\n",
      "[8832] ADA Compliant\n",
      "\tNo\n",
      "[8833] Has MEP Connectors\n",
      "\tNo\n",
      "[8834] Tags\n",
      "\tCasework, Blueprint, Shelving, 4 Post, 4-Post, Clipper\n",
      "[8835] Primary Material\n",
      "\tPowder coated steel\n",
      "[8836] BIMobject Category\n",
      "\tFurniture: Shelving & Storage\n",
      "[8837] Omniclass\n",
      "\t23-40-35-00\n",
      "[8838] IFC\n",
      "\tFurniture\n",
      "[8839] Family Design\n",
      "\t<p>This combination blueprint storage unit is a specially configured 4 post shelving system ideal for use in corporate settings and in design firms. Choose between two configuration options to select either the 48\" wide, 36\" deep combination shelves and cubbies configuration, or the 36\" wide, 24\" deep vertical cubbie configuration. All units are 7' 3\" tall and include a back panel. Optional double doors with lock are also included in this family.</p><p>Multiple units can be joined together by beginning with a unit with MODIFY_Starter checked. Uncheck ADD_Right Upright and align a unit with MODIFY_Adder checker. Repeat this process until the desired number of units is reached.</p><p>Download this families material library for access to all colors offered for this product, each with high quality textures and bump maps for photo realistic rendering</p>\n",
      "[8840] Technical Data\n",
      "\t<h2>Construction</h2><ul><li>Complies with SMA and ANSI MH 28.1-1982</li><li>Uprights made of 18 gauge steel.</li><li>Shelves and accessories are vertically adjustable on 1\" centers.</li><li>All shelves made of 18 gauge steel with a 1-3/16\" vertical face on all sides.</li><li>All corners and edges are welded and ground smooth</li><li>Optional doors are fully welded 116 gauge steel and equipped with three 5-knuckle hinges.</li><li>To finish, the steel is cleaned and primed, then coated with a high-grade polyester powder coat. See Finish Options for all available colors</li></ul>\n"
     ]
    }
   ],
   "metadata": {}
  }
 ],
 "metadata": {
  "orig_nbformat": 4,
  "language_info": {
   "name": "python",
   "version": "3.8.5",
   "mimetype": "text/x-python",
   "codemirror_mode": {
    "name": "ipython",
    "version": 3
   },
   "pygments_lexer": "ipython3",
   "nbconvert_exporter": "python",
   "file_extension": ".py"
  },
  "kernelspec": {
   "name": "python3",
   "display_name": "Python 3.8.5 64-bit ('venv': venv)"
  },
  "interpreter": {
   "hash": "8a517bb6487a6d0afee10a2839dbc59124d20f7320cb08b34273c7e0d80d8489"
  }
 },
 "nbformat": 4,
 "nbformat_minor": 2
}