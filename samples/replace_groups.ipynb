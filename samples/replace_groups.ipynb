{
 "cells": [
  {
   "cell_type": "code",
   "execution_count": 32,
   "metadata": {},
   "outputs": [
    {
     "ename": "ImportError",
     "evalue": "cannot import name 'UPDATE_FAMILY' from 'fetchbim.settings' (\\\\ds920\\share\\kyle\\python projects\\fetchbim\\fetchbim\\settings.py)",
     "output_type": "error",
     "traceback": [
      "\u001b[1;31m---------------------------------------------------------------------------\u001b[0m",
      "\u001b[1;31mImportError\u001b[0m                               Traceback (most recent call last)",
      "\u001b[1;32mC:\\Users\\KBRUXV~1\\AppData\\Local\\Temp/ipykernel_9044/2988931543.py\u001b[0m in \u001b[0;36m<module>\u001b[1;34m\u001b[0m\n\u001b[0;32m      2\u001b[0m \u001b[1;32mfrom\u001b[0m \u001b[0mfetchbim\u001b[0m\u001b[1;33m.\u001b[0m\u001b[0mquery\u001b[0m \u001b[1;32mimport\u001b[0m \u001b[0mFilter\u001b[0m\u001b[1;33m\u001b[0m\u001b[1;33m\u001b[0m\u001b[0m\n\u001b[0;32m      3\u001b[0m \u001b[1;32mfrom\u001b[0m \u001b[0mfetchbim\u001b[0m\u001b[1;33m.\u001b[0m\u001b[0madmin\u001b[0m \u001b[1;32mimport\u001b[0m \u001b[0mget_family\u001b[0m\u001b[1;33m\u001b[0m\u001b[1;33m\u001b[0m\u001b[0m\n\u001b[1;32m----> 4\u001b[1;33m \u001b[1;32mfrom\u001b[0m \u001b[0mfetchbim\u001b[0m\u001b[1;33m.\u001b[0m\u001b[0msettings\u001b[0m \u001b[1;32mimport\u001b[0m \u001b[0mUPDATE_FAMILY\u001b[0m\u001b[1;33m,\u001b[0m \u001b[0mBIM_HEADERS\u001b[0m\u001b[1;33m\u001b[0m\u001b[1;33m\u001b[0m\u001b[0m\n\u001b[0m",
      "\u001b[1;31mImportError\u001b[0m: cannot import name 'UPDATE_FAMILY' from 'fetchbim.settings' (\\\\ds920\\share\\kyle\\python projects\\fetchbim\\fetchbim\\settings.py)"
     ]
    }
   ],
   "source": [
    "from fetchbim.family import Family\n",
    "from fetchbim.query import Filter\n",
    "from fetchbim.admin import get_family\n",
    "from fetchbim.settings import UPDATE_FAMILY, BIM_HEADERS"
   ]
  },
  {
   "cell_type": "code",
   "execution_count": 5,
   "metadata": {},
   "outputs": [
    {
     "name": "stdout",
     "output_type": "stream",
     "text": [
      "20\n"
     ]
    }
   ],
   "source": [
    "filt = Filter(CategoryName=\"Model Groups/Blood Slide\")\n",
    "groups = filt.query()\n",
    "print(len(groups))"
   ]
  },
  {
   "cell_type": "code",
   "execution_count": 31,
   "metadata": {},
   "outputs": [
    {
     "name": "stdout",
     "output_type": "stream",
     "text": [
      "d0b349a2-dfcd-4d24-9aea-b2fa09e1cdfc\n",
      "afec6e5b-4b01-4c84-b5ac-4723c66afac1\n",
      "f9efc791-9de7-420e-9882-03e8ca391f3c\n",
      "887bfc31-c066-4b1a-921d-c0b9d3cdcb09\n",
      "e2eee661-b1e7-4c32-8909-3db72bd02e67\n",
      "a5b31f73-043f-4af6-9777-04533b4550f6\n",
      "cdccf4cf-66c9-4972-8d14-f0138d90e48a\n",
      "d4d0236f-5e55-4f39-a700-04550b6f06b4\n",
      "bfe0438c-78c5-4f3e-999a-f3f6979ff3c8\n",
      "f4dab063-a53c-4a7c-920f-f4238922d0b9\n",
      "312bb48d-d2cb-47e5-b840-d3e9058f6b48\n",
      "3556a0a4-fce9-40c6-900c-4eb9c1c71dc3\n",
      "8633c469-e0b8-4cf5-9f35-401118d43ae3\n",
      "a81edd98-e162-4257-ba00-c99e1e4cb7d9\n",
      "6d437870-bdfd-4c08-9232-b314f466f18e\n",
      "09f4a43e-9e6e-4569-9bb2-a2138b1bbeab\n",
      "39d026de-f90e-4726-936b-cc23f70e3a8f\n",
      "0f48a1da-b272-4405-8936-bade847b363c\n",
      "b86291cf-61b0-4827-b05b-b23a81167c0b\n",
      "5d207961-3f0c-4867-a25b-077bd96a9003\n"
     ]
    }
   ],
   "source": [
    "static, dynamic = [], []\n",
    "for group in groups:\n",
    "    if \"SSG\" in group['Name']:\n",
    "        dynamic.append(Family.from_json(get_family(group['Id'])))\n",
    "    else:\n",
    "        static.append(group)\n",
    "\n",
    "sorted_dynamic = sorted(dynamic, key=lambda x: x.Name)\n",
    "sorted_static = sorted(static, key=lambda x: x['Name'])\n",
    "\n",
    "for d, s in zip(sorted_dynamic, sorted_static):\n",
    "    print(d.Id)\n",
    "    d.Id = s['Id']\n",
    "    print(d.Id)\n",
    "# new_list = sorted(dynamic, key=lambda x: x['Name'])\n",
    "# for g in new_list:\n",
    "#     fam = Family.from_json(get_family(g['Id']))\n",
    "#     print(fam.Name)\n",
    "    \n",
    "# old_list = sorted(static, key=lambda x: x['Name'])\n",
    "# for g in old_list:\n",
    "#     print(g['Id'])"
   ]
  },
  {
   "cell_type": "code",
   "execution_count": null,
   "metadata": {},
   "outputs": [],
   "source": [
    "r = requests.patch(UPDATE_FAMILY, data=json.dumps(patch_json), headers=BIM_HEADERS)\n",
    "print(r.status_code)\n",
    "# print(r.json())"
   ]
  }
 ],
 "metadata": {
  "interpreter": {
   "hash": "8a517bb6487a6d0afee10a2839dbc59124d20f7320cb08b34273c7e0d80d8489"
  },
  "kernelspec": {
   "display_name": "Python 3.8.5 64-bit ('venv': venv)",
   "language": "python",
   "name": "python3"
  },
  "language_info": {
   "codemirror_mode": {
    "name": "ipython",
    "version": 3
   },
   "file_extension": ".py",
   "mimetype": "text/x-python",
   "name": "python",
   "nbconvert_exporter": "python",
   "pygments_lexer": "ipython3",
   "version": "3.8.5"
  },
  "orig_nbformat": 4
 },
 "nbformat": 4,
 "nbformat_minor": 2
}
