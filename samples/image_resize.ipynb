{
 "cells": [
  {
   "cell_type": "code",
   "execution_count": 2,
   "source": [
    "from PIL import Image"
   ],
   "outputs": [],
   "metadata": {}
  },
  {
   "cell_type": "code",
   "execution_count": 2,
   "source": [
    "size_large = (1800, 1186)\r\n",
    "size_medium = (300, 198)\r\n",
    "size_small = (186, 186)"
   ],
   "outputs": [],
   "metadata": {}
  },
  {
   "cell_type": "code",
   "execution_count": 22,
   "source": [
    "im = Image.open('SSG-MS07-04_Large.jpg')\r\n",
    "left = int((im.width-1800)/2)\r\n",
    "large_crop = im.crop(box=(left, 0, 1800, 1186))\r\n",
    "large_height = 1186\r\n",
    "large_width = int(large_height / im.height * im.width)\r\n",
    "large_size = large_crop.resize((large_width, large_height))\r\n",
    "large_size.show()\r\n",
    "\r\n",
    "medium_width = 300\r\n",
    "medium_height = int(medium_width / im.width * im.height)\r\n",
    "medium_size = large_crop.resize((medium_width, medium_height))\r\n",
    "medium_size.show()\r\n",
    "# medium_width = medium_height / image1.height * image1.width\r\n",
    "small_crop = medium_size.crop(box=(52,0,52+medium_size.height, medium_size.height))\r\n",
    "small_height = 186\r\n",
    "small_size = small_crop.resize((small_height, small_height))\r\n",
    "small_size.show()"
   ],
   "outputs": [],
   "metadata": {}
  }
 ],
 "metadata": {
  "orig_nbformat": 4,
  "language_info": {
   "name": "python",
   "version": "3.8.5",
   "mimetype": "text/x-python",
   "codemirror_mode": {
    "name": "ipython",
    "version": 3
   },
   "pygments_lexer": "ipython3",
   "nbconvert_exporter": "python",
   "file_extension": ".py"
  },
  "kernelspec": {
   "name": "python3",
   "display_name": "Python 3.8.5 64-bit ('venv': venv)"
  },
  "interpreter": {
   "hash": "8a517bb6487a6d0afee10a2839dbc59124d20f7320cb08b34273c7e0d80d8489"
  }
 },
 "nbformat": 4,
 "nbformat_minor": 2
}