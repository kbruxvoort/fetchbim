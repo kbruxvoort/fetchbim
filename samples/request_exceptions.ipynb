{
 "cells": [
  {
   "cell_type": "code",
   "execution_count": 1,
   "source": [
    "import requests"
   ],
   "outputs": [],
   "metadata": {}
  },
  {
   "cell_type": "code",
   "execution_count": 10,
   "source": [
    "r = requests.get('https://httpbin.org/status/200', timeout=3)\r\n",
    "try:\r\n",
    "    r.raise_for_status()\r\n",
    "except requests.exceptions.HTTPError:\r\n",
    "    print('ERROR!')\r\n",
    "except requests.exceptions.ConnectionError:\r\n",
    "    print('CONNECTION ERROR!')\r\n",
    "\r\n",
    "print(r)"
   ],
   "outputs": [
    {
     "output_type": "stream",
     "name": "stdout",
     "text": [
      "<Response [200]>\n"
     ]
    }
   ],
   "metadata": {}
  }
 ],
 "metadata": {
  "orig_nbformat": 4,
  "language_info": {
   "name": "python",
   "version": "3.8.5",
   "mimetype": "text/x-python",
   "codemirror_mode": {
    "name": "ipython",
    "version": 3
   },
   "pygments_lexer": "ipython3",
   "nbconvert_exporter": "python",
   "file_extension": ".py"
  },
  "kernelspec": {
   "name": "python3",
   "display_name": "Python 3.8.5 64-bit ('venv': venv)"
  },
  "interpreter": {
   "hash": "e51067d2f6be7bdc69cc790600142f68999599c9c8fe7e42393a2fecc546810f"
  }
 },
 "nbformat": 4,
 "nbformat_minor": 2
}