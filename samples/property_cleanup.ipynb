{
 "cells": [
  {
   "cell_type": "code",
   "execution_count": 1,
   "metadata": {},
   "outputs": [],
   "source": [
    "import os\n",
    "import datetime\n",
    "\n",
    "from time import perf_counter\n",
    "from tqdm import tqdm\n",
    "\n",
    "# from fetchbim import Client, Family\n",
    "# from fetchbim.utils import truncate\n",
    "# from fetchbim.teams import sync_complete_msg\n",
    "from notion_client import Client as NotionClient"
   ]
  },
  {
   "cell_type": "code",
   "execution_count": 2,
   "metadata": {},
   "outputs": [],
   "source": [
    "def get_all_pages(client, database_id: str, **kwargs) -> list:\n",
    "    results = []\n",
    "    cursor = None\n",
    "    while True:\n",
    "        response = client.databases.query(\n",
    "            database_id=database_id, start_cursor=cursor\n",
    "        )\n",
    "        results.extend(response[\"results\"])\n",
    "        if response[\"has_more\"] is False:\n",
    "            break\n",
    "        else:\n",
    "            cursor = response[\"next_cursor\"]\n",
    "            \n",
    "    return results"
   ]
  },
  {
   "cell_type": "code",
   "execution_count": 3,
   "metadata": {},
   "outputs": [],
   "source": [
    "notion = NotionClient(auth=os.environ[\"NOTION_KEY\"])"
   ]
  },
  {
   "cell_type": "code",
   "execution_count": 4,
   "metadata": {},
   "outputs": [],
   "source": [
    "notion.options.timeout_ms = 100000"
   ]
  },
  {
   "cell_type": "code",
   "execution_count": 5,
   "metadata": {},
   "outputs": [],
   "source": [
    "mfg = get_all_pages(notion, database_id=\"8ef28b92d8104e7faf2560198854d741\")"
   ]
  },
  {
   "cell_type": "code",
   "execution_count": 20,
   "metadata": {},
   "outputs": [
    {
     "name": "stderr",
     "output_type": "stream",
     "text": [
      "100%|██████████| 791/791 [00:42<00:00, 18.62it/s] \n"
     ]
    }
   ],
   "source": [
    "properties = dict()\n",
    "for page in tqdm(mfg):\n",
    "    page_id = page['id']\n",
    "    prop = page['properties']['Potential Product Lines']['rich_text']\n",
    "    if prop:\n",
    "        value = prop[0]['text']['content']\n",
    "        if ',' in value:\n",
    "            new_value = '\\n'.join([x.strip() for x in value.split(',')])\n",
    "            properties['Potential Product Lines'] = {'rich_text': [{'text': {'content': new_value}}]}\n",
    "            notion.pages.update(page_id=page_id, properties=properties)"
   ]
  }
 ],
 "metadata": {
  "kernelspec": {
   "display_name": "Python 3.10.2 ('venv': venv)",
   "language": "python",
   "name": "python3"
  },
  "language_info": {
   "codemirror_mode": {
    "name": "ipython",
    "version": 3
   },
   "file_extension": ".py",
   "mimetype": "text/x-python",
   "name": "python",
   "nbconvert_exporter": "python",
   "pygments_lexer": "ipython3",
   "version": "3.10.2"
  },
  "orig_nbformat": 4,
  "vscode": {
   "interpreter": {
    "hash": "6d505efb51d765ea8321fddb09b311db5528d8d5e9bff0b1b7bdda455f331c73"
   }
  }
 },
 "nbformat": 4,
 "nbformat_minor": 2
}
