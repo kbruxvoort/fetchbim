{
 "cells": [
  {
   "cell_type": "code",
   "execution_count": 16,
   "metadata": {},
   "outputs": [],
   "source": [
    "import requests\n",
    "import json\n",
    "\n",
    "from fetchbim.settings import DEV_UPDATE, DEV_HEADERS\n",
    "from fetchbim.attributes import File"
   ]
  },
  {
   "cell_type": "code",
   "execution_count": 4,
   "metadata": {},
   "outputs": [],
   "source": [
    "fam_id = '75438b8a-4f7f-4b02-a46a-a8254d34517c'"
   ]
  },
  {
   "cell_type": "code",
   "execution_count": null,
   "metadata": {},
   "outputs": [],
   "source": [
    "f1 = File('sub_locker_smart_frame.rfa')\n",
    "f1 = f1.__dict__\n",
    "print(f1)"
   ]
  },
  {
   "cell_type": "code",
   "execution_count": 24,
   "metadata": {},
   "outputs": [],
   "source": [
    "patch_json = {\n",
    "    \"FamilyId\": fam_id,\n",
    "    \"CategoryName\": \"PATCHED BABY\",\n",
    "    \"Properties\": [\n",
    "        {\n",
    "            \"Name\": \"new_property\",\n",
    "            \"Value\": \"new property\"\n",
    "        }\n",
    "    ],\n",
    "    \"Files\": [\n",
    "        f1\n",
    "    ]\n",
    "              }"
   ]
  },
  {
   "cell_type": "code",
   "execution_count": 50,
   "metadata": {},
   "outputs": [],
   "source": [
    "patch_json = {\n",
    "    \"FamilyId\": fam_id,\n",
    "    \"Name\": \"Kyle Changed This\",\n",
    "    \"FamilyObjectType\": \"Family\",\n",
    "    \"Parameters\": [\n",
    "        {\n",
    "            \"Name\": \"patch_parameter\",\n",
    "            \"Value\": \"param2\",\n",
    "            \"DataType\": \"Text\",\n",
    "            \"ParameterType\": \"Type\",\n",
    "            \"Hidden\": False\n",
    "        }\n",
    "    ]\n",
    "}"
   ]
  },
  {
   "cell_type": "code",
   "execution_count": 51,
   "metadata": {},
   "outputs": [
    {
     "name": "stdout",
     "output_type": "stream",
     "text": [
      "200\n"
     ]
    }
   ],
   "source": [
    "r = requests.patch(DEV_UPDATE, data=json.dumps(patch_json), headers=DEV_HEADERS)\n",
    "print(r.status_code)\n",
    "# print(r.json())"
   ]
  }
 ],
 "metadata": {
  "interpreter": {
   "hash": "8a517bb6487a6d0afee10a2839dbc59124d20f7320cb08b34273c7e0d80d8489"
  },
  "kernelspec": {
   "display_name": "Python 3.8.5 64-bit ('venv': venv)",
   "language": "python",
   "name": "python3"
  },
  "language_info": {
   "codemirror_mode": {
    "name": "ipython",
    "version": 3
   },
   "file_extension": ".py",
   "mimetype": "text/x-python",
   "name": "python",
   "nbconvert_exporter": "python",
   "pygments_lexer": "ipython3",
   "version": "3.8.5"
  },
  "orig_nbformat": 4
 },
 "nbformat": 4,
 "nbformat_minor": 2
}
