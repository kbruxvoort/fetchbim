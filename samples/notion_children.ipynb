{
 "cells": [
  {
   "cell_type": "code",
   "execution_count": 57,
   "metadata": {},
   "outputs": [],
   "source": [
    "import pprint\n",
    "import requests\n",
    "\n",
    "from fetchbim.notion import NotionPage, NotionFilter, PropertyType, Condition\n",
    "from fetchbim.settings import NOTION_HEADERS"
   ]
  },
  {
   "cell_type": "markdown",
   "metadata": {},
   "source": [
    "### Filter notion database and get results"
   ]
  },
  {
   "cell_type": "code",
   "execution_count": 58,
   "metadata": {},
   "outputs": [
    {
     "name": "stdout",
     "output_type": "stream",
     "text": [
      "None\n"
     ]
    }
   ],
   "source": [
    "# relation_id2 = \"ac4602aa2f47421aa2674961b09ef4e6\"\n",
    "nf = NotionFilter(\"Children API Test\", filter_type=PropertyType.TITLE, condition=Condition.EQUALS, property_name='Name')\n",
    "results = nf.query('Meeting Notes')\n",
    "pprint.pprint(results[0].get('has_children'))"
   ]
  },
  {
   "cell_type": "code",
   "execution_count": 9,
   "metadata": {},
   "outputs": [],
   "source": [
    "page_size = 100\n",
    "url = f\"https://api.notion.com/v1/blocks/{results[0]['id']}/children?page_size={page_size}\""
   ]
  },
  {
   "cell_type": "code",
   "execution_count": 54,
   "metadata": {},
   "outputs": [],
   "source": [
    "r = requests.get(url, headers=NOTION_HEADERS)\n",
    "r_dict = r.json()\n",
    "results = r.json()['results']\n"
   ]
  },
  {
   "cell_type": "code",
   "execution_count": 55,
   "metadata": {},
   "outputs": [],
   "source": [
    "KEEP_LIST = [\n",
    "    \"child_database\",\n",
    "    \"heading_1\",\n",
    "    \"to_do\"\n",
    "]"
   ]
  },
  {
   "cell_type": "code",
   "execution_count": 56,
   "metadata": {},
   "outputs": [],
   "source": [
    "for r in results: \n",
    "    if r['type'] not in KEEP_LIST:\n",
    "        url2 = f\"https://api.notion.com/v1/blocks/{r['id']}\"\n",
    "        r2 = requests.delete(url2, headers=NOTION_HEADERS)\n"
   ]
  }
 ],
 "metadata": {
  "interpreter": {
   "hash": "8a517bb6487a6d0afee10a2839dbc59124d20f7320cb08b34273c7e0d80d8489"
  },
  "kernelspec": {
   "display_name": "Python 3.8.5 ('venv': venv)",
   "language": "python",
   "name": "python3"
  },
  "language_info": {
   "codemirror_mode": {
    "name": "ipython",
    "version": 3
   },
   "file_extension": ".py",
   "mimetype": "text/x-python",
   "name": "python",
   "nbconvert_exporter": "python",
   "pygments_lexer": "ipython3",
   "version": "3.8.5"
  },
  "orig_nbformat": 4
 },
 "nbformat": 4,
 "nbformat_minor": 2
}
