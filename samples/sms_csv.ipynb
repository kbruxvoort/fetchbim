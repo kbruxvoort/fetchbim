{
 "cells": [
  {
   "cell_type": "code",
   "execution_count": 4,
   "metadata": {},
   "outputs": [],
   "source": [
    "from fetchbim.family import Family\n",
    "from fetchbim.bimservice import get_ids\n",
    "from fetchbim.admin import get_family\n",
    "\n",
    "from csv import DictWriter"
   ]
  },
  {
   "cell_type": "code",
   "execution_count": 5,
   "metadata": {},
   "outputs": [],
   "source": [
    "family_ids = get_ids()"
   ]
  },
  {
   "cell_type": "code",
   "execution_count": 11,
   "metadata": {},
   "outputs": [],
   "source": [
    "with open('sms_mapping.csv', 'w', newline='') as new_file:\n",
    "    fieldnames = ['SSGFID', 'Fetch Product Name', 'Fetch Product Link', 'SMS Product Name', 'SMS Product Link']\n",
    "    csv_writer = DictWriter(new_file, fieldnames=fieldnames)\n",
    "    \n",
    "    csv_writer.writeheader()\n",
    "\n",
    "    for _id in family_ids:\n",
    "        base_url = \"https://fetchbim.com/catalog/product/view/id/\"\n",
    "        url = \"\"\n",
    "        fam = Family.from_json(get_family(_id))\n",
    "        for prop in fam.Properties:\n",
    "            if prop.Name == \"product_id\":\n",
    "                product_id = prop.Value\n",
    "                url = base_url + product_id\n",
    "                break\n",
    "                \n",
    "        line = {'SSGFID': fam.Id, 'Fetch Product Name': fam.Name, 'Fetch Product Link': url}\n",
    "        csv_writer.writerow(line)\n"
   ]
  }
 ],
 "metadata": {
  "interpreter": {
   "hash": "8a517bb6487a6d0afee10a2839dbc59124d20f7320cb08b34273c7e0d80d8489"
  },
  "kernelspec": {
   "display_name": "Python 3.8.5 64-bit ('venv': venv)",
   "name": "python3"
  },
  "language_info": {
   "codemirror_mode": {
    "name": "ipython",
    "version": 3
   },
   "file_extension": ".py",
   "mimetype": "text/x-python",
   "name": "python",
   "nbconvert_exporter": "python",
   "pygments_lexer": "ipython3",
   "version": "3.8.5"
  },
  "orig_nbformat": 4
 },
 "nbformat": 4,
 "nbformat_minor": 2
}
