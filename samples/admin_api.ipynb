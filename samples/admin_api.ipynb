{
 "cells": [
  {
   "cell_type": "code",
   "execution_count": 1,
   "source": [
    "import os\r\n",
    "import settings\r\n",
    "\r\n",
    "from PIL import Image\r\n",
    "from query import Filter, MatchType\r\n",
    "from shared_file import SharedFile\r\n",
    "from family import Family, FamilyType, Status\r\n",
    "from attributes import *"
   ],
   "outputs": [],
   "metadata": {}
  },
  {
   "cell_type": "markdown",
   "source": [
    "### Automate image resizing"
   ],
   "metadata": {}
  },
  {
   "cell_type": "code",
   "execution_count": 2,
   "source": [
    "size_large = (1800, 1186)\r\n",
    "size_medium = (300, 198)\r\n",
    "size_small = (186, 186)"
   ],
   "outputs": [],
   "metadata": {}
  },
  {
   "cell_type": "code",
   "execution_count": 22,
   "source": [
    "im = Image.open('SSG-MS07-04_Large.jpg')\r\n",
    "left = int((im.width-1800)/2)\r\n",
    "large_crop = im.crop(box=(left, 0, 1800, 1186))\r\n",
    "large_height = 1186\r\n",
    "large_width = int(large_height / im.height * im.width)\r\n",
    "large_size = large_crop.resize((large_width, large_height))\r\n",
    "large_size.show()\r\n",
    "\r\n",
    "medium_width = 300\r\n",
    "medium_height = int(medium_width / im.width * im.height)\r\n",
    "medium_size = large_crop.resize((medium_width, medium_height))\r\n",
    "medium_size.show()\r\n",
    "# medium_width = medium_height / image1.height * image1.width\r\n",
    "small_crop = medium_size.crop(box=(52,0,52+medium_size.height, medium_size.height))\r\n",
    "small_height = 186\r\n",
    "small_size = small_crop.resize((small_height, small_height))\r\n",
    "small_size.show()"
   ],
   "outputs": [],
   "metadata": {}
  },
  {
   "cell_type": "markdown",
   "source": [
    "### Creating properties, parameters, & files"
   ],
   "metadata": {}
  },
  {
   "cell_type": "code",
   "execution_count": 2,
   "source": [
    "properties = []\r\n",
    "p1 = Property('test', 'prop class')\r\n",
    "properties.append(p1.format())\r\n",
    "\r\n",
    "parameters = []\r\n",
    "p2 = Parameter('method test 2', 1, data_type='Integer', param_type='Type', hidden=0)\r\n",
    "parameters.append(p2.format())\r\n",
    "\r\n",
    "files = []\r\n",
    "f1 = File('basic_sample_family.rfa')\r\n",
    "files.append(f1.format())\r\n",
    "\r\n",
    "type_params = []\r\n",
    "type_param = Parameter('API Type Param', 'Kyle Was Here')\r\n",
    "type_params.append(type_param.format())"
   ],
   "outputs": [],
   "metadata": {}
  },
  {
   "cell_type": "markdown",
   "source": [
    "### New/Update Family"
   ],
   "metadata": {}
  },
  {
   "cell_type": "code",
   "execution_count": null,
   "source": [
    "new_family = Family('846 AM', Status.PRIVATE.value, category_name='API Update', properties=properties, parameters=parameters)\r\n",
    "\r\n",
    "new_family.post()\r\n",
    "\r\n",
    "new_type = FamilyType('API Type', parameters=type_params, is_default=True, family_id=new_family.id)\r\n",
    "new_family.types.append(new_type.format())\r\n",
    "\r\n",
    "new_family.post()\r\n"
   ],
   "outputs": [],
   "metadata": {}
  },
  {
   "cell_type": "code",
   "execution_count": 2,
   "source": [
    "family2 = Family.from_admin(\"17822a06-ead2-438d-a302-eeed7391d2be\")"
   ],
   "outputs": [
    {
     "output_type": "error",
     "ename": "TypeError",
     "evalue": "__init__() got an unexpected keyword argument 'ReferenceId'",
     "traceback": [
      "\u001b[1;31m---------------------------------------------------------------------------\u001b[0m",
      "\u001b[1;31mTypeError\u001b[0m                                 Traceback (most recent call last)",
      "\u001b[1;32mC:\\Users\\KBRUXV~1\\AppData\\Local\\Temp/ipykernel_27404/2524764314.py\u001b[0m in \u001b[0;36m<module>\u001b[1;34m\u001b[0m\n\u001b[1;32m----> 1\u001b[1;33m \u001b[0mfamily2\u001b[0m \u001b[1;33m=\u001b[0m \u001b[0mFamily\u001b[0m\u001b[1;33m.\u001b[0m\u001b[0mfrom_admin\u001b[0m\u001b[1;33m(\u001b[0m\u001b[1;34m\"17822a06-ead2-438d-a302-eeed7391d2be\"\u001b[0m\u001b[1;33m)\u001b[0m\u001b[1;33m\u001b[0m\u001b[1;33m\u001b[0m\u001b[0m\n\u001b[0m",
      "\u001b[1;32mz:\\Kyle\\Python Projects\\admin_api\\family.py\u001b[0m in \u001b[0;36mfrom_admin\u001b[1;34m(cls, _id)\u001b[0m\n\u001b[0;32m    114\u001b[0m                 \u001b[0mfam_types\u001b[0m \u001b[1;33m=\u001b[0m \u001b[0mresult\u001b[0m\u001b[1;33m[\u001b[0m\u001b[1;34m'FamilyTypes'\u001b[0m\u001b[1;33m]\u001b[0m\u001b[1;33m\u001b[0m\u001b[1;33m\u001b[0m\u001b[0m\n\u001b[0;32m    115\u001b[0m                 \u001b[1;31m# return cls(name, status, load_method, category_name, object_type, props, params, files, deleted, _id, grouped_families, fam_types)\u001b[0m\u001b[1;33m\u001b[0m\u001b[1;33m\u001b[0m\u001b[1;33m\u001b[0m\u001b[0m\n\u001b[1;32m--> 116\u001b[1;33m                 \u001b[1;32mreturn\u001b[0m \u001b[0mcls\u001b[0m\u001b[1;33m(\u001b[0m\u001b[1;33m**\u001b[0m\u001b[0mresult\u001b[0m\u001b[1;33m)\u001b[0m\u001b[1;33m\u001b[0m\u001b[1;33m\u001b[0m\u001b[0m\n\u001b[0m\u001b[0;32m    117\u001b[0m         \u001b[1;32melse\u001b[0m\u001b[1;33m:\u001b[0m\u001b[1;33m\u001b[0m\u001b[1;33m\u001b[0m\u001b[0m\n\u001b[0;32m    118\u001b[0m             \u001b[0mprint\u001b[0m\u001b[1;33m(\u001b[0m\u001b[0mresponse\u001b[0m\u001b[1;33m.\u001b[0m\u001b[0mtext\u001b[0m\u001b[1;33m)\u001b[0m\u001b[1;33m\u001b[0m\u001b[1;33m\u001b[0m\u001b[0m\n",
      "\u001b[1;31mTypeError\u001b[0m: __init__() got an unexpected keyword argument 'ReferenceId'"
     ]
    }
   ],
   "metadata": {}
  },
  {
   "cell_type": "markdown",
   "source": [
    "### Delete/Restore Family"
   ],
   "metadata": {}
  },
  {
   "cell_type": "code",
   "execution_count": 16,
   "source": [
    "new_family.delete()\r\n",
    "new_family.restore()"
   ],
   "outputs": [
    {
     "output_type": "execute_result",
     "data": {
      "text/plain": [
       "<Response [200]>"
      ]
     },
     "metadata": {},
     "execution_count": 16
    }
   ],
   "metadata": {}
  },
  {
   "cell_type": "markdown",
   "source": [
    "### Delete Parameters"
   ],
   "metadata": {}
  },
  {
   "cell_type": "code",
   "execution_count": 4,
   "source": [
    "# get_object(\"25ae45b9-e7ac-4118-b6f9-bbee598fad4a\")\r\n",
    "delete_parameter_by_name(new_family\", 'update test')"
   ],
   "outputs": [],
   "metadata": {}
  },
  {
   "cell_type": "markdown",
   "source": [
    "### Create DMG"
   ],
   "metadata": {}
  },
  {
   "cell_type": "code",
   "execution_count": null,
   "source": [
    "params = []\r\n",
    "p1 = create_parameter('child fam param', 'test')\r\n",
    "p2 = create_parameter('child fam param 2', 1, data_type='Integer')\r\n",
    "params.append(p1)\r\n",
    "params.append(p2)\r\n",
    "\r\n",
    "GroupedFamilies = [\r\n",
    "    {\r\n",
    "        \"InstanceCount\": 1,\r\n",
    "        \"ChildFamilyId\": \"a45c2a1d-a5ed-4ad1-85e7-9fc4f6cb2a96\",\r\n",
    "        \"FamilyTypeId\": \"3d4ec09b-9def-4bb5-b516-f50b459579d5\",\r\n",
    "        \"Width\": \"1\",\r\n",
    "        \"Depth\": \"2\",\r\n",
    "        \"Rotation\": 45,\r\n",
    "        \"Parameters\": params\r\n",
    "    }\r\n",
    "]\r\n",
    "\r\n",
    "\r\n",
    "\r\n",
    "\r\n",
    "model_group = create_object('model group test4', load_method=1, object_type='ModelGroup', category_name='MG Test', GroupedFamilies=GroupedFamilies) "
   ],
   "outputs": [],
   "metadata": {}
  },
  {
   "cell_type": "markdown",
   "source": [
    "### Query DB"
   ],
   "metadata": {}
  },
  {
   "cell_type": "code",
   "execution_count": 4,
   "source": [
    "filt_param = Parameter('zM', '28552.2')\r\n",
    "filt = Filter(parameter=filt_param, match_type=MatchType.EQUALS.value)\r\n",
    "results = filt.query()\r\n",
    "for res in results:\r\n",
    "    print(f\"[{res['Id']}]: {res['Name']}\")"
   ],
   "outputs": [
    {
     "output_type": "stream",
     "name": "stdout",
     "text": [
      "[8f1e357a-95f1-45d2-bbad-0804010d24c3]: SSG_Sorter_Freestanding_Kick_Plate_LAM\n",
      "[785ecc13-c826-43ac-b69f-0983d192bee4]: SSG_Sorter_Freestanding_Full_Height_LAM\n",
      "[6af28c8d-0d6d-49ea-a1c6-11eff445a456]: SSG_Cabinet_Pedestal_Drawer_Box_File_LAM\n",
      "[7947f66f-9bfc-41c5-a523-2ea5eae10595]: SSG_Platform_Riser_LAM\n",
      "[64510c56-5a38-42b9-97f7-31ba91115349]: SSG_Console_Cabinet_Basic_LAM\n",
      "[0f0e17aa-dfc1-4f3a-8391-3557f72f6f49]: SSG_Console_Dump_Rim_PLA\n",
      "[2a7dbb6a-6166-4a99-89a5-3d9f686961ab]: SSG_Console_Cabinet_Sliding_Doors\n",
      "[fab01d90-5643-47f5-b96e-41837d4d49f9]: SSG_Drawer_Pencil_LAM\n",
      "[f586e9cf-e050-4118-87c7-46d4bc135b72]: SSG_Sorter_Freestanding_Bottom_Storage_LAM\n",
      "[f53ee946-0440-4204-ad3e-4f9cc37c97fc]: SSG_Console_Caster_RUB\n",
      "[bb062fba-e43b-48ce-a7e8-50643e643d40]: SSG_Sorter_Standard_LAM\n",
      "[ca12be9c-2e36-47df-a946-59411b805c87]: SSG_Console_Cabinet_Center_Modesty\n",
      "[1708d34d-9b2f-435b-8b4f-6329fb7d1862]: SSG_Sorter_Bulk_LAM\n",
      "[776fd1e2-86a8-4aef-ad48-6c3cb8dea2b0]: SSG_Console_Shelf_Intermediate_LAM\n",
      "[5be9fccd-6b23-48b2-8455-8c426117155c]: SSG_Console_Cabinet_Full_Shelf_LAM\n",
      "[7ecec5aa-9e48-498d-817e-a5f6644126dc]: SSG_Console_Cabinet_Half_Shelf_LAM\n",
      "[a2d792a2-15ba-45b9-9184-e4e524306d02]: SSG_Sorter_Legal_LAM\n",
      "[6894acc9-3e00-4814-a71d-e5d44d7f94ab]: SSG_Sorter_Oversize_LAM\n"
     ]
    }
   ],
   "metadata": {}
  },
  {
   "cell_type": "markdown",
   "source": [
    "### Shared rules"
   ],
   "metadata": {}
  },
  {
   "cell_type": "code",
   "execution_count": 2,
   "source": [
    "shared_file = SharedFile.from_admin(\"2\")\r\n",
    "shared_file"
   ],
   "outputs": [
    {
     "output_type": "execute_result",
     "data": {
      "text/plain": [
       "API, 2 files, 2 attributes"
      ]
     },
     "metadata": {},
     "execution_count": 2
    }
   ],
   "metadata": {}
  },
  {
   "cell_type": "code",
   "execution_count": 10,
   "source": [
    "# All Shared Files\r\n",
    "# response = requests.get('https://fetch.devssg.com/api/SharedFiles', headers=settings.DEV_HEADERS)\r\n",
    "# results = response.json()['SharedFiles']\r\n",
    "# _id = results[0]['SharedFileId']\r\n",
    "# print(results)\r\n",
    "\r\n",
    "# Single Shared File\r\n",
    "# response2 = requests.get(f'https://fetch.devssg.com/api/SharedFile/{_id}', headers=settings.DEV_HEADERS)\r\n",
    "# print(json.dumps(response2.json()))\r\n",
    "\r\n",
    "# Create shared File\r\n",
    "# data = {\r\n",
    "#         \"Description\": 'Kyle API2',\r\n",
    "#         \"FamilyObjectType\": \"\",\r\n",
    "#         \"CategoryName\": \"\",\r\n",
    "#         \"ParameterName\": \"zM\",\r\n",
    "#         \"ParameterValue\": \"28552\",\r\n",
    "#         \"ParameterValueMatchType\": 3\r\n",
    "#     }\r\n",
    "# shared_prop = Property('Web Category', 'Wire Partitions')\r\n",
    "# shared_file.attributes\r\n",
    "# shared_param = Parameter('URL_Specification Manual', 'https://bim.southwestsolutions.com', data_type='URL')\r\n",
    "# shared_file.attributes.append(shared_param.format())\r\n",
    "# shared_file.post()\r\n",
    "\r\n",
    "for attribute in shared_file.attributes:\r\n",
    "    print(attribute)\r\n",
    "# response3 = requests.post('https://fetch.devssg.com/api/SharedFile/', data=json.dumps(data), headers=settings.DEV_HEADERS)\r\n",
    "# response3.text"
   ],
   "outputs": [
    {
     "output_type": "stream",
     "name": "stdout",
     "text": [
      "{'SharedAttributeId': 1, 'SharedFileId': 2, 'AttributeType': 0, 'Name': 'SharedParameterTest', 'Value': 'TestValue', 'DataType': None, 'ParameterType': None, 'Hidden': False, 'Sort': None, 'Deleted': False}\n",
      "{'SharedAttributeId': 4, 'SharedFileId': 2, 'AttributeType': 1, 'Name': 'Includes Pricing', 'Value': 'Yes', 'DataType': None, 'ParameterType': None, 'Hidden': False, 'Sort': None, 'Deleted': False}\n",
      "{'Name': 'URL_Specification Manual', 'Value': 'https://bim.southwestsolutions.com', 'Sort': 0, 'DataType': 'URL', 'ParameterType': 'Type', 'Hidden': 0}\n"
     ]
    }
   ],
   "metadata": {}
  },
  {
   "cell_type": "markdown",
   "source": [],
   "metadata": {}
  },
  {
   "cell_type": "markdown",
   "source": [
    "### Add parameters through BIM service"
   ],
   "metadata": {}
  },
  {
   "cell_type": "code",
   "execution_count": 4,
   "source": [
    "data2 = {\r\n",
    "    \"FamilyId\": \"53120a54-8ea7-4e11-822b-b431acbcb2ac\",\r\n",
    "    \"Properties\": [\r\n",
    "        {\r\n",
    "            \"Name\": \"product_id\",\r\n",
    "            \"Value\": \"2976\"\r\n",
    "        }\r\n",
    "    ],\r\n",
    "    \"familyParameters\": [\r\n",
    "        {\r\n",
    "            \"ParameterName\": \"URL_Product Page\",\r\n",
    "            \"ParameterValue\": \"https://fetchbim.com/ssg-4p-127-lcd\",\r\n",
    "            \"Hidden\": \"true\",\r\n",
    "            \"ParameterType\": \"Type\",\r\n",
    "            \"DataType\": \"URL\"\r\n",
    "        }\r\n",
    "    ]\r\n",
    "}"
   ],
   "outputs": [],
   "metadata": {}
  },
  {
   "cell_type": "code",
   "execution_count": 5,
   "source": [
    "response3 = requests.post(settings.BIMSERVICE_BASE_URL, data=json.dumps(data2), headers=settings.BIMSERVICE_HEADERS)\r\n",
    "response3.status_code"
   ],
   "outputs": [
    {
     "output_type": "execute_result",
     "data": {
      "text/plain": [
       "200"
      ]
     },
     "metadata": {},
     "execution_count": 5
    }
   ],
   "metadata": {}
  },
  {
   "cell_type": "code",
   "execution_count": 7,
   "source": [
    "test = Family.from_admin(\"13d1208a-8313-4586-a2fc-c2799fade96c\")\r\n",
    "test.status"
   ],
   "outputs": [
    {
     "output_type": "execute_result",
     "data": {
      "text/plain": [
       "2"
      ]
     },
     "metadata": {},
     "execution_count": 7
    }
   ],
   "metadata": {}
  }
 ],
 "metadata": {
  "orig_nbformat": 4,
  "language_info": {
   "name": "python",
   "version": "3.8.5",
   "mimetype": "text/x-python",
   "codemirror_mode": {
    "name": "ipython",
    "version": 3
   },
   "pygments_lexer": "ipython3",
   "nbconvert_exporter": "python",
   "file_extension": ".py"
  },
  "kernelspec": {
   "name": "python3",
   "display_name": "Python 3.8.5 64-bit ('venv': venv)"
  },
  "interpreter": {
   "hash": "e51067d2f6be7bdc69cc790600142f68999599c9c8fe7e42393a2fecc546810f"
  }
 },
 "nbformat": 4,
 "nbformat_minor": 2
}