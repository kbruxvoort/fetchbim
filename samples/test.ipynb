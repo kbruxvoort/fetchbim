{
 "cells": [
  {
   "cell_type": "code",
   "execution_count": 1,
   "source": [
    "from attributes import *\r\n",
    "from family import Family, FamilyType\r\n",
    "from pprint import pprint"
   ],
   "outputs": [],
   "metadata": {}
  },
  {
   "cell_type": "code",
   "execution_count": 3,
   "source": [
    "p1 = Property('238', 'PM')\r\n",
    "p2 = Parameter('239', 'PM')\r\n",
    "p3 = Parameter('Distance from sun', \"5000000000\", DataType='Length')\r\n",
    "# f1 = File('SSG-MS07-04_Large.jpg', FileKey='FamilyImageLarge')\r\n",
    "t1 = FamilyType('Newer Type', IsDefault=True, Parameters=[p3])\r\n",
    "\r\n",
    "props, params, files, types = [], [], [], []\r\n",
    "props.append(p1)\r\n",
    "params.append(p2)\r\n",
    "# files.append(f1)\r\n",
    "types.append(t1)"
   ],
   "outputs": [],
   "metadata": {}
  },
  {
   "cell_type": "code",
   "execution_count": 4,
   "source": [
    "p3.to_json()"
   ],
   "outputs": [
    {
     "output_type": "execute_result",
     "data": {
      "text/plain": [
       "'{\"Name\": \"Distance from sun\", \"Value\": \"5000000000\", \"Deleted\": false, \"DataType\": \"Length\", \"ParameterType\": \"Type\", \"Sort\": 0, \"Hidden\": false, \"AttributeType\": 1, \"ParameterId\": 0}'"
      ]
     },
     "metadata": {},
     "execution_count": 4
    }
   ],
   "metadata": {}
  },
  {
   "cell_type": "code",
   "execution_count": 5,
   "source": [
    "new_family = Family('239 PM', CategoryName='New Category', Parameters=params, Properties=props,  FamilyTypes=types)\r\n",
    "new_family.post()"
   ],
   "outputs": [],
   "metadata": {}
  },
  {
   "cell_type": "code",
   "execution_count": 10,
   "source": [
    "new_family.FamilyTypes[0].Parameters[0].Name = 'Miles to the sun'\r\n",
    "new_family.post()\r\n"
   ],
   "outputs": [],
   "metadata": {}
  },
  {
   "cell_type": "code",
   "execution_count": 2,
   "source": [
    "fams = []\r\n",
    "fam1_json = Family.get_json('f17e2264-c6e1-467d-a7a8-df9459f93d43')\r\n",
    "fam1 = Family.from_json(fam1_json)\r\n",
    "fams.append(fam1)\r\n",
    "\r\n",
    "new_group = Family('Model Group', LoadMethod=1, CategoryName='Uggghh', FamilyObjectType='ModelGroup', GroupedFamilies=fams)"
   ],
   "outputs": [
    {
     "output_type": "execute_result",
     "data": {
      "text/plain": [
       "Family(Face-Based Test, 2, 1, Model Groups/Test, ModelGroup, [Property(TitleHeader, Face-Based, False, 358586), Property(TitleSubheader, Model Group Test, False, 358587)], [Parameter(ADD_Locks, 1, False, 4746, Boolean, Instance, 0, False)], [File(face-test_Medium.jpg, FamilyImageMedium, False, None), File(face-test_Small.jpg, FamilyImageSmall, False, None), File(face-test_Large.jpg, FamilyImageLarge, False, None), File(Face-Based-Test.rvt, FamilyRevitFile, False, None)], False)"
      ]
     },
     "metadata": {},
     "execution_count": 2
    }
   ],
   "metadata": {}
  }
 ],
 "metadata": {
  "orig_nbformat": 4,
  "language_info": {
   "name": "python",
   "version": "3.8.5",
   "mimetype": "text/x-python",
   "codemirror_mode": {
    "name": "ipython",
    "version": 3
   },
   "pygments_lexer": "ipython3",
   "nbconvert_exporter": "python",
   "file_extension": ".py"
  },
  "kernelspec": {
   "name": "python3",
   "display_name": "Python 3.8.5 64-bit ('venv': venv)"
  },
  "interpreter": {
   "hash": "e51067d2f6be7bdc69cc790600142f68999599c9c8fe7e42393a2fecc546810f"
  }
 },
 "nbformat": 4,
 "nbformat_minor": 2
}