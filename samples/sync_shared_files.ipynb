{
 "cells": [
  {
   "cell_type": "code",
   "execution_count": 1,
   "source": [
    "from tqdm import tqdm\r\n",
    "\r\n",
    "from fetchbim.notion import NotionDatabase\r\n",
    "from fetchbim.query import SharedFile\r\n",
    "from fetchbim.teams import sync_complete_msg"
   ],
   "outputs": [],
   "metadata": {}
  },
  {
   "cell_type": "code",
   "execution_count": 4,
   "source": [
    "db_rules = SharedFile.get_all()\r\n",
    "print(\"{} rules in database\".format(len(db_rules)))\r\n",
    "# Notion to Admin and back\r\n",
    "rules = NotionDatabase.get_all('Shared Rules')\r\n",
    "print(\"{} rules in Notion\".format(len(rules)))"
   ],
   "outputs": [
    {
     "output_type": "stream",
     "name": "stdout",
     "text": [
      "120 rules in database\n",
      "120 rules in Notion\n"
     ]
    }
   ],
   "metadata": {}
  },
  {
   "cell_type": "code",
   "execution_count": 3,
   "source": [
    "for rule in tqdm(rules):\r\n",
    "    # notion to python object\r\n",
    "    shared_rule = SharedFile.from_notion(rule)\r\n",
    "    # object to DB\r\n",
    "    shared_rule.post()"
   ],
   "outputs": [
    {
     "output_type": "stream",
     "name": "stderr",
     "text": [
      "100%|██████████| 120/120 [06:52<00:00,  3.44s/it]\n"
     ]
    }
   ],
   "metadata": {}
  },
  {
   "cell_type": "code",
   "execution_count": 4,
   "source": [
    "# # Clean slate in notion\r\n",
    "SharedFile.archive_notion('Shared Rules')\r\n",
    "SharedFile.archive_notion('Shared Attributes')"
   ],
   "outputs": [],
   "metadata": {}
  },
  {
   "cell_type": "code",
   "execution_count": 2,
   "source": [
    "table_dict = {}\r\n",
    "count = 0\r\n",
    "# DB data to notion\r\n",
    "db_rules = SharedFile.get_all()\r\n",
    "shared_rules_ids = [x['SharedFileId'] for x in db_rules]\r\n",
    "for id_ in tqdm(shared_rules_ids):\r\n",
    "    sf = SharedFile.from_json(id_)\r\n",
    "    sf.to_notion()\r\n",
    "    count += 1\r\n",
    "\r\n",
    "table_dict['Total Shared Rules'] = count\r\n",
    "sync_complete_msg(\r\n",
    "    title=\"Shared Rule Sync Complete\",\r\n",
    "    message=\"Two way sync between Notion 'Shared Rules' database and admin 'Shared Files' successfully completed\",\r\n",
    "    button=(\"Shared Rules\", \"https://www.notion.so/fetchbim/fd52b1109cf04974b9a76f71a25afc18\"),\r\n",
    "    table_dict=table_dict\r\n",
    ")"
   ],
   "outputs": [
    {
     "output_type": "stream",
     "name": "stderr",
     "text": [
      "100%|██████████| 120/120 [16:31<00:00,  8.26s/it]\n"
     ]
    }
   ],
   "metadata": {}
  }
 ],
 "metadata": {
  "orig_nbformat": 4,
  "language_info": {
   "name": "python",
   "version": "3.8.5",
   "mimetype": "text/x-python",
   "codemirror_mode": {
    "name": "ipython",
    "version": 3
   },
   "pygments_lexer": "ipython3",
   "nbconvert_exporter": "python",
   "file_extension": ".py"
  },
  "kernelspec": {
   "name": "python3",
   "display_name": "Python 3.8.5 64-bit ('venv': venv)"
  },
  "interpreter": {
   "hash": "8a517bb6487a6d0afee10a2839dbc59124d20f7320cb08b34273c7e0d80d8489"
  }
 },
 "nbformat": 4,
 "nbformat_minor": 2
}