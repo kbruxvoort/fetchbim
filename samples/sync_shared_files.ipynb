{
 "cells": [
  {
   "cell_type": "code",
   "execution_count": 36,
   "metadata": {},
   "outputs": [],
   "source": [
    "import httpx\n",
    "import asyncio\n",
    "import requests\n",
    "\n",
    "from tqdm import tqdm\n",
    "\n",
    "from fetchbim.notion import Database, get_all_pages, Page\n",
    "from fetchbim.fetch import SharedRule, SharedAttribute\n",
    "from fetchbim import an_client, NOTION_HEADERS\n",
    "# from fetchbim.teams import sync_complete_msg"
   ]
  },
  {
   "cell_type": "code",
   "execution_count": 37,
   "metadata": {},
   "outputs": [],
   "source": [
    "def http_get_sync(url):\n",
    "    response = requests.get(url, headers=NOTION_HEADERS)\n",
    "    return response.json()\n",
    "\n",
    "async def http_get(url):\n",
    "    return await asyncio.to_thread(http_get_sync, url)"
   ]
  },
  {
   "cell_type": "code",
   "execution_count": 44,
   "metadata": {},
   "outputs": [],
   "source": [
    "async def get_page_by_id(page_id):\n",
    "    url = f\"https://api.notion.com/v1/pages/{page_id}\"\n",
    "    r = await http_get(url)\n",
    "    return r\n",
    "\n",
    "async def main(id_list):\n",
    "    results = await asyncio.gather(*[get_page_by_id(_id) for _id in id_list])\n",
    "    pages = [SharedAttribute.from_notion_page(Page(**r)) for r in results]\n",
    "    return pages"
   ]
  },
  {
   "cell_type": "code",
   "execution_count": 27,
   "metadata": {},
   "outputs": [
    {
     "name": "stdout",
     "output_type": "stream",
     "text": [
      "136 rules in database\n",
      "136 rules in Notion\n"
     ]
    }
   ],
   "source": [
    "db_rules = SharedRule.get_shared_rules()\n",
    "print(\"{} rules in database\".format(len(db_rules)))\n",
    "# Notion to Admin and back\n",
    "rules = get_all_pages('fd52b1109cf04974b9a76f71a25afc18')\n",
    "attrs = get_all_pages('b734013d16164030a941e07ff000d0a5')\n",
    "print(\"{} rules in Notion\".format(len(rules)))"
   ]
  },
  {
   "cell_type": "code",
   "execution_count": 28,
   "metadata": {},
   "outputs": [],
   "source": [
    "page_ids = rules[0].properties['SharedAttributes'].get_value()"
   ]
  },
  {
   "cell_type": "code",
   "execution_count": 49,
   "metadata": {},
   "outputs": [],
   "source": [
    "for page_id in page_ids:\n",
    "    await get_page_by_id(page_id)"
   ]
  },
  {
   "cell_type": "code",
   "execution_count": 48,
   "metadata": {},
   "outputs": [
    {
     "data": {
      "text/plain": [
       "[SharedAttribute(id=9337, name='IFC', value='Furniture', attribute_type=1, sort=0, hidden=False, deleted=False, parameter_type=None, data_type=None),\n",
       " SharedAttribute(id=9338, name='BIMobject Category', value='Furniture: Shelving & Storage', attribute_type=1, sort=0, hidden=False, deleted=False, parameter_type=None, data_type=None),\n",
       " SharedAttribute(id=9339, name='Tags', value='MityBilt, MIB, 342338', attribute_type=1, sort=0, hidden=False, deleted=False, parameter_type=None, data_type=None),\n",
       " SharedAttribute(id=9340, name='Primary Material', value='High pressure laminate', attribute_type=1, sort=0, hidden=False, deleted=False, parameter_type=None, data_type=None),\n",
       " SharedAttribute(id=9341, name='Assembly Code', value='E20', attribute_type=0, sort=0, hidden=False, deleted=False, parameter_type='Type', data_type='Text'),\n",
       " SharedAttribute(id=9342, name='Manufacturer', value='Southwest Solutions Group_MIB', attribute_type=0, sort=0, hidden=False, deleted=False, parameter_type='Type', data_type='Text')]"
      ]
     },
     "execution_count": 48,
     "metadata": {},
     "output_type": "execute_result"
    }
   ],
   "source": [
    "await main(page_ids)"
   ]
  },
  {
   "cell_type": "code",
   "execution_count": 4,
   "metadata": {},
   "outputs": [
    {
     "ename": "ValidationError",
     "evalue": "6 validation errors for SharedRule\nAttributes -> 0\n  value is not a valid dict (type=type_error.dict)\nAttributes -> 1\n  value is not a valid dict (type=type_error.dict)\nAttributes -> 2\n  value is not a valid dict (type=type_error.dict)\nAttributes -> 3\n  value is not a valid dict (type=type_error.dict)\nAttributes -> 4\n  value is not a valid dict (type=type_error.dict)\nAttributes -> 5\n  value is not a valid dict (type=type_error.dict)",
     "output_type": "error",
     "traceback": [
      "\u001b[1;31m---------------------------------------------------------------------------\u001b[0m",
      "\u001b[1;31mValidationError\u001b[0m                           Traceback (most recent call last)",
      "\u001b[1;32mz:\\Kyle\\Python Projects\\fetchbim\\samples\\sync_shared_files.ipynb Cell 4'\u001b[0m in \u001b[0;36m<cell line: 1>\u001b[1;34m()\u001b[0m\n\u001b[1;32m----> <a href='vscode-notebook-cell:/z%3A/Kyle/Python%20Projects/fetchbim/samples/sync_shared_files.ipynb#ch0000003?line=0'>1</a>\u001b[0m sr \u001b[39m=\u001b[39m SharedRule\u001b[39m.\u001b[39;49mfrom_notion_page(rules[\u001b[39m0\u001b[39;49m])\n",
      "File \u001b[1;32m\\\\192.168.10.8\\share\\kyle\\python projects\\fetchbim\\fetchbim\\fetch\\shared_rule.py:46\u001b[0m, in \u001b[0;36mSharedRule.from_notion_page\u001b[1;34m(cls, page)\u001b[0m\n\u001b[0;32m     44\u001b[0m \u001b[39m@classmethod\u001b[39m\n\u001b[0;32m     45\u001b[0m \u001b[39mdef\u001b[39;00m \u001b[39mfrom_notion_page\u001b[39m(\u001b[39mcls\u001b[39m, page: Page) \u001b[39m-\u001b[39m\u001b[39m>\u001b[39m SharedRule:\n\u001b[1;32m---> 46\u001b[0m     \u001b[39mreturn\u001b[39;00m \u001b[39mcls\u001b[39;49m(\n\u001b[0;32m     47\u001b[0m         name\u001b[39m=\u001b[39;49mpage\u001b[39m.\u001b[39;49mproperties[\u001b[39m\"\u001b[39;49m\u001b[39mDescription\u001b[39;49m\u001b[39m\"\u001b[39;49m]\u001b[39m.\u001b[39;49mget_value(),\n\u001b[0;32m     48\u001b[0m         category_name\u001b[39m=\u001b[39;49mpage\u001b[39m.\u001b[39;49mproperties[\u001b[39m\"\u001b[39;49m\u001b[39mCategoryName\u001b[39;49m\u001b[39m\"\u001b[39;49m]\u001b[39m.\u001b[39;49mget_value(),\n\u001b[0;32m     49\u001b[0m         family_object_type\u001b[39m=\u001b[39;49mpage\u001b[39m.\u001b[39;49mproperties[\u001b[39m\"\u001b[39;49m\u001b[39mFamilyObjectType\u001b[39;49m\u001b[39m\"\u001b[39;49m]\u001b[39m.\u001b[39;49mget_value(),\n\u001b[0;32m     50\u001b[0m         deleted\u001b[39m=\u001b[39;49mpage\u001b[39m.\u001b[39;49mproperties[\u001b[39m\"\u001b[39;49m\u001b[39mDeleted\u001b[39;49m\u001b[39m\"\u001b[39;49m]\u001b[39m.\u001b[39;49mget_value(),\n\u001b[0;32m     51\u001b[0m         parameter_name\u001b[39m=\u001b[39;49mpage\u001b[39m.\u001b[39;49mproperties[\u001b[39m\"\u001b[39;49m\u001b[39mParameterName\u001b[39;49m\u001b[39m\"\u001b[39;49m]\u001b[39m.\u001b[39;49mget_value(),\n\u001b[0;32m     52\u001b[0m         parameter_value\u001b[39m=\u001b[39;49mpage\u001b[39m.\u001b[39;49mproperties[\u001b[39m\"\u001b[39;49m\u001b[39mParameterValue\u001b[39;49m\u001b[39m\"\u001b[39;49m]\u001b[39m.\u001b[39;49mget_value(),\n\u001b[0;32m     53\u001b[0m         parameter_match_type\u001b[39m=\u001b[39;49mpage\u001b[39m.\u001b[39;49mproperties[\u001b[39m\"\u001b[39;49m\u001b[39mParameterValueMatchType\u001b[39;49m\u001b[39m\"\u001b[39;49m]\u001b[39m.\u001b[39;49mget_value(),\n\u001b[0;32m     54\u001b[0m         files\u001b[39m=\u001b[39;49mpage\u001b[39m.\u001b[39;49mproperties[\u001b[39m\"\u001b[39;49m\u001b[39mFiles\u001b[39;49m\u001b[39m\"\u001b[39;49m]\u001b[39m.\u001b[39;49mget_value(),\n\u001b[0;32m     55\u001b[0m         attributes\u001b[39m=\u001b[39;49mpage\u001b[39m.\u001b[39;49mproperties[\u001b[39m\"\u001b[39;49m\u001b[39mSharedAttributes\u001b[39;49m\u001b[39m\"\u001b[39;49m]\u001b[39m.\u001b[39;49mget_value(),\n\u001b[0;32m     56\u001b[0m     )\n",
      "File \u001b[1;32mz:\\Kyle\\Python Projects\\fetchbim\\venv\\lib\\site-packages\\pydantic\\main.py:331\u001b[0m, in \u001b[0;36mpydantic.main.BaseModel.__init__\u001b[1;34m()\u001b[0m\n",
      "\u001b[1;31mValidationError\u001b[0m: 6 validation errors for SharedRule\nAttributes -> 0\n  value is not a valid dict (type=type_error.dict)\nAttributes -> 1\n  value is not a valid dict (type=type_error.dict)\nAttributes -> 2\n  value is not a valid dict (type=type_error.dict)\nAttributes -> 3\n  value is not a valid dict (type=type_error.dict)\nAttributes -> 4\n  value is not a valid dict (type=type_error.dict)\nAttributes -> 5\n  value is not a valid dict (type=type_error.dict)"
     ]
    }
   ],
   "source": [
    "sr = SharedRule.from_notion_page(rules[0])"
   ]
  },
  {
   "cell_type": "code",
   "execution_count": 5,
   "metadata": {},
   "outputs": [
    {
     "ename": "NameError",
     "evalue": "name 'sr' is not defined",
     "output_type": "error",
     "traceback": [
      "\u001b[1;31m---------------------------------------------------------------------------\u001b[0m",
      "\u001b[1;31mNameError\u001b[0m                                 Traceback (most recent call last)",
      "\u001b[1;32mz:\\Kyle\\Python Projects\\fetchbim\\samples\\sync_shared_files.ipynb Cell 5'\u001b[0m in \u001b[0;36m<cell line: 1>\u001b[1;34m()\u001b[0m\n\u001b[1;32m----> <a href='vscode-notebook-cell:/z%3A/Kyle/Python%20Projects/fetchbim/samples/sync_shared_files.ipynb#ch0000007?line=0'>1</a>\u001b[0m sr\n",
      "\u001b[1;31mNameError\u001b[0m: name 'sr' is not defined"
     ]
    }
   ],
   "source": [
    "sr"
   ]
  },
  {
   "cell_type": "code",
   "execution_count": 3,
   "metadata": {},
   "outputs": [
    {
     "name": "stderr",
     "output_type": "stream",
     "text": [
      "100%|██████████| 120/120 [06:52<00:00,  3.44s/it]\n"
     ]
    }
   ],
   "source": [
    "for rule in tqdm(rules):\n",
    "    # notion to python object\n",
    "    shared_rule = SharedRule.from_notion(rule)\n",
    "    # object to DB\n",
    "    shared_rule.post()"
   ]
  },
  {
   "cell_type": "code",
   "execution_count": 4,
   "metadata": {},
   "outputs": [],
   "source": [
    "# # Clean slate in notion\n",
    "SharedFile.archive_notion('Shared Rules')\n",
    "SharedFile.archive_notion('Shared Attributes')"
   ]
  },
  {
   "cell_type": "code",
   "execution_count": 2,
   "metadata": {},
   "outputs": [
    {
     "name": "stderr",
     "output_type": "stream",
     "text": [
      "100%|██████████| 120/120 [16:31<00:00,  8.26s/it]\n"
     ]
    }
   ],
   "source": [
    "table_dict = {}\n",
    "count = 0\n",
    "# DB data to notion\n",
    "db_rules = SharedFile.get_all()\n",
    "shared_rules_ids = [x['SharedFileId'] for x in db_rules]\n",
    "for id_ in tqdm(shared_rules_ids):\n",
    "    sf = SharedFile.from_json(id_)\n",
    "    sf.to_notion()\n",
    "    count += 1\n",
    "\n",
    "table_dict['Total Shared Rules'] = count\n",
    "sync_complete_msg(\n",
    "    title=\"Shared Rule Sync Complete\",\n",
    "    message=\"Two way sync between Notion 'Shared Rules' database and admin 'Shared Files' successfully completed\",\n",
    "    button=(\"Shared Rules\", \"https://www.notion.so/fetchbim/fd52b1109cf04974b9a76f71a25afc18\"),\n",
    "    table_dict=table_dict\n",
    ")"
   ]
  }
 ],
 "metadata": {
  "kernelspec": {
   "display_name": "Python 3.10.2 ('venv': venv)",
   "language": "python",
   "name": "python3"
  },
  "language_info": {
   "codemirror_mode": {
    "name": "ipython",
    "version": 3
   },
   "file_extension": ".py",
   "mimetype": "text/x-python",
   "name": "python",
   "nbconvert_exporter": "python",
   "pygments_lexer": "ipython3",
   "version": "3.10.2"
  },
  "orig_nbformat": 4,
  "vscode": {
   "interpreter": {
    "hash": "6d505efb51d765ea8321fddb09b311db5528d8d5e9bff0b1b7bdda455f331c73"
   }
  }
 },
 "nbformat": 4,
 "nbformat_minor": 2
}
