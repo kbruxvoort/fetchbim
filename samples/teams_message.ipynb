{
 "cells": [
  {
   "cell_type": "code",
   "execution_count": 1,
   "source": [
    "from fetchbim.teams import sync_complete_msg"
   ],
   "outputs": [],
   "metadata": {}
  },
  {
   "cell_type": "code",
   "execution_count": 2,
   "source": [
    "table = {\r\n",
    "    \"Best employee\": \"Not Sean\",\r\n",
    "    \"Best doggie\": 'Leia',\r\n",
    "    \"Dictionary\": \"Do those still exist?\"\r\n",
    "}\r\n",
    "\r\n",
    "sync_complete_msg(\r\n",
    "    title='Hello there, new hire...', \r\n",
    "    message='I bet you regret this decision', \r\n",
    "    button=('Click this for important training', 'https://www.youtube.com/watch?v=dQw4w9WgXcQ'),\r\n",
    "    table_dict=table)"
   ],
   "outputs": [],
   "metadata": {}
  }
 ],
 "metadata": {
  "orig_nbformat": 4,
  "language_info": {
   "name": "python",
   "version": "3.8.5",
   "mimetype": "text/x-python",
   "codemirror_mode": {
    "name": "ipython",
    "version": 3
   },
   "pygments_lexer": "ipython3",
   "nbconvert_exporter": "python",
   "file_extension": ".py"
  },
  "kernelspec": {
   "name": "python3",
   "display_name": "Python 3.8.5 64-bit ('venv': venv)"
  },
  "interpreter": {
   "hash": "8a517bb6487a6d0afee10a2839dbc59124d20f7320cb08b34273c7e0d80d8489"
  }
 },
 "nbformat": 4,
 "nbformat_minor": 2
}