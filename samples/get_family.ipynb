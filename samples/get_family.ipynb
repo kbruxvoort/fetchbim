{
 "cells": [
  {
   "cell_type": "code",
   "execution_count": 40,
   "source": [
    "from fetchbim.family import Family\r\n",
    "from fetchbim.query import Filter\r\n",
    "from fetchbim.admin import get_family"
   ],
   "outputs": [],
   "metadata": {}
  },
  {
   "cell_type": "code",
   "execution_count": 41,
   "source": [
    "ham_filter = Filter(ParameterName='zM', ParameterValue='28552', ParameterValueMatchType=3, FileKey='PDF-Warranty')\r\n",
    "families = ham_filter.query()"
   ],
   "outputs": [],
   "metadata": {}
  },
  {
   "cell_type": "code",
   "execution_count": 44,
   "source": [
    "fam = Family.from_json(families[0])\r\n",
    "full_fam = Family.from_json(get_family(fam.Id))\r\n",
    "full_fam.Files"
   ],
   "outputs": [
    {
     "output_type": "execute_result",
     "data": {
      "text/plain": [
       "[File(FilePath=SSG modular_casework_laminate_architecture_spec.docx, FileKey=DOC-CSISpec , Deleted=False, FileData=None),\n",
       " File(FilePath=Laminate_Pharmacy_Back_Attachment_Panel_Base_Cabinet_Large.png, FileKey=FamilyImageLarge, Deleted=False, FileData=None),\n",
       " File(FilePath=Laminate_Pharmacy_Back_Attachment_Panel_Base_Cabinet_Medium.png, FileKey=FamilyImageMedium, Deleted=False, FileData=None),\n",
       " File(FilePath=Laminate_Pharmacy_Back_Attachment_Panel_Base_Cabinet_Small.png, FileKey=FamilyImageSmall, Deleted=False, FileData=None),\n",
       " File(FilePath=SSG_Panel_Pharmacy_Back_LAM.rfa, FileKey=FamilyRevitFile, Deleted=False, FileData=None),\n",
       " File(FilePath=SSG_Panel_Pharmacy_Back_LAM.rfa, FileKey=FamilyRevitFile2016, Deleted=False, FileData=None),\n",
       " File(FilePath=SSG_Panel_Pharmacy_Back_LAM.rfa, FileKey=FamilyRevitFile2017, Deleted=False, FileData=None),\n",
       " File(FilePath=SSG_Panel_Pharmacy_Back_LAM.rfa, FileKey=FamilyRevitFile2018, Deleted=False, FileData=None),\n",
       " File(FilePath=SSG_Panel_Pharmacy_Back_LAM.rfa, FileKey=FamilyRevitFile2019, Deleted=False, FileData=None),\n",
       " File(FilePath=SSG_Panel_Pharmacy_Back_LAM.rfa, FileKey=FamilyRevitFile2020, Deleted=False, FileData=None),\n",
       " File(FilePath=SSG_Panel_Pharmacy_Back_LAM.rfa, FileKey=FamilyRevitFile2021, Deleted=False, FileData=None),\n",
       " File(FilePath=SSG_HAM_Laminates.zip, FileKey=MaterialLibrary, Deleted=False, FileData=None),\n",
       " File(FilePath=FINISH_OPTIONS_SSG_HAM.pdf, FileKey=PDF-FinishOptions, Deleted=False, FileData=None),\n",
       " File(FilePath=modularcasework_laminate_spec_guide.pdf, FileKey=PDF-SpecManual, Deleted=False, FileData=None),\n",
       " File(FilePath=modularcasework_laminate_sustainability.pdf, FileKey=PDF-Sustainability, Deleted=False, FileData=None),\n",
       " File(FilePath=modularcasework_laminate_warranty.pdf, FileKey=PDF-Warranty, Deleted=False, FileData=None)]"
      ]
     },
     "metadata": {},
     "execution_count": 44
    }
   ],
   "metadata": {}
  },
  {
   "cell_type": "code",
   "execution_count": 27,
   "source": [
    "# fam = Family.from_json(admin.get_family('73da14be-e687-4465-9c8d-07483ec7e159'))\r\n",
    "for fam_dict in families:\r\n",
    "    fam = Family.from_json(fam_dict)\r\n",
    "    for param in fam.Parameters:\r\n",
    "        if param.ParameterId == -1:\r\n",
    "            print(param.Name)\r\n",
    "    for prop in fam.Properties:\r\n",
    "        if prop.Id == -1:\r\n",
    "            print(prop.Name)"
   ],
   "outputs": [],
   "metadata": {}
  }
 ],
 "metadata": {
  "orig_nbformat": 4,
  "language_info": {
   "name": "python",
   "version": "3.8.5",
   "mimetype": "text/x-python",
   "codemirror_mode": {
    "name": "ipython",
    "version": 3
   },
   "pygments_lexer": "ipython3",
   "nbconvert_exporter": "python",
   "file_extension": ".py"
  },
  "kernelspec": {
   "name": "python3",
   "display_name": "Python 3.8.5 64-bit ('venv': venv)"
  },
  "interpreter": {
   "hash": "8a517bb6487a6d0afee10a2839dbc59124d20f7320cb08b34273c7e0d80d8489"
  }
 },
 "nbformat": 4,
 "nbformat_minor": 2
}