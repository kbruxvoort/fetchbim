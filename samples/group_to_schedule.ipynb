{
 "cells": [
  {
   "cell_type": "code",
   "execution_count": 4,
   "metadata": {},
   "outputs": [],
   "source": [
    "import os\n",
    "from fetchbim import Client, ObjectType"
   ]
  },
  {
   "cell_type": "code",
   "execution_count": 3,
   "metadata": {},
   "outputs": [],
   "source": [
    "fetch = Client(auth=os.environ[\"BIM_KEY\"])"
   ]
  },
  {
   "cell_type": "code",
   "execution_count": 16,
   "metadata": {},
   "outputs": [],
   "source": [
    "exam_groups = fetch.families.search(\n",
    "    family_object_type=ObjectType.GROUP, \n",
    "    category_name='Model Groups/Modular Casework/Laminate/Exam Room'\n",
    ")"
   ]
  },
  {
   "cell_type": "code",
   "execution_count": 19,
   "metadata": {},
   "outputs": [
    {
     "name": "stdout",
     "output_type": "stream",
     "text": [
      "30\n"
     ]
    }
   ],
   "source": [
    "print(len(exam_groups))"
   ]
  },
  {
   "cell_type": "code",
   "execution_count": null,
   "metadata": {},
   "outputs": [],
   "source": [
    "for group in exam_groups:\n",
    "    print(group.id)"
   ]
  },
  {
   "cell_type": "code",
   "execution_count": 20,
   "metadata": {},
   "outputs": [],
   "source": [
    "first_group = fetch.families.retrieve(exam_groups[0].id)"
   ]
  },
  {
   "cell_type": "code",
   "execution_count": 35,
   "metadata": {},
   "outputs": [],
   "source": [
    "items = [f for f in first_group.grouped_families if f.child_family_id != \"8c7feebe-76c9-4374-a997-8c53bc1d13ef\"]"
   ]
  },
  {
   "cell_type": "code",
   "execution_count": 41,
   "metadata": {},
   "outputs": [
    {
     "name": "stdout",
     "output_type": "stream",
     "text": [
      "SSG_Cabinet_Base_Sink_2_Door_LAM is HAM\n",
      "\tWidth: 3.5\n",
      "\tDepth: 2\n",
      "\tHeight: 2.91666666666667\n",
      "SSG_Cabinet_Base_2_Door_1_Drawer_LAM is HAM\n",
      "\tWidth: 3.5\n",
      "\tDepth: 2\n",
      "\tHeight: 2.91666666666667\n",
      "SSG_Countertop_LAM is HAM\n",
      "\tWidth: 7\n",
      "\tDepth: 2.08333333333333\n",
      "\tOFFSET_Top of Counter: 3\n",
      "SSG_Cabinet_Wall_2_Door_LAM is HAM\n",
      "\tWidth: 3.5\n",
      "\tDepth: 1.16666666666667\n",
      "\tHeight: 2\n",
      "SSG_Cabinet_Wall_2_Door_LAM is HAM\n",
      "\tWidth: 3.5\n",
      "\tDepth: 1.16666666666667\n",
      "\tHeight: 2.5\n"
     ]
    }
   ],
   "source": [
    "for i in items:\n",
    "    \n",
    "    fam = fetch.families.retrieve(i.child_family_id)\n",
    "    for param in fam.parameters:\n",
    "        # print(param.name)\n",
    "        if param.name == 'zM':\n",
    "            if '28552' in param.value:\n",
    "                print(f'{fam.name} is HAM')\n",
    "                for child_param in i.parameters:\n",
    "                    print(f'\\t{child_param.name}: {child_param.value}')\n",
    "                break"
   ]
  },
  {
   "cell_type": "code",
   "execution_count": 22,
   "metadata": {},
   "outputs": [],
   "source": [
    "fieldnames = [\"Room: Name\", \"Type\", \"Count\", \"Actual Width\", \"Actual Depth\", \"Actual Height\", \"Notching\", \"Additional Shelves\"]"
   ]
  },
  {
   "cell_type": "code",
   "execution_count": null,
   "metadata": {},
   "outputs": [],
   "source": [
    "'''\n",
    "Needed parameters\n",
    "    zP\n",
    "    Width\n",
    "    Depth\n",
    "    Height\n",
    "'''"
   ]
  }
 ],
 "metadata": {
  "kernelspec": {
   "display_name": "venv",
   "language": "python",
   "name": "python3"
  },
  "language_info": {
   "codemirror_mode": {
    "name": "ipython",
    "version": 3
   },
   "file_extension": ".py",
   "mimetype": "text/x-python",
   "name": "python",
   "nbconvert_exporter": "python",
   "pygments_lexer": "ipython3",
   "version": "3.10.2"
  },
  "orig_nbformat": 4,
  "vscode": {
   "interpreter": {
    "hash": "6d505efb51d765ea8321fddb09b311db5528d8d5e9bff0b1b7bdda455f331c73"
   }
  }
 },
 "nbformat": 4,
 "nbformat_minor": 2
}
